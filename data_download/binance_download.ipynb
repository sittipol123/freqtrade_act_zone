{
 "metadata": {
  "language_info": {
   "codemirror_mode": {
    "name": "ipython",
    "version": 3
   },
   "file_extension": ".py",
   "mimetype": "text/x-python",
   "name": "python",
   "nbconvert_exporter": "python",
   "pygments_lexer": "ipython3",
   "version": "3.8.5"
  },
  "orig_nbformat": 2,
  "kernelspec": {
   "name": "python3",
   "display_name": "Python 3",
   "language": "python"
  }
 },
 "nbformat": 4,
 "nbformat_minor": 2,
 "cells": [
  {
   "cell_type": "code",
   "execution_count": 8,
   "metadata": {},
   "outputs": [],
   "source": [
    "import os\n",
    "from binance.client import Client\n"
   ]
  },
  {
   "cell_type": "code",
   "execution_count": 9,
   "metadata": {},
   "outputs": [],
   "source": [
    "# init\n",
    "api_key = os.environ.get('tlWt4uZtRKphVI7EDeUeHuVoxqMkwMCySrEZfP2cCBnqqeXcxi62ohjspMbTYJzj')\n",
    "api_secret = os.environ.get('FIVrfPYIcIDZMuxmokbtxp2uQu43N6m5ykXxFSZV8ts11wTY4WNP8Y50AuURoW82')"
   ]
  },
  {
   "cell_type": "code",
   "execution_count": 10,
   "metadata": {},
   "outputs": [],
   "source": [
    "\n",
    "client = Client(api_key, api_secret)\n"
   ]
  },
  {
   "cell_type": "code",
   "execution_count": 12,
   "metadata": {},
   "outputs": [],
   "source": [
    "import numpy as np\n",
    "import pandas as pd\n",
    "\n",
    "symbol = \"BNBUSDT\"\n",
    "timeframe = client.KLINE_INTERVAL_4HOUR \n",
    "# fetch 30 minute klines for the last month of 2017\n",
    "\n",
    "klines = client.get_historical_klines(symbol=symbol, interval=timeframe, start_str=\"1 Dec, 2017\")\n",
    "df =  pd.DataFrame(klines)\n",
    "dfFreqTrade = df.iloc[:,:6]\n",
    "\n",
    "file = open(r'F:\\\\data\\\\crypto\\\\'+symbol+'-'+timeframe+'.json', \"w+\")\n",
    "arrayFreqTrade = np.array(dfFreqTrade.values)\n",
    "# Saving the 2D array in a text file\n",
    "\n",
    "file.write('[')\n",
    "secondLast = len(arrayFreqTrade) - 1\n",
    "for i in range(secondLast):\n",
    "    content = np.array2string(arrayFreqTrade[i],separator=',').replace('\\'','').replace('\\n','') + ','\n",
    "    file.write(content)\n",
    "\n",
    "content = np.array2string(arrayFreqTrade[i],separator=',').replace('\\'','').replace('\\n','')\n",
    "file.write(content)\n",
    "file.write(']')\n",
    "file.close()\n"
   ]
  },
  {
   "cell_type": "code",
   "execution_count": 13,
   "metadata": {},
   "outputs": [],
   "source": [
    "df_candle = pd.DataFrame(klines, columns = ['date', 'open', 'high', 'low', 'close', 'volume', 'close_time', 'Quote_asste_vol', 'Number_of_trade', 'buy_base_vol', 'buy_quo_vol', 'Ignore'])"
   ]
  },
  {
   "cell_type": "code",
   "execution_count": 14,
   "metadata": {},
   "outputs": [
    {
     "output_type": "execute_result",
     "data": {
      "text/plain": [
       "            date        open        high         low       close  \\\n",
       "0  1512086400000  1.95000000  1.98000000  1.88010000  1.98000000   \n",
       "1  1512100800000  1.97180000  2.01000000  1.90000000  1.96980000   \n",
       "2  1512115200000  1.96000000  2.02960000  1.96000000  2.02500000   \n",
       "3  1512129600000  2.02500000  2.13850000  2.01100000  2.04980000   \n",
       "4  1512144000000  2.04980000  2.04980000  1.98450000  2.01880000   \n",
       "\n",
       "            volume     close_time  Quote_asste_vol  Number_of_trade  \\\n",
       "0   49292.92000000  1512100799999   95794.14570100              425   \n",
       "1   36108.92000000  1512115199999   71105.44695500              309   \n",
       "2   35042.78000000  1512129599999   70341.94838700              218   \n",
       "3  114665.04000000  1512143999999  238523.74872700              615   \n",
       "4   47232.92000000  1512158399999   94868.04883900              468   \n",
       "\n",
       "     buy_base_vol      buy_quo_vol              Ignore  \n",
       "0  30277.12000000   58985.09404900  104731894.72013986  \n",
       "1  18598.55000000   36826.07212100  104723917.47425094  \n",
       "2  29803.70000000   59875.18500600  104723762.56548274  \n",
       "3  89920.19000000  186941.74517600  104737056.65601752  \n",
       "4  12779.77000000   25848.03642600  104731851.66051985  "
      ],
      "text/html": "<div>\n<style scoped>\n    .dataframe tbody tr th:only-of-type {\n        vertical-align: middle;\n    }\n\n    .dataframe tbody tr th {\n        vertical-align: top;\n    }\n\n    .dataframe thead th {\n        text-align: right;\n    }\n</style>\n<table border=\"1\" class=\"dataframe\">\n  <thead>\n    <tr style=\"text-align: right;\">\n      <th></th>\n      <th>date</th>\n      <th>open</th>\n      <th>high</th>\n      <th>low</th>\n      <th>close</th>\n      <th>volume</th>\n      <th>close_time</th>\n      <th>Quote_asste_vol</th>\n      <th>Number_of_trade</th>\n      <th>buy_base_vol</th>\n      <th>buy_quo_vol</th>\n      <th>Ignore</th>\n    </tr>\n  </thead>\n  <tbody>\n    <tr>\n      <th>0</th>\n      <td>1512086400000</td>\n      <td>1.95000000</td>\n      <td>1.98000000</td>\n      <td>1.88010000</td>\n      <td>1.98000000</td>\n      <td>49292.92000000</td>\n      <td>1512100799999</td>\n      <td>95794.14570100</td>\n      <td>425</td>\n      <td>30277.12000000</td>\n      <td>58985.09404900</td>\n      <td>104731894.72013986</td>\n    </tr>\n    <tr>\n      <th>1</th>\n      <td>1512100800000</td>\n      <td>1.97180000</td>\n      <td>2.01000000</td>\n      <td>1.90000000</td>\n      <td>1.96980000</td>\n      <td>36108.92000000</td>\n      <td>1512115199999</td>\n      <td>71105.44695500</td>\n      <td>309</td>\n      <td>18598.55000000</td>\n      <td>36826.07212100</td>\n      <td>104723917.47425094</td>\n    </tr>\n    <tr>\n      <th>2</th>\n      <td>1512115200000</td>\n      <td>1.96000000</td>\n      <td>2.02960000</td>\n      <td>1.96000000</td>\n      <td>2.02500000</td>\n      <td>35042.78000000</td>\n      <td>1512129599999</td>\n      <td>70341.94838700</td>\n      <td>218</td>\n      <td>29803.70000000</td>\n      <td>59875.18500600</td>\n      <td>104723762.56548274</td>\n    </tr>\n    <tr>\n      <th>3</th>\n      <td>1512129600000</td>\n      <td>2.02500000</td>\n      <td>2.13850000</td>\n      <td>2.01100000</td>\n      <td>2.04980000</td>\n      <td>114665.04000000</td>\n      <td>1512143999999</td>\n      <td>238523.74872700</td>\n      <td>615</td>\n      <td>89920.19000000</td>\n      <td>186941.74517600</td>\n      <td>104737056.65601752</td>\n    </tr>\n    <tr>\n      <th>4</th>\n      <td>1512144000000</td>\n      <td>2.04980000</td>\n      <td>2.04980000</td>\n      <td>1.98450000</td>\n      <td>2.01880000</td>\n      <td>47232.92000000</td>\n      <td>1512158399999</td>\n      <td>94868.04883900</td>\n      <td>468</td>\n      <td>12779.77000000</td>\n      <td>25848.03642600</td>\n      <td>104731851.66051985</td>\n    </tr>\n  </tbody>\n</table>\n</div>"
     },
     "metadata": {},
     "execution_count": 14
    }
   ],
   "source": [
    "df_candle.head()"
   ]
  }
 ]
}