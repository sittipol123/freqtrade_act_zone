{
 "metadata": {
  "language_info": {
   "codemirror_mode": {
    "name": "ipython",
    "version": 3
   },
   "file_extension": ".py",
   "mimetype": "text/x-python",
   "name": "python",
   "nbconvert_exporter": "python",
   "pygments_lexer": "ipython3",
   "version": "3.8.5"
  },
  "orig_nbformat": 2,
  "kernelspec": {
   "name": "python3",
   "display_name": "Python 3",
   "language": "python"
  }
 },
 "nbformat": 4,
 "nbformat_minor": 2,
 "cells": [
  {
   "cell_type": "code",
   "execution_count": 1,
   "metadata": {},
   "outputs": [],
   "source": [
    "import os\n",
    "from binance.client import Client\n",
    "import numpy as np\n",
    "import pandas as pd\n"
   ]
  },
  {
   "cell_type": "code",
   "execution_count": 2,
   "metadata": {},
   "outputs": [],
   "source": [
    "# init\n",
    "api_key = os.environ.get('tlWt4uZtRKphVI7EDeUeHuVoxqMkwMCySrEZfP2cCBnqqeXcxi62ohjspMbTYJzj')\n",
    "api_secret = os.environ.get('FIVrfPYIcIDZMuxmokbtxp2uQu43N6m5ykXxFSZV8ts11wTY4WNP8Y50AuURoW82')\n",
    "\n",
    "client = Client(api_key, api_secret)\n",
    "symbols = ['BTCUSDT']\n",
    "# symbols = [\n",
    "#      'BTCUSDT',\n",
    "#      'BNBUSDT',\n",
    "#      'BANDUSDT',\n",
    "#      'BTTUSDT',\n",
    "#      'DOTUSDT',\n",
    "#      'ETHUSDT',\n",
    "#      'EOSUSDT',\n",
    "#      'FRONTBUSD',\n",
    "#      'IOSTUSDT',\n",
    "#      'KNCUSDT',\n",
    "#      'LINKUSDT',\n",
    "#      'NEARUSDT',\n",
    "#      'LINKUSDT',\n",
    "#      'OMGUSDT',\n",
    "#      'RSRUSDT',\n",
    "#      'RUNEUSDT',\n",
    "#      'REEFUSDT',\n",
    "#      'SFPUSDT',\n",
    "#      'FRONTUSDT'\n",
    "#      ]\n",
    "path = 'F:\\\\data\\\\crypto\\\\'"
   ]
  },
  {
   "cell_type": "code",
   "execution_count": 3,
   "metadata": {},
   "outputs": [],
   "source": [
    "def download(symbol, timeframe):\n",
    "    klines = client.get_historical_klines(symbol=symbol, interval=timeframe, start_str=\"1 Jan, 2017\")\n",
    "    df =  pd.DataFrame(klines)\n",
    "    dfFreqTrade = df.iloc[:,:6]\n",
    "\n",
    "    file = open(path+symbol+'-'+timeframe+'.json', \"w+\")\n",
    "    arrayFreqTrade = np.array(dfFreqTrade.values)\n",
    "    # Saving the 2D array in a text file\n",
    "\n",
    "    file.write('[')\n",
    "    secondLast = len(arrayFreqTrade) - 1\n",
    "    for i in range(secondLast):\n",
    "        content = np.array2string(arrayFreqTrade[i],separator=',').replace('\\'','').replace('\\n','') + ','\n",
    "        file.write(content)\n",
    "\n",
    "    content = np.array2string(arrayFreqTrade[i],separator=',').replace('\\'','').replace('\\n','')\n",
    "    file.write(content)\n",
    "    file.write(']')\n",
    "    file.close()\n"
   ]
  },
  {
   "cell_type": "code",
   "execution_count": 4,
   "metadata": {},
   "outputs": [],
   "source": [
    "\n",
    "timeframe = client.KLINE_INTERVAL_5MINUTE\n",
    "# fetch 30 minute klines for the last month of 2017\n",
    "for index in range(len(symbols)):\n",
    "    symbol = symbols[index]\n",
    "    download(symbol, timeframe)   "
   ]
  },
  {
   "cell_type": "code",
   "execution_count": null,
   "metadata": {},
   "outputs": [],
   "source": []
  }
 ]
}