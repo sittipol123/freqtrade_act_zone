{
 "cells": [
  {
   "cell_type": "code",
   "execution_count": 1,
   "metadata": {},
   "outputs": [],
   "source": [
    "import os\n",
    "from binance.client import Client\n",
    "import numpy as np\n",
    "import pandas as pd\n"
   ]
  },
  {
   "cell_type": "code",
   "execution_count": 2,
   "metadata": {},
   "outputs": [],
   "source": [
    "# init\n",
    "api_key = os.environ.get('')\n",
    "api_secret = os.environ.get('')\n",
    "\n",
    "client = Client(api_key, api_secret)\n",
    "symbols = ['BTCBUSD']\n",
    "# symbols = [\n",
    "#     \"BNBBTC\",  \n",
    "#             \"ETHBTC\",\n",
    "#             \"DOTBTC\",\n",
    "#             \"AVAXBTC\",\n",
    "#             \"SOLBTC\",\n",
    "#             \"FETBTC\",\n",
    "#             \"MATICBTC\",\n",
    "#             \"NEARBTC\",\n",
    "#             \"OMGBTC\",\n",
    "#             \"ONEBTC\",\n",
    "#             \"ADABTC\",\n",
    "#             \"FLUXBTC\",\n",
    "       \n",
    "#             \"EGLDBTC\",\n",
    "#             \"FRONTBTC\",\n",
    "#             \"ATOMBTC\",\n",
    "#             \"BATBTC\",\n",
    "#             \"CELOBTC\",\n",
    "#             \"FLOWBTC\",\n",
    "#             \"LUNABTC\",\n",
    "#             \"RUNEBTC\",\n",
    "\n",
    "#             \"ALGOBTC\",\n",
    "#             \"LINKBTC\",\n",
    "#             \"IOSTBTC\",\n",
    "#             \"IOTABTC\",\n",
    "#             \"SANDBTC\",\n",
    "\n",
    "#             \"KNCBTC\"\n",
    "#      ]\n",
    "path = '/freqtrade/user_data/data/binance/'"
   ]
  },
  {
   "cell_type": "code",
   "execution_count": 3,
   "metadata": {},
   "outputs": [],
   "source": [
    "def download(symbol, timeframe):\n",
    "    stake_currency = 'BTC'\n",
    "    klines = client.get_historical_klines(symbol=symbol, interval=timeframe, start_str=\"1 Jan, 2017\")\n",
    "    df =  pd.DataFrame(klines)\n",
    "    dfFreqTrade = df.iloc[:,:6]\n",
    "    symbol.split('uset',)\n",
    "    file = open(path+symbol.split(stake_currency)[0]+'_'+stake_currency+'-'+timeframe+'.json', \"w+\")\n",
    "    arrayFreqTrade = np.array(dfFreqTrade.values)\n",
    "    # Saving the 2D array in a text file\n",
    "\n",
    "    file.write('[')\n",
    "    secondLast = len(arrayFreqTrade) - 1\n",
    "    for i in range(secondLast):\n",
    "        content = np.array2string(arrayFreqTrade[i],separator=',').replace('\\'','').replace('\\n','') + ','\n",
    "        file.write(content)\n",
    "\n",
    "    content = np.array2string(arrayFreqTrade[i],separator=',').replace('\\'','').replace('\\n','')\n",
    "    file.write(content)\n",
    "    file.write(']')\n",
    "    file.close()\n"
   ]
  },
  {
   "cell_type": "code",
   "execution_count": 4,
   "metadata": {},
   "outputs": [],
   "source": [
    "\n",
    "# timeframe = client.KLINE_INTERVAL_5MINUTE\n",
    "timeframe = client.KLINE_INTERVAL_4HOUR\n",
    "timeframe = client.KLINE_INTERVAL_15MINUTE\n",
    "#timeframe = client.KLINE_INTERVAL_1DAY\n",
    "# fetch 30 minute klines for the last month of 2017\n",
    "for index in range(len(symbols)):\n",
    "    symbol = symbols[index]\n",
    "    download(symbol, timeframe)   "
   ]
  },
  {
   "cell_type": "code",
   "execution_count": null,
   "metadata": {},
   "outputs": [],
   "source": []
  }
 ],
 "metadata": {
  "kernelspec": {
   "display_name": "Python 3 (ipykernel)",
   "language": "python",
   "name": "python3"
  },
  "language_info": {
   "codemirror_mode": {
    "name": "ipython",
    "version": 3
   },
   "file_extension": ".py",
   "mimetype": "text/x-python",
   "name": "python",
   "nbconvert_exporter": "python",
   "pygments_lexer": "ipython3",
   "version": "3.10.0"
  },
  "vscode": {
   "interpreter": {
    "hash": "078f7230d6ca81715883ca4bf6b6d9e3fce314d417cf6829827ad6b00d7babfc"
   }
  }
 },
 "nbformat": 4,
 "nbformat_minor": 4
}
