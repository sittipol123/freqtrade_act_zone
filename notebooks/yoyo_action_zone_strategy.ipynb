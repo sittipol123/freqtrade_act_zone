{
 "cells": [
  {
   "cell_type": "code",
   "execution_count": null,
   "metadata": {},
   "outputs": [],
   "source": [
    "from pathlib import Path\n",
    "from freqtrade.configuration import Configuration\n",
    "\n",
    "import pandas as pd\n",
    "import numpy as np\n",
    "import matplotlib.pyplot as plt\n",
    "plt.style.use(\"seaborn\")\n",
    "\n",
    "path='\\\\\\\\freqtrade\\\\user_data\\\\config\\\\'\n",
    "\n",
    "config = Configuration.from_files([path + \"config_binance_zone.json\"])\n",
    "\n",
    "data_location = Path(config['user_data_dir'], 'data', 'binance')\n",
    "\n",
    "pair = \"BTC_USDT\"\n"
   ]
  },
  {
   "cell_type": "code",
   "execution_count": null,
   "metadata": {},
   "outputs": [],
   "source": [
    "config[\"timeframe\"] = '4h'"
   ]
  },
  {
   "cell_type": "code",
   "execution_count": null,
   "metadata": {},
   "outputs": [],
   "source": [
    "# Load data using values set above\n",
    "from freqtrade.data.history import load_pair_history\n",
    "\n",
    "dataFrame = load_pair_history(datadir=data_location,\n",
    "                            timeframe=config[\"timeframe\"],\n",
    "                            pair=pair)\n",
    "\n",
    "# Confirm success\n",
    "print(\"Loaded \" + str(len(dataFrame)) + f\" rows of data for {pair} from {data_location}\")\n",
    "dataFrame.head()"
   ]
  },
  {
   "cell_type": "code",
   "execution_count": null,
   "metadata": {},
   "outputs": [],
   "source": [
    "dataFrame.head()"
   ]
  },
  {
   "cell_type": "code",
   "execution_count": null,
   "metadata": {},
   "outputs": [],
   "source": [
    "dataFrame.sort_values(by='date',ascending = False)\n",
    "dataFrame.info()"
   ]
  },
  {
   "cell_type": "code",
   "execution_count": null,
   "metadata": {},
   "outputs": [],
   "source": [
    "dataFrame.plot('date',['close'])\n",
    "plt.show()\n"
   ]
  },
  {
   "cell_type": "code",
   "execution_count": null,
   "metadata": {},
   "outputs": [],
   "source": [
    "date_data = dataFrame.set_index('date', drop=False)\n",
    "data_between = date_data['2018-01-01':'2019-01-01']\n",
    "data_between"
   ]
  },
  {
   "cell_type": "code",
   "execution_count": null,
   "metadata": {},
   "outputs": [],
   "source": [
    "data = dataFrame.set_index('date', drop=False)\n",
    "data_red = data['2021-01-01':'2021-06-10']\n",
    "data_red.plot('date',['close'])"
   ]
  },
  {
   "cell_type": "code",
   "execution_count": null,
   "metadata": {
    "scrolled": true
   },
   "outputs": [],
   "source": [
    "dataFrame"
   ]
  },
  {
   "cell_type": "code",
   "execution_count": null,
   "metadata": {},
   "outputs": [],
   "source": [
    "### Strategy"
   ]
  },
  {
   "cell_type": "code",
   "execution_count": null,
   "metadata": {},
   "outputs": [],
   "source": [
    " dataFrame = dataFrame.set_index('date', drop=False)\n",
    " dataFrame = dataFrame.sort_index()\n",
    " dataFrame"
   ]
  },
  {
   "cell_type": "code",
   "execution_count": null,
   "metadata": {},
   "outputs": [],
   "source": [
    "# Add your lib to import here\n",
    "import talib.abstract as ta\n",
    "import freqtrade.vendor.qtpylib.indicators as qtpylib\n",
    "import math\n",
    "\n",
    "emaFast = 12\n",
    "emaSlow = 26\n",
    "rsiPeriod = 14\n",
    "overBought = 80\n",
    "overSold = 30\n",
    "\n",
    "# Fast Trail \n",
    "atrFast = 6\n",
    "atrFM = 0.5 # fast ATR multiplier\n",
    "\n",
    "# Slow Trail \n",
    "atrSlow = 18 # Slow ATR perod\n",
    "atrSM = 2 # Slow ATR multiplier\n",
    "# real = ATR(high, low, close, timeperiod=14)\n",
    "\n",
    "dataFrame['ohlc4'] = (dataFrame['open'] + dataFrame['high'] + dataFrame['low'] + dataFrame['close']) / 4\n",
    "dataFrame['ema_fast'] = ta.EMA(dataFrame, timeperiod=emaFast)\n",
    "dataFrame['ema_slow'] = ta.EMA(dataFrame, timeperiod=emaSlow)\n",
    "dataFrame['rsi'] = ta.RSI(dataFrame, timeperiod=rsiPeriod)\n",
    "dataFrame['macd'] = dataFrame['ema_fast'] - dataFrame['ema_slow']\n",
    "dataFrame['bullish'] = dataFrame['macd'] > 0\n",
    "dataFrame['bearish'] = dataFrame['macd'] < 0\n",
    "\n",
    "dataFrame.dropna(inplace=True)\n",
    "dataFrame"
   ]
  },
  {
   "cell_type": "code",
   "execution_count": null,
   "metadata": {
    "scrolled": true
   },
   "outputs": [],
   "source": [
    "\n",
    "dataFrame['sl1'] = atrFM*ta.ATR(dataFrame.high, dataFrame.low, dataFrame.close,timeperiod=atrFast)  # Stop Loss\n",
    "dataFrame['sl2'] = atrSM*ta.ATR(dataFrame.high, dataFrame.low, dataFrame.close,timeperiod=atrSlow) \n",
    "\n",
    "dataFrame.dropna(inplace=True)\n",
    "# dataFrame.head()"
   ]
  },
  {
   "cell_type": "code",
   "execution_count": null,
   "metadata": {},
   "outputs": [],
   "source": [
    "index = 0\n",
    "dataFrame.iloc[index].close\n",
    "dataFrame.iloc[index].date\n",
    "dataFrame.iloc[index].close \n",
    "dataFrame_between01 = dataFrame['2019-06-26':'2019-06-27']\n",
    "dataFrame_between01"
   ]
  },
  {
   "cell_type": "code",
   "execution_count": null,
   "metadata": {},
   "outputs": [],
   "source": [
    "dataFrame['red'] = False\n",
    "dataFrame['brown'] = False\n",
    "dataFrame['yellow'] = False\n",
    "dataFrame['blue'] = False\n",
    "dataFrame['green'] = False\n",
    "dataFrame['long'] = False\n",
    "dataFrame['preBuy'] = False\n",
    "dataFrame['short'] = False\n",
    "dataFrame['preSell'] = False\n",
    "dataFrame['trail2'] = 0.0\n",
    "\n",
    "\"\"\"\n",
    "Buy = bullish and bearish[1]\n",
    "PreBuy = Blue and Blue[1] and Blue[2] and Blue[3] and mainSource<mainSource[2]\n",
    "BuyMore = barssince(bullish)<26 and Yellow and mainSource==lowest(mainSource,9)\n",
    "Sell = bearish and bullish[1]\n",
    "PreSell = Yellow and barssince(Buy)>25 and mainSource<mainSource[2]\n",
    "SellMore = Yellow and barssince(Yellow)>2 and mainSource<mainSource[2]\n",
    "\"\"\"\n",
    "\n",
    "for index in range(len(dataFrame)):\n",
    "    dataFrame.green.iloc[index] = dataFrame.bullish.iloc[index] and (dataFrame.ohlc4.iloc[index] > dataFrame.ema_fast.iloc[index])\n",
    "    dataFrame.blue.iloc[index] = dataFrame.bearish.iloc[index] and dataFrame.ohlc4.iloc[index] > dataFrame.ema_fast.iloc[index]\n",
    "    dataFrame.yellow.iloc[index] = dataFrame.bullish.iloc[index] and dataFrame.ohlc4.iloc[index] < dataFrame.ema_slow.iloc[index]\n",
    "    dataFrame.brown.iloc[index] = dataFrame.bullish.iloc[index] and dataFrame.ohlc4.iloc[index] < dataFrame.ema_fast.iloc[index] and dataFrame.ohlc4.iloc[index] < dataFrame.ema_slow.iloc[index]\n",
    "    dataFrame.red.iloc[index] = dataFrame.bearish.iloc[index] and dataFrame.ohlc4.iloc[index] < dataFrame.ema_fast.iloc[index]\n",
    "    if dataFrame.close.iloc[index] > dataFrame.trail2.iloc[index - 1] and dataFrame.close.iloc[index - 1] > dataFrame.trail2.iloc[index - 1]:\n",
    "        dataFrame.trail2.iloc[index] = max(dataFrame.trail2.iloc[index - 1], dataFrame.close.iloc[index] - dataFrame.sl2.iloc[index])\n",
    "    elif dataFrame.close.iloc[index] < dataFrame.trail2.iloc[index - 1] and dataFrame.close.iloc[index - 1] < dataFrame.trail2.iloc[index - 1]: \n",
    "        dataFrame.trail2.iloc[index] = min(dataFrame.trail2.iloc[index - 1], dataFrame.close.iloc[index - 1] +  dataFrame.sl2.iloc[index - 1])\n",
    "    elif dataFrame.close.iloc[index] > dataFrame.trail2.iloc[index - 1]:\n",
    "        dataFrame.trail2.iloc[index] = dataFrame.close.iloc[index] - dataFrame.sl2.iloc[index]\n",
    "    else:\n",
    "        dataFrame.trail2.iloc[index] = dataFrame.close.iloc[index] + dataFrame.sl2.iloc[index]\n",
    "    # it can use rolling\n",
    "    dataFrame.long.iloc[index] = dataFrame.bullish.iloc[index] and dataFrame.bullish.iloc[index - 1]\n",
    "    dataFrame.preBuy.iloc[index] = dataFrame.bullish.iloc[index] and dataFrame.bullish.iloc[index - 1]\n",
    "    dataFrame.short.iloc[index] = dataFrame.bearish.iloc[index] and dataFrame.bearish.iloc[index - 1]\n",
    "\n",
    "dataFrame['greenLine'] = False\n",
    "dataFrame.loc[\n",
    "        (\n",
    "            (dataFrame[\"close\"] > dataFrame['trail2'])\n",
    "        ),\n",
    "        'greenLine'] = True\n",
    "dataFrame['greenLine_last'] = dataFrame.greenLine.shift(1)\n",
    "\n",
    "dataFrame['short_last'] = dataFrame.short.shift(1)\n",
    "dataFrame['green_last'] = dataFrame.green.shift(1)\n",
    "dataFrame['red_last'] = dataFrame.red.shift(1)\n",
    "dataFrame['hold_state'] = False\n",
    "dataFrame.dropna(inplace=True)\n",
    "dataFrame"
   ]
  },
  {
   "cell_type": "code",
   "execution_count": null,
   "metadata": {},
   "outputs": [],
   "source": [
    "\n",
    "dataFrame['hold_state'].shift(1) == False & (dataFrame['greenLine_last'] == False | (dataFrame['greenLine_last'] & dataFrame['greenLine'])) & (dataFrame['long'] | dataFrame['green'] & dataFrame['greenLine']) | (dataFrame['blue'] & dataFrame['greenLine'])"
   ]
  },
  {
   "cell_type": "code",
   "execution_count": null,
   "metadata": {},
   "outputs": [],
   "source": [
    "dataFrame['signal_buy'] = False\n",
    "dataFrame['signal_sell'] = False\n",
    "dataFrame['on_buy'] = 0\n",
    "\n",
    "dataFrame.loc[(\n",
    "    (dataFrame['green_last'] == False) & (dataFrame['green'] == True) # Green buy\n",
    "    | ((dataFrame['greenLine'] == True) & (dataFrame['blue'] == True)) # Over ATR and blue\n",
    "), 'signal_buy'] = True\n",
    "\n",
    "dataFrame.loc[(\n",
    "    ((dataFrame['red_last'] == False) & (dataFrame['red'] == True)) # Red Sell\n",
    "    | ((dataFrame['greenLine_last'] == True) & (dataFrame['greenLine'] == False)) # Stop lost\n",
    "), 'signal_sell'] = True\n",
    "\n",
    "dataFrame.loc[(\n",
    "   (dataFrame['signal_buy'] == True)\n",
    "), 'on_buy'] = 1\n",
    "\n"
   ]
  },
  {
   "cell_type": "code",
   "execution_count": null,
   "metadata": {},
   "outputs": [],
   "source": [
    "dataFrame.loc[(dataFrame['signal_buy'] == True) , 'buy'] = 1\n",
    "dataFrame.loc[(dataFrame['signal_sell'] == True), 'sell'] = 1"
   ]
  },
  {
   "cell_type": "code",
   "execution_count": null,
   "metadata": {},
   "outputs": [],
   "source": [
    "dataFrame_between = dataFrame['2020-01-26':'2020-01-30']\n",
    "dataFrame_between.loc[:,['ohlc4','ema_fast','macd','bullish','bearish','green','signal_buy','signal_sell','blue','yellow','brown','red_last','red','greenLine_last','greenLine','buy','on_buy','sell']]"
   ]
  },
  {
   "cell_type": "code",
   "execution_count": null,
   "metadata": {},
   "outputs": [],
   "source": [
    "from freqtrade.plot.plotting import  generate_candlestick_graph\n",
    "graph = generate_candlestick_graph(pair=pair,\n",
    "                                   data=dataFrame_between,\n",
    "                                   #trades=dataFrame,\n",
    "                                   indicators1=['ema_fast', 'ema_slow', 'trail2','greenLine','on_buy','buy','sell'],\n",
    "                                   indicators2=['rsi']\n",
    "                                  )\n",
    "graph.show()"
   ]
  },
  {
   "cell_type": "code",
   "execution_count": null,
   "metadata": {},
   "outputs": [],
   "source": [
    "dataFrame_between01 = dataFrame['2019-06-26':'2019-06-27']\n",
    "dataFrame_between01.loc[:,['ohlc4','ema_fast','macd','bullish','bearish','green','blue','yellow','brown','red','sl1','sl2','long','preBuy','short','preSell','trail2','greenLine','greenLine_last','short_last','buy','sell']]"
   ]
  },
  {
   "cell_type": "code",
   "execution_count": null,
   "metadata": {},
   "outputs": [],
   "source": [
    "a = dataFrame_between01.iloc[0]\n",
    "a.bullish and a.ohlc4 > a.ema_fast"
   ]
  },
  {
   "cell_type": "code",
   "execution_count": null,
   "metadata": {},
   "outputs": [],
   "source": [
    "dataFrame_between = dataFrame['2019-08-06':'2019-08-11']\n",
    "dataFrame_between.loc[:,['ohlc4','bearish','ema_fast','green','blue','yellow','brown','red','preSell','greenLine','greenLine_last','short_last','buy','sell']]"
   ]
  },
  {
   "cell_type": "code",
   "execution_count": null,
   "metadata": {},
   "outputs": [],
   "source": [
    "graph = generate_candlestick_graph(pair=pair,\n",
    "                                   data=dataFrame_between,\n",
    "                                   indicators1=['ema_fast', 'ema_slow', 'trail2','greenLine'],\n",
    "                                   indicators2=['rsi']\n",
    "                                  )\n",
    "graph.show()"
   ]
  },
  {
   "cell_type": "code",
   "execution_count": null,
   "metadata": {},
   "outputs": [],
   "source": [
    "\n",
    "#trades_red = trades.loc[trades['pair'] == pair]\n",
    "graph = generate_candlestick_graph(pair=pair,\n",
    "                                   data=dataFrame,\n",
    "                                   indicators1=['ema_fast', 'ema_slow', 'trail2'],\n",
    "                                   indicators2=['rsi']\n",
    "                                  )\n",
    "graph.show(renderer=\"browser\")"
   ]
  },
  {
   "cell_type": "markdown",
   "metadata": {},
   "source": []
  }
 ],
 "metadata": {
  "kernelspec": {
   "display_name": "Python 3",
   "language": "python",
   "name": "python3"
  },
  "language_info": {
   "codemirror_mode": {
    "name": "ipython",
    "version": 3
   },
   "file_extension": ".py",
   "mimetype": "text/x-python",
   "name": "python",
   "nbconvert_exporter": "python",
   "pygments_lexer": "ipython3",
   "version": "3.8.5"
  }
 },
 "nbformat": 4,
 "nbformat_minor": 2
}