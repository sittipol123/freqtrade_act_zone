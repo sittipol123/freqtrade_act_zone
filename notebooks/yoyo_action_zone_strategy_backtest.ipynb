{
 "metadata": {
  "language_info": {
   "codemirror_mode": {
    "name": "ipython",
    "version": 3
   },
   "file_extension": ".py",
   "mimetype": "text/x-python",
   "name": "python",
   "nbconvert_exporter": "python",
   "pygments_lexer": "ipython3",
   "version": "3.8.5"
  },
  "orig_nbformat": 2,
  "kernelspec": {
   "name": "python3",
   "display_name": "Python 3",
   "language": "python"
  }
 },
 "nbformat": 4,
 "nbformat_minor": 2,
 "cells": [
  {
   "cell_type": "code",
   "execution_count": 17,
   "metadata": {},
   "outputs": [],
   "source": [
    "from pathlib import Path\n",
    "from freqtrade.configuration import Configuration\n",
    "\n",
    "# Customize these according to your needs.\n",
    "\n",
    "# Initialize empty configuration object\n",
    "path='F:\\\\Projects\\\\freqtrade\\\\'\n",
    "\n",
    "config = Configuration.from_files([path + \"config_binance_test.json\"])\n",
    "\n",
    "# Optionally, use existing configuration file\n",
    "# config = Configuration.from_files([\"config.json\"])\n",
    "\n",
    "# Define some constants\n",
    "config[\"timeframe\"] = \"4h\"\n",
    "# Name of the strategy class\n",
    "config[\"strategy\"] = \"YoyoActionStrategy\"\n",
    "# Location of the data\n",
    "data_location = Path(config['user_data_dir'], 'data', 'binance')\n",
    "# Pair to analyze - Only use one pair here\n",
    "pair = \"BTC/USDT\"\n",
    "\n",
    "# if backtest_dir points to a directory, it'll automatically load the last backtest file.\n",
    "backtest_dir = config[\"user_data_dir\"] / \"backtest_results/backtest-result-2021-04-18_00-05-50.json\""
   ]
  },
  {
   "cell_type": "code",
   "execution_count": 18,
   "metadata": {},
   "outputs": [
    {
     "output_type": "stream",
     "name": "stdout",
     "text": [
      "Loaded 7356 rows of data for BTC/USDT from F:\\Projects\\freqtrade\\user_data\\data\\binance\n"
     ]
    },
    {
     "output_type": "execute_result",
     "data": {
      "text/plain": [
       "                       date      open      high       low     close  \\\n",
       "0 2017-12-01 00:00:00+00:00   9837.00   9900.03   9510.00   9698.23   \n",
       "1 2017-12-01 04:00:00+00:00   9666.28   9924.99   9380.00   9540.00   \n",
       "2 2017-12-01 08:00:00+00:00   9540.00  10000.00   9540.00   9956.24   \n",
       "3 2017-12-01 12:00:00+00:00   9960.01  10740.00   9960.01  10460.00   \n",
       "4 2017-12-01 16:00:00+00:00  10460.00  10607.40  10354.01  10529.10   \n",
       "\n",
       "        volume  \n",
       "0   967.919509  \n",
       "1   852.486397  \n",
       "2   974.139789  \n",
       "3  1674.090864  \n",
       "4   808.310335  "
      ],
      "text/html": "<div>\n<style scoped>\n    .dataframe tbody tr th:only-of-type {\n        vertical-align: middle;\n    }\n\n    .dataframe tbody tr th {\n        vertical-align: top;\n    }\n\n    .dataframe thead th {\n        text-align: right;\n    }\n</style>\n<table border=\"1\" class=\"dataframe\">\n  <thead>\n    <tr style=\"text-align: right;\">\n      <th></th>\n      <th>date</th>\n      <th>open</th>\n      <th>high</th>\n      <th>low</th>\n      <th>close</th>\n      <th>volume</th>\n    </tr>\n  </thead>\n  <tbody>\n    <tr>\n      <th>0</th>\n      <td>2017-12-01 00:00:00+00:00</td>\n      <td>9837.00</td>\n      <td>9900.03</td>\n      <td>9510.00</td>\n      <td>9698.23</td>\n      <td>967.919509</td>\n    </tr>\n    <tr>\n      <th>1</th>\n      <td>2017-12-01 04:00:00+00:00</td>\n      <td>9666.28</td>\n      <td>9924.99</td>\n      <td>9380.00</td>\n      <td>9540.00</td>\n      <td>852.486397</td>\n    </tr>\n    <tr>\n      <th>2</th>\n      <td>2017-12-01 08:00:00+00:00</td>\n      <td>9540.00</td>\n      <td>10000.00</td>\n      <td>9540.00</td>\n      <td>9956.24</td>\n      <td>974.139789</td>\n    </tr>\n    <tr>\n      <th>3</th>\n      <td>2017-12-01 12:00:00+00:00</td>\n      <td>9960.01</td>\n      <td>10740.00</td>\n      <td>9960.01</td>\n      <td>10460.00</td>\n      <td>1674.090864</td>\n    </tr>\n    <tr>\n      <th>4</th>\n      <td>2017-12-01 16:00:00+00:00</td>\n      <td>10460.00</td>\n      <td>10607.40</td>\n      <td>10354.01</td>\n      <td>10529.10</td>\n      <td>808.310335</td>\n    </tr>\n  </tbody>\n</table>\n</div>"
     },
     "metadata": {},
     "execution_count": 18
    }
   ],
   "source": [
    "from freqtrade.data.history import load_pair_history\n",
    "\n",
    "candles = load_pair_history(datadir=data_location,\n",
    "                            timeframe=config[\"timeframe\"],\n",
    "                            pair=pair)\n",
    "\n",
    "# Confirm success\n",
    "print(\"Loaded \" + str(len(candles)) + f\" rows of data for {pair} from {data_location}\")\n",
    "candles.head()"
   ]
  },
  {
   "cell_type": "code",
   "execution_count": 19,
   "metadata": {},
   "outputs": [
    {
     "output_type": "stream",
     "name": "stderr",
     "text": [
      "C:\\Users\\Freshconsulting\\Anaconda3\\envs\\tensorflow_freqtrade\\lib\\site-packages\\pandas\\core\\indexing.py:670: SettingWithCopyWarning:\n\n\nA value is trying to be set on a copy of a slice from a DataFrame\n\nSee the caveats in the documentation: https://pandas.pydata.org/pandas-docs/stable/user_guide/indexing.html#returning-a-view-versus-a-copy\n\n"
     ]
    },
    {
     "output_type": "execute_result",
     "data": {
      "text/plain": [
       "                          date      open      high       low     close  \\\n",
       "7351 2021-04-09 04:00:00+00:00  57985.71  58314.00  57654.00  58051.42   \n",
       "7352 2021-04-09 08:00:00+00:00  58048.70  58894.90  57669.58  58527.19   \n",
       "7353 2021-04-09 12:00:00+00:00  58527.20  58783.47  58024.00  58240.00   \n",
       "7354 2021-04-09 16:00:00+00:00  58239.99  58528.00  57870.57  58370.59   \n",
       "7355 2021-04-09 20:00:00+00:00  58370.59  58600.00  57873.31  58142.54   \n",
       "\n",
       "           volume       ohlc4        ema_fast        ema_slow          rsi  \\\n",
       "7351  5646.760536  58001.2825  57726.51212341  57546.43245832  54.08736683   \n",
       "7352  9447.290473  58285.0925  57955.27723101  57649.67009428  57.98601159   \n",
       "7353  9093.856963  58393.6675  58036.62659358  57711.81008436  54.95263104   \n",
       "7354  6360.450980  58252.2875  58132.04470970  57781.15533864  56.07778811   \n",
       "7355  5048.282625  58246.6100  58135.04336407  57819.19582931  53.56182689   \n",
       "\n",
       "      ...  greenLine  greenLine_last  short_last  green_last  red_last  \\\n",
       "7351  ...      False           False       False        True     False   \n",
       "7352  ...       True           False       False        True     False   \n",
       "7353  ...       True            True       False        True     False   \n",
       "7354  ...       True            True       False        True     False   \n",
       "7355  ...       True            True       False        True     False   \n",
       "\n",
       "      hold_state  signal_buy  signal_sell  buy  sell  \n",
       "7351       False         NaN          NaN  NaN   NaN  \n",
       "7352       False         NaN          NaN  NaN   NaN  \n",
       "7353       False         NaN          NaN  NaN   NaN  \n",
       "7354       False         NaN          NaN  NaN   NaN  \n",
       "7355       False         NaN          NaN  NaN   NaN  \n",
       "\n",
       "[5 rows x 35 columns]"
      ],
      "text/html": "<div>\n<style scoped>\n    .dataframe tbody tr th:only-of-type {\n        vertical-align: middle;\n    }\n\n    .dataframe tbody tr th {\n        vertical-align: top;\n    }\n\n    .dataframe thead th {\n        text-align: right;\n    }\n</style>\n<table border=\"1\" class=\"dataframe\">\n  <thead>\n    <tr style=\"text-align: right;\">\n      <th></th>\n      <th>date</th>\n      <th>open</th>\n      <th>high</th>\n      <th>low</th>\n      <th>close</th>\n      <th>volume</th>\n      <th>ohlc4</th>\n      <th>ema_fast</th>\n      <th>ema_slow</th>\n      <th>rsi</th>\n      <th>...</th>\n      <th>greenLine</th>\n      <th>greenLine_last</th>\n      <th>short_last</th>\n      <th>green_last</th>\n      <th>red_last</th>\n      <th>hold_state</th>\n      <th>signal_buy</th>\n      <th>signal_sell</th>\n      <th>buy</th>\n      <th>sell</th>\n    </tr>\n  </thead>\n  <tbody>\n    <tr>\n      <th>7351</th>\n      <td>2021-04-09 04:00:00+00:00</td>\n      <td>57985.71</td>\n      <td>58314.00</td>\n      <td>57654.00</td>\n      <td>58051.42</td>\n      <td>5646.760536</td>\n      <td>58001.2825</td>\n      <td>57726.51212341</td>\n      <td>57546.43245832</td>\n      <td>54.08736683</td>\n      <td>...</td>\n      <td>False</td>\n      <td>False</td>\n      <td>False</td>\n      <td>True</td>\n      <td>False</td>\n      <td>False</td>\n      <td>NaN</td>\n      <td>NaN</td>\n      <td>NaN</td>\n      <td>NaN</td>\n    </tr>\n    <tr>\n      <th>7352</th>\n      <td>2021-04-09 08:00:00+00:00</td>\n      <td>58048.70</td>\n      <td>58894.90</td>\n      <td>57669.58</td>\n      <td>58527.19</td>\n      <td>9447.290473</td>\n      <td>58285.0925</td>\n      <td>57955.27723101</td>\n      <td>57649.67009428</td>\n      <td>57.98601159</td>\n      <td>...</td>\n      <td>True</td>\n      <td>False</td>\n      <td>False</td>\n      <td>True</td>\n      <td>False</td>\n      <td>False</td>\n      <td>NaN</td>\n      <td>NaN</td>\n      <td>NaN</td>\n      <td>NaN</td>\n    </tr>\n    <tr>\n      <th>7353</th>\n      <td>2021-04-09 12:00:00+00:00</td>\n      <td>58527.20</td>\n      <td>58783.47</td>\n      <td>58024.00</td>\n      <td>58240.00</td>\n      <td>9093.856963</td>\n      <td>58393.6675</td>\n      <td>58036.62659358</td>\n      <td>57711.81008436</td>\n      <td>54.95263104</td>\n      <td>...</td>\n      <td>True</td>\n      <td>True</td>\n      <td>False</td>\n      <td>True</td>\n      <td>False</td>\n      <td>False</td>\n      <td>NaN</td>\n      <td>NaN</td>\n      <td>NaN</td>\n      <td>NaN</td>\n    </tr>\n    <tr>\n      <th>7354</th>\n      <td>2021-04-09 16:00:00+00:00</td>\n      <td>58239.99</td>\n      <td>58528.00</td>\n      <td>57870.57</td>\n      <td>58370.59</td>\n      <td>6360.450980</td>\n      <td>58252.2875</td>\n      <td>58132.04470970</td>\n      <td>57781.15533864</td>\n      <td>56.07778811</td>\n      <td>...</td>\n      <td>True</td>\n      <td>True</td>\n      <td>False</td>\n      <td>True</td>\n      <td>False</td>\n      <td>False</td>\n      <td>NaN</td>\n      <td>NaN</td>\n      <td>NaN</td>\n      <td>NaN</td>\n    </tr>\n    <tr>\n      <th>7355</th>\n      <td>2021-04-09 20:00:00+00:00</td>\n      <td>58370.59</td>\n      <td>58600.00</td>\n      <td>57873.31</td>\n      <td>58142.54</td>\n      <td>5048.282625</td>\n      <td>58246.6100</td>\n      <td>58135.04336407</td>\n      <td>57819.19582931</td>\n      <td>53.56182689</td>\n      <td>...</td>\n      <td>True</td>\n      <td>True</td>\n      <td>False</td>\n      <td>True</td>\n      <td>False</td>\n      <td>False</td>\n      <td>NaN</td>\n      <td>NaN</td>\n      <td>NaN</td>\n      <td>NaN</td>\n    </tr>\n  </tbody>\n</table>\n<p>5 rows × 35 columns</p>\n</div>"
     },
     "metadata": {},
     "execution_count": 19
    }
   ],
   "source": [
    "# Load strategy using values set above\n",
    "from freqtrade.resolvers import StrategyResolver\n",
    "strategy = StrategyResolver.load_strategy(config)\n",
    "\n",
    "# Generate buy/sell signals using strategy \n",
    "df = strategy.analyze_ticker(candles, {'pair': pair})\n",
    "df.tail()"
   ]
  },
  {
   "cell_type": "code",
   "execution_count": 20,
   "metadata": {},
   "outputs": [
    {
     "output_type": "stream",
     "name": "stdout",
     "text": [
      "Generated 656.0 buy signals\n"
     ]
    },
    {
     "output_type": "execute_result",
     "data": {
      "text/plain": [
       "                                               date      open      high  \\\n",
       "date                                                                      \n",
       "2021-04-09 04:00:00+00:00 2021-04-09 04:00:00+00:00  57985.71  58314.00   \n",
       "2021-04-09 08:00:00+00:00 2021-04-09 08:00:00+00:00  58048.70  58894.90   \n",
       "2021-04-09 12:00:00+00:00 2021-04-09 12:00:00+00:00  58527.20  58783.47   \n",
       "2021-04-09 16:00:00+00:00 2021-04-09 16:00:00+00:00  58239.99  58528.00   \n",
       "2021-04-09 20:00:00+00:00 2021-04-09 20:00:00+00:00  58370.59  58600.00   \n",
       "\n",
       "                                low     close       volume       ohlc4  \\\n",
       "date                                                                     \n",
       "2021-04-09 04:00:00+00:00  57654.00  58051.42  5646.760536  58001.2825   \n",
       "2021-04-09 08:00:00+00:00  57669.58  58527.19  9447.290473  58285.0925   \n",
       "2021-04-09 12:00:00+00:00  58024.00  58240.00  9093.856963  58393.6675   \n",
       "2021-04-09 16:00:00+00:00  57870.57  58370.59  6360.450980  58252.2875   \n",
       "2021-04-09 20:00:00+00:00  57873.31  58142.54  5048.282625  58246.6100   \n",
       "\n",
       "                                 ema_fast        ema_slow          rsi  ...  \\\n",
       "date                                                                    ...   \n",
       "2021-04-09 04:00:00+00:00  57726.51212341  57546.43245832  54.08736683  ...   \n",
       "2021-04-09 08:00:00+00:00  57955.27723101  57649.67009428  57.98601159  ...   \n",
       "2021-04-09 12:00:00+00:00  58036.62659358  57711.81008436  54.95263104  ...   \n",
       "2021-04-09 16:00:00+00:00  58132.04470970  57781.15533864  56.07778811  ...   \n",
       "2021-04-09 20:00:00+00:00  58135.04336407  57819.19582931  53.56182689  ...   \n",
       "\n",
       "                           greenLine  greenLine_last  short_last  green_last  \\\n",
       "date                                                                           \n",
       "2021-04-09 04:00:00+00:00      False           False       False        True   \n",
       "2021-04-09 08:00:00+00:00       True           False       False        True   \n",
       "2021-04-09 12:00:00+00:00       True            True       False        True   \n",
       "2021-04-09 16:00:00+00:00       True            True       False        True   \n",
       "2021-04-09 20:00:00+00:00       True            True       False        True   \n",
       "\n",
       "                           red_last  hold_state  signal_buy  signal_sell  buy  \\\n",
       "date                                                                            \n",
       "2021-04-09 04:00:00+00:00     False       False         NaN          NaN  NaN   \n",
       "2021-04-09 08:00:00+00:00     False       False         NaN          NaN  NaN   \n",
       "2021-04-09 12:00:00+00:00     False       False         NaN          NaN  NaN   \n",
       "2021-04-09 16:00:00+00:00     False       False         NaN          NaN  NaN   \n",
       "2021-04-09 20:00:00+00:00     False       False         NaN          NaN  NaN   \n",
       "\n",
       "                           sell  \n",
       "date                             \n",
       "2021-04-09 04:00:00+00:00   NaN  \n",
       "2021-04-09 08:00:00+00:00   NaN  \n",
       "2021-04-09 12:00:00+00:00   NaN  \n",
       "2021-04-09 16:00:00+00:00   NaN  \n",
       "2021-04-09 20:00:00+00:00   NaN  \n",
       "\n",
       "[5 rows x 35 columns]"
      ],
      "text/html": "<div>\n<style scoped>\n    .dataframe tbody tr th:only-of-type {\n        vertical-align: middle;\n    }\n\n    .dataframe tbody tr th {\n        vertical-align: top;\n    }\n\n    .dataframe thead th {\n        text-align: right;\n    }\n</style>\n<table border=\"1\" class=\"dataframe\">\n  <thead>\n    <tr style=\"text-align: right;\">\n      <th></th>\n      <th>date</th>\n      <th>open</th>\n      <th>high</th>\n      <th>low</th>\n      <th>close</th>\n      <th>volume</th>\n      <th>ohlc4</th>\n      <th>ema_fast</th>\n      <th>ema_slow</th>\n      <th>rsi</th>\n      <th>...</th>\n      <th>greenLine</th>\n      <th>greenLine_last</th>\n      <th>short_last</th>\n      <th>green_last</th>\n      <th>red_last</th>\n      <th>hold_state</th>\n      <th>signal_buy</th>\n      <th>signal_sell</th>\n      <th>buy</th>\n      <th>sell</th>\n    </tr>\n    <tr>\n      <th>date</th>\n      <th></th>\n      <th></th>\n      <th></th>\n      <th></th>\n      <th></th>\n      <th></th>\n      <th></th>\n      <th></th>\n      <th></th>\n      <th></th>\n      <th></th>\n      <th></th>\n      <th></th>\n      <th></th>\n      <th></th>\n      <th></th>\n      <th></th>\n      <th></th>\n      <th></th>\n      <th></th>\n      <th></th>\n    </tr>\n  </thead>\n  <tbody>\n    <tr>\n      <th>2021-04-09 04:00:00+00:00</th>\n      <td>2021-04-09 04:00:00+00:00</td>\n      <td>57985.71</td>\n      <td>58314.00</td>\n      <td>57654.00</td>\n      <td>58051.42</td>\n      <td>5646.760536</td>\n      <td>58001.2825</td>\n      <td>57726.51212341</td>\n      <td>57546.43245832</td>\n      <td>54.08736683</td>\n      <td>...</td>\n      <td>False</td>\n      <td>False</td>\n      <td>False</td>\n      <td>True</td>\n      <td>False</td>\n      <td>False</td>\n      <td>NaN</td>\n      <td>NaN</td>\n      <td>NaN</td>\n      <td>NaN</td>\n    </tr>\n    <tr>\n      <th>2021-04-09 08:00:00+00:00</th>\n      <td>2021-04-09 08:00:00+00:00</td>\n      <td>58048.70</td>\n      <td>58894.90</td>\n      <td>57669.58</td>\n      <td>58527.19</td>\n      <td>9447.290473</td>\n      <td>58285.0925</td>\n      <td>57955.27723101</td>\n      <td>57649.67009428</td>\n      <td>57.98601159</td>\n      <td>...</td>\n      <td>True</td>\n      <td>False</td>\n      <td>False</td>\n      <td>True</td>\n      <td>False</td>\n      <td>False</td>\n      <td>NaN</td>\n      <td>NaN</td>\n      <td>NaN</td>\n      <td>NaN</td>\n    </tr>\n    <tr>\n      <th>2021-04-09 12:00:00+00:00</th>\n      <td>2021-04-09 12:00:00+00:00</td>\n      <td>58527.20</td>\n      <td>58783.47</td>\n      <td>58024.00</td>\n      <td>58240.00</td>\n      <td>9093.856963</td>\n      <td>58393.6675</td>\n      <td>58036.62659358</td>\n      <td>57711.81008436</td>\n      <td>54.95263104</td>\n      <td>...</td>\n      <td>True</td>\n      <td>True</td>\n      <td>False</td>\n      <td>True</td>\n      <td>False</td>\n      <td>False</td>\n      <td>NaN</td>\n      <td>NaN</td>\n      <td>NaN</td>\n      <td>NaN</td>\n    </tr>\n    <tr>\n      <th>2021-04-09 16:00:00+00:00</th>\n      <td>2021-04-09 16:00:00+00:00</td>\n      <td>58239.99</td>\n      <td>58528.00</td>\n      <td>57870.57</td>\n      <td>58370.59</td>\n      <td>6360.450980</td>\n      <td>58252.2875</td>\n      <td>58132.04470970</td>\n      <td>57781.15533864</td>\n      <td>56.07778811</td>\n      <td>...</td>\n      <td>True</td>\n      <td>True</td>\n      <td>False</td>\n      <td>True</td>\n      <td>False</td>\n      <td>False</td>\n      <td>NaN</td>\n      <td>NaN</td>\n      <td>NaN</td>\n      <td>NaN</td>\n    </tr>\n    <tr>\n      <th>2021-04-09 20:00:00+00:00</th>\n      <td>2021-04-09 20:00:00+00:00</td>\n      <td>58370.59</td>\n      <td>58600.00</td>\n      <td>57873.31</td>\n      <td>58142.54</td>\n      <td>5048.282625</td>\n      <td>58246.6100</td>\n      <td>58135.04336407</td>\n      <td>57819.19582931</td>\n      <td>53.56182689</td>\n      <td>...</td>\n      <td>True</td>\n      <td>True</td>\n      <td>False</td>\n      <td>True</td>\n      <td>False</td>\n      <td>False</td>\n      <td>NaN</td>\n      <td>NaN</td>\n      <td>NaN</td>\n      <td>NaN</td>\n    </tr>\n  </tbody>\n</table>\n<p>5 rows × 35 columns</p>\n</div>"
     },
     "metadata": {},
     "execution_count": 20
    }
   ],
   "source": [
    "print(f\"Generated {df['buy'].sum()} buy signals\")\n",
    "data = df.set_index('date', drop=False)\n",
    "data.tail()"
   ]
  },
  {
   "cell_type": "code",
   "execution_count": 21,
   "metadata": {},
   "outputs": [],
   "source": [
    "from freqtrade.data.btanalysis import load_backtest_data, load_backtest_stats\n"
   ]
  },
  {
   "cell_type": "code",
   "execution_count": 22,
   "metadata": {},
   "outputs": [
    {
     "output_type": "execute_result",
     "data": {
      "text/plain": [
       "WindowsPath('F:/Projects/freqtrade/user_data/backtest_results/backtest-result-2021-04-18_00-05-50.json')"
      ]
     },
     "metadata": {},
     "execution_count": 22
    }
   ],
   "source": [
    "backtest_dir"
   ]
  },
  {
   "cell_type": "code",
   "execution_count": 23,
   "metadata": {},
   "outputs": [
    {
     "output_type": "stream",
     "name": "stdout",
     "text": [
      "[{'key': 'BTC/USDT', 'trades': 242, 'profit_mean': 0.012228520619834713, 'profit_mean_pct': 1.222852061983471, 'profit_sum': 2.95930199, 'profit_sum_pct': 295.93, 'profit_total_abs': 0.14808955, 'profit_total': 2.95930199, 'profit_total_pct': 295.93, 'duration_avg': '2 days, 18:10:00', 'wins': 82, 'draws': 0, 'losses': 160}, {'key': 'TOTAL', 'trades': 242, 'profit_mean': 0.012228520619834713, 'profit_mean_pct': 1.222852061983471, 'profit_sum': 2.95930199, 'profit_sum_pct': 295.93, 'profit_total_abs': 0.14808955, 'profit_total': 2.95930199, 'profit_total_pct': 295.93, 'duration_avg': '2 days, 18:10:00', 'wins': 82, 'draws': 0, 'losses': 160}]\n['BTC/USDT']\n4.995170252716218\n0.3484574299999999\n2018-07-27 00:00:00+00:00\n2019-02-06 04:00:00+00:00\n[{'key': 'YoyoActionStrategy', 'trades': 242, 'profit_mean': 0.012228520619834713, 'profit_mean_pct': 1.222852061983471, 'profit_sum': 2.95930199, 'profit_sum_pct': 295.93, 'profit_total_abs': 0.14808955, 'profit_total': 0.9864339966666668, 'profit_total_pct': 98.64, 'duration_avg': '2 days, 18:10:00', 'wins': 82, 'draws': 0, 'losses': 160}]\n"
     ]
    }
   ],
   "source": [
    "stats = load_backtest_stats(backtest_dir)\n",
    "\n",
    "strategy = config[\"strategy\"]\n",
    "# All statistics are available per strategy, so if `--strategy-list` was used during backtest, this will be reflected here as well.\n",
    "# Example usages:\n",
    "print(stats['strategy'][strategy]['results_per_pair'])\n",
    "# Get pairlist used for this backtest\n",
    "print(stats['strategy'][strategy]['pairlist'])\n",
    "# Get market change (average change of all pairs from start to end of the backtest period)\n",
    "print(stats['strategy'][strategy]['market_change'])\n",
    "# Maximum drawdown ()\n",
    "print(stats['strategy'][strategy]['max_drawdown'])\n",
    "# Maximum drawdown start and end\n",
    "print(stats['strategy'][strategy]['drawdown_start'])\n",
    "print(stats['strategy'][strategy]['drawdown_end'])\n",
    "\n",
    "# Get strategy comparison (only relevant if multiple strategies were compared)\n",
    "print(stats['strategy_comparison'])"
   ]
  },
  {
   "cell_type": "code",
   "execution_count": 24,
   "metadata": {},
   "outputs": [
    {
     "output_type": "stream",
     "name": "stdout",
     "text": [
      "Loaded 7356 rows of data for BTC/USDT from F:\\Projects\\freqtrade\\user_data\\data\\binance\n"
     ]
    },
    {
     "output_type": "execute_result",
     "data": {
      "text/plain": [
       "                       date      open      high       low     close  \\\n",
       "0 2017-12-01 00:00:00+00:00   9837.00   9900.03   9510.00   9698.23   \n",
       "1 2017-12-01 04:00:00+00:00   9666.28   9924.99   9380.00   9540.00   \n",
       "2 2017-12-01 08:00:00+00:00   9540.00  10000.00   9540.00   9956.24   \n",
       "3 2017-12-01 12:00:00+00:00   9960.01  10740.00   9960.01  10460.00   \n",
       "4 2017-12-01 16:00:00+00:00  10460.00  10607.40  10354.01  10529.10   \n",
       "\n",
       "        volume  \n",
       "0   967.919509  \n",
       "1   852.486397  \n",
       "2   974.139789  \n",
       "3  1674.090864  \n",
       "4   808.310335  "
      ],
      "text/html": "<div>\n<style scoped>\n    .dataframe tbody tr th:only-of-type {\n        vertical-align: middle;\n    }\n\n    .dataframe tbody tr th {\n        vertical-align: top;\n    }\n\n    .dataframe thead th {\n        text-align: right;\n    }\n</style>\n<table border=\"1\" class=\"dataframe\">\n  <thead>\n    <tr style=\"text-align: right;\">\n      <th></th>\n      <th>date</th>\n      <th>open</th>\n      <th>high</th>\n      <th>low</th>\n      <th>close</th>\n      <th>volume</th>\n    </tr>\n  </thead>\n  <tbody>\n    <tr>\n      <th>0</th>\n      <td>2017-12-01 00:00:00+00:00</td>\n      <td>9837.00</td>\n      <td>9900.03</td>\n      <td>9510.00</td>\n      <td>9698.23</td>\n      <td>967.919509</td>\n    </tr>\n    <tr>\n      <th>1</th>\n      <td>2017-12-01 04:00:00+00:00</td>\n      <td>9666.28</td>\n      <td>9924.99</td>\n      <td>9380.00</td>\n      <td>9540.00</td>\n      <td>852.486397</td>\n    </tr>\n    <tr>\n      <th>2</th>\n      <td>2017-12-01 08:00:00+00:00</td>\n      <td>9540.00</td>\n      <td>10000.00</td>\n      <td>9540.00</td>\n      <td>9956.24</td>\n      <td>974.139789</td>\n    </tr>\n    <tr>\n      <th>3</th>\n      <td>2017-12-01 12:00:00+00:00</td>\n      <td>9960.01</td>\n      <td>10740.00</td>\n      <td>9960.01</td>\n      <td>10460.00</td>\n      <td>1674.090864</td>\n    </tr>\n    <tr>\n      <th>4</th>\n      <td>2017-12-01 16:00:00+00:00</td>\n      <td>10460.00</td>\n      <td>10607.40</td>\n      <td>10354.01</td>\n      <td>10529.10</td>\n      <td>808.310335</td>\n    </tr>\n  </tbody>\n</table>\n</div>"
     },
     "metadata": {},
     "execution_count": 24
    }
   ],
   "source": [
    "# Load data using values set above\n",
    "from freqtrade.data.history import load_pair_history\n",
    "\n",
    "candles = load_pair_history(datadir=data_location,\n",
    "                            timeframe=config[\"timeframe\"],\n",
    "                            pair=pair)\n",
    "\n",
    "# Confirm success\n",
    "print(\"Loaded \" + str(len(candles)) + f\" rows of data for {pair} from {data_location}\")\n",
    "candles.head()"
   ]
  },
  {
   "cell_type": "code",
   "execution_count": 25,
   "metadata": {},
   "outputs": [
    {
     "output_type": "stream",
     "name": "stderr",
     "text": [
      "C:\\Users\\Freshconsulting\\Anaconda3\\envs\\tensorflow_freqtrade\\lib\\site-packages\\pandas\\core\\indexing.py:670: SettingWithCopyWarning:\n\n\nA value is trying to be set on a copy of a slice from a DataFrame\n\nSee the caveats in the documentation: https://pandas.pydata.org/pandas-docs/stable/user_guide/indexing.html#returning-a-view-versus-a-copy\n\n"
     ]
    },
    {
     "output_type": "execute_result",
     "data": {
      "text/plain": [
       "                          date      open      high       low     close  \\\n",
       "7351 2021-04-09 04:00:00+00:00  57985.71  58314.00  57654.00  58051.42   \n",
       "7352 2021-04-09 08:00:00+00:00  58048.70  58894.90  57669.58  58527.19   \n",
       "7353 2021-04-09 12:00:00+00:00  58527.20  58783.47  58024.00  58240.00   \n",
       "7354 2021-04-09 16:00:00+00:00  58239.99  58528.00  57870.57  58370.59   \n",
       "7355 2021-04-09 20:00:00+00:00  58370.59  58600.00  57873.31  58142.54   \n",
       "\n",
       "           volume       ohlc4        ema_fast        ema_slow          rsi  \\\n",
       "7351  5646.760536  58001.2825  57726.51212341  57546.43245832  54.08736683   \n",
       "7352  9447.290473  58285.0925  57955.27723101  57649.67009428  57.98601159   \n",
       "7353  9093.856963  58393.6675  58036.62659358  57711.81008436  54.95263104   \n",
       "7354  6360.450980  58252.2875  58132.04470970  57781.15533864  56.07778811   \n",
       "7355  5048.282625  58246.6100  58135.04336407  57819.19582931  53.56182689   \n",
       "\n",
       "      ...  greenLine  greenLine_last  short_last  green_last  red_last  \\\n",
       "7351  ...      False           False       False        True     False   \n",
       "7352  ...       True           False       False        True     False   \n",
       "7353  ...       True            True       False        True     False   \n",
       "7354  ...       True            True       False        True     False   \n",
       "7355  ...       True            True       False        True     False   \n",
       "\n",
       "      hold_state  signal_buy  signal_sell  buy  sell  \n",
       "7351       False         NaN          NaN  NaN   NaN  \n",
       "7352       False         NaN          NaN  NaN   NaN  \n",
       "7353       False         NaN          NaN  NaN   NaN  \n",
       "7354       False         NaN          NaN  NaN   NaN  \n",
       "7355       False         NaN          NaN  NaN   NaN  \n",
       "\n",
       "[5 rows x 35 columns]"
      ],
      "text/html": "<div>\n<style scoped>\n    .dataframe tbody tr th:only-of-type {\n        vertical-align: middle;\n    }\n\n    .dataframe tbody tr th {\n        vertical-align: top;\n    }\n\n    .dataframe thead th {\n        text-align: right;\n    }\n</style>\n<table border=\"1\" class=\"dataframe\">\n  <thead>\n    <tr style=\"text-align: right;\">\n      <th></th>\n      <th>date</th>\n      <th>open</th>\n      <th>high</th>\n      <th>low</th>\n      <th>close</th>\n      <th>volume</th>\n      <th>ohlc4</th>\n      <th>ema_fast</th>\n      <th>ema_slow</th>\n      <th>rsi</th>\n      <th>...</th>\n      <th>greenLine</th>\n      <th>greenLine_last</th>\n      <th>short_last</th>\n      <th>green_last</th>\n      <th>red_last</th>\n      <th>hold_state</th>\n      <th>signal_buy</th>\n      <th>signal_sell</th>\n      <th>buy</th>\n      <th>sell</th>\n    </tr>\n  </thead>\n  <tbody>\n    <tr>\n      <th>7351</th>\n      <td>2021-04-09 04:00:00+00:00</td>\n      <td>57985.71</td>\n      <td>58314.00</td>\n      <td>57654.00</td>\n      <td>58051.42</td>\n      <td>5646.760536</td>\n      <td>58001.2825</td>\n      <td>57726.51212341</td>\n      <td>57546.43245832</td>\n      <td>54.08736683</td>\n      <td>...</td>\n      <td>False</td>\n      <td>False</td>\n      <td>False</td>\n      <td>True</td>\n      <td>False</td>\n      <td>False</td>\n      <td>NaN</td>\n      <td>NaN</td>\n      <td>NaN</td>\n      <td>NaN</td>\n    </tr>\n    <tr>\n      <th>7352</th>\n      <td>2021-04-09 08:00:00+00:00</td>\n      <td>58048.70</td>\n      <td>58894.90</td>\n      <td>57669.58</td>\n      <td>58527.19</td>\n      <td>9447.290473</td>\n      <td>58285.0925</td>\n      <td>57955.27723101</td>\n      <td>57649.67009428</td>\n      <td>57.98601159</td>\n      <td>...</td>\n      <td>True</td>\n      <td>False</td>\n      <td>False</td>\n      <td>True</td>\n      <td>False</td>\n      <td>False</td>\n      <td>NaN</td>\n      <td>NaN</td>\n      <td>NaN</td>\n      <td>NaN</td>\n    </tr>\n    <tr>\n      <th>7353</th>\n      <td>2021-04-09 12:00:00+00:00</td>\n      <td>58527.20</td>\n      <td>58783.47</td>\n      <td>58024.00</td>\n      <td>58240.00</td>\n      <td>9093.856963</td>\n      <td>58393.6675</td>\n      <td>58036.62659358</td>\n      <td>57711.81008436</td>\n      <td>54.95263104</td>\n      <td>...</td>\n      <td>True</td>\n      <td>True</td>\n      <td>False</td>\n      <td>True</td>\n      <td>False</td>\n      <td>False</td>\n      <td>NaN</td>\n      <td>NaN</td>\n      <td>NaN</td>\n      <td>NaN</td>\n    </tr>\n    <tr>\n      <th>7354</th>\n      <td>2021-04-09 16:00:00+00:00</td>\n      <td>58239.99</td>\n      <td>58528.00</td>\n      <td>57870.57</td>\n      <td>58370.59</td>\n      <td>6360.450980</td>\n      <td>58252.2875</td>\n      <td>58132.04470970</td>\n      <td>57781.15533864</td>\n      <td>56.07778811</td>\n      <td>...</td>\n      <td>True</td>\n      <td>True</td>\n      <td>False</td>\n      <td>True</td>\n      <td>False</td>\n      <td>False</td>\n      <td>NaN</td>\n      <td>NaN</td>\n      <td>NaN</td>\n      <td>NaN</td>\n    </tr>\n    <tr>\n      <th>7355</th>\n      <td>2021-04-09 20:00:00+00:00</td>\n      <td>58370.59</td>\n      <td>58600.00</td>\n      <td>57873.31</td>\n      <td>58142.54</td>\n      <td>5048.282625</td>\n      <td>58246.6100</td>\n      <td>58135.04336407</td>\n      <td>57819.19582931</td>\n      <td>53.56182689</td>\n      <td>...</td>\n      <td>True</td>\n      <td>True</td>\n      <td>False</td>\n      <td>True</td>\n      <td>False</td>\n      <td>False</td>\n      <td>NaN</td>\n      <td>NaN</td>\n      <td>NaN</td>\n      <td>NaN</td>\n    </tr>\n  </tbody>\n</table>\n<p>5 rows × 35 columns</p>\n</div>"
     },
     "metadata": {},
     "execution_count": 25
    }
   ],
   "source": [
    "# Load strategy using values set above\n",
    "from freqtrade.resolvers import StrategyResolver\n",
    "strategy = StrategyResolver.load_strategy(config)\n",
    "\n",
    "# Generate buy/sell signals using strategy\n",
    "df = strategy.analyze_ticker(candles, {'pair': pair})\n",
    "df.tail()"
   ]
  },
  {
   "cell_type": "code",
   "execution_count": 26,
   "metadata": {},
   "outputs": [
    {
     "output_type": "stream",
     "name": "stdout",
     "text": [
      "Generated 656.0 buy signals\n"
     ]
    },
    {
     "output_type": "execute_result",
     "data": {
      "text/plain": [
       "                                               date      open      high  \\\n",
       "date                                                                      \n",
       "2021-04-09 04:00:00+00:00 2021-04-09 04:00:00+00:00  57985.71  58314.00   \n",
       "2021-04-09 08:00:00+00:00 2021-04-09 08:00:00+00:00  58048.70  58894.90   \n",
       "2021-04-09 12:00:00+00:00 2021-04-09 12:00:00+00:00  58527.20  58783.47   \n",
       "2021-04-09 16:00:00+00:00 2021-04-09 16:00:00+00:00  58239.99  58528.00   \n",
       "2021-04-09 20:00:00+00:00 2021-04-09 20:00:00+00:00  58370.59  58600.00   \n",
       "\n",
       "                                low     close       volume       ohlc4  \\\n",
       "date                                                                     \n",
       "2021-04-09 04:00:00+00:00  57654.00  58051.42  5646.760536  58001.2825   \n",
       "2021-04-09 08:00:00+00:00  57669.58  58527.19  9447.290473  58285.0925   \n",
       "2021-04-09 12:00:00+00:00  58024.00  58240.00  9093.856963  58393.6675   \n",
       "2021-04-09 16:00:00+00:00  57870.57  58370.59  6360.450980  58252.2875   \n",
       "2021-04-09 20:00:00+00:00  57873.31  58142.54  5048.282625  58246.6100   \n",
       "\n",
       "                                 ema_fast        ema_slow          rsi  ...  \\\n",
       "date                                                                    ...   \n",
       "2021-04-09 04:00:00+00:00  57726.51212341  57546.43245832  54.08736683  ...   \n",
       "2021-04-09 08:00:00+00:00  57955.27723101  57649.67009428  57.98601159  ...   \n",
       "2021-04-09 12:00:00+00:00  58036.62659358  57711.81008436  54.95263104  ...   \n",
       "2021-04-09 16:00:00+00:00  58132.04470970  57781.15533864  56.07778811  ...   \n",
       "2021-04-09 20:00:00+00:00  58135.04336407  57819.19582931  53.56182689  ...   \n",
       "\n",
       "                           greenLine  greenLine_last  short_last  green_last  \\\n",
       "date                                                                           \n",
       "2021-04-09 04:00:00+00:00      False           False       False        True   \n",
       "2021-04-09 08:00:00+00:00       True           False       False        True   \n",
       "2021-04-09 12:00:00+00:00       True            True       False        True   \n",
       "2021-04-09 16:00:00+00:00       True            True       False        True   \n",
       "2021-04-09 20:00:00+00:00       True            True       False        True   \n",
       "\n",
       "                           red_last  hold_state  signal_buy  signal_sell  buy  \\\n",
       "date                                                                            \n",
       "2021-04-09 04:00:00+00:00     False       False         NaN          NaN  NaN   \n",
       "2021-04-09 08:00:00+00:00     False       False         NaN          NaN  NaN   \n",
       "2021-04-09 12:00:00+00:00     False       False         NaN          NaN  NaN   \n",
       "2021-04-09 16:00:00+00:00     False       False         NaN          NaN  NaN   \n",
       "2021-04-09 20:00:00+00:00     False       False         NaN          NaN  NaN   \n",
       "\n",
       "                           sell  \n",
       "date                             \n",
       "2021-04-09 04:00:00+00:00   NaN  \n",
       "2021-04-09 08:00:00+00:00   NaN  \n",
       "2021-04-09 12:00:00+00:00   NaN  \n",
       "2021-04-09 16:00:00+00:00   NaN  \n",
       "2021-04-09 20:00:00+00:00   NaN  \n",
       "\n",
       "[5 rows x 35 columns]"
      ],
      "text/html": "<div>\n<style scoped>\n    .dataframe tbody tr th:only-of-type {\n        vertical-align: middle;\n    }\n\n    .dataframe tbody tr th {\n        vertical-align: top;\n    }\n\n    .dataframe thead th {\n        text-align: right;\n    }\n</style>\n<table border=\"1\" class=\"dataframe\">\n  <thead>\n    <tr style=\"text-align: right;\">\n      <th></th>\n      <th>date</th>\n      <th>open</th>\n      <th>high</th>\n      <th>low</th>\n      <th>close</th>\n      <th>volume</th>\n      <th>ohlc4</th>\n      <th>ema_fast</th>\n      <th>ema_slow</th>\n      <th>rsi</th>\n      <th>...</th>\n      <th>greenLine</th>\n      <th>greenLine_last</th>\n      <th>short_last</th>\n      <th>green_last</th>\n      <th>red_last</th>\n      <th>hold_state</th>\n      <th>signal_buy</th>\n      <th>signal_sell</th>\n      <th>buy</th>\n      <th>sell</th>\n    </tr>\n    <tr>\n      <th>date</th>\n      <th></th>\n      <th></th>\n      <th></th>\n      <th></th>\n      <th></th>\n      <th></th>\n      <th></th>\n      <th></th>\n      <th></th>\n      <th></th>\n      <th></th>\n      <th></th>\n      <th></th>\n      <th></th>\n      <th></th>\n      <th></th>\n      <th></th>\n      <th></th>\n      <th></th>\n      <th></th>\n      <th></th>\n    </tr>\n  </thead>\n  <tbody>\n    <tr>\n      <th>2021-04-09 04:00:00+00:00</th>\n      <td>2021-04-09 04:00:00+00:00</td>\n      <td>57985.71</td>\n      <td>58314.00</td>\n      <td>57654.00</td>\n      <td>58051.42</td>\n      <td>5646.760536</td>\n      <td>58001.2825</td>\n      <td>57726.51212341</td>\n      <td>57546.43245832</td>\n      <td>54.08736683</td>\n      <td>...</td>\n      <td>False</td>\n      <td>False</td>\n      <td>False</td>\n      <td>True</td>\n      <td>False</td>\n      <td>False</td>\n      <td>NaN</td>\n      <td>NaN</td>\n      <td>NaN</td>\n      <td>NaN</td>\n    </tr>\n    <tr>\n      <th>2021-04-09 08:00:00+00:00</th>\n      <td>2021-04-09 08:00:00+00:00</td>\n      <td>58048.70</td>\n      <td>58894.90</td>\n      <td>57669.58</td>\n      <td>58527.19</td>\n      <td>9447.290473</td>\n      <td>58285.0925</td>\n      <td>57955.27723101</td>\n      <td>57649.67009428</td>\n      <td>57.98601159</td>\n      <td>...</td>\n      <td>True</td>\n      <td>False</td>\n      <td>False</td>\n      <td>True</td>\n      <td>False</td>\n      <td>False</td>\n      <td>NaN</td>\n      <td>NaN</td>\n      <td>NaN</td>\n      <td>NaN</td>\n    </tr>\n    <tr>\n      <th>2021-04-09 12:00:00+00:00</th>\n      <td>2021-04-09 12:00:00+00:00</td>\n      <td>58527.20</td>\n      <td>58783.47</td>\n      <td>58024.00</td>\n      <td>58240.00</td>\n      <td>9093.856963</td>\n      <td>58393.6675</td>\n      <td>58036.62659358</td>\n      <td>57711.81008436</td>\n      <td>54.95263104</td>\n      <td>...</td>\n      <td>True</td>\n      <td>True</td>\n      <td>False</td>\n      <td>True</td>\n      <td>False</td>\n      <td>False</td>\n      <td>NaN</td>\n      <td>NaN</td>\n      <td>NaN</td>\n      <td>NaN</td>\n    </tr>\n    <tr>\n      <th>2021-04-09 16:00:00+00:00</th>\n      <td>2021-04-09 16:00:00+00:00</td>\n      <td>58239.99</td>\n      <td>58528.00</td>\n      <td>57870.57</td>\n      <td>58370.59</td>\n      <td>6360.450980</td>\n      <td>58252.2875</td>\n      <td>58132.04470970</td>\n      <td>57781.15533864</td>\n      <td>56.07778811</td>\n      <td>...</td>\n      <td>True</td>\n      <td>True</td>\n      <td>False</td>\n      <td>True</td>\n      <td>False</td>\n      <td>False</td>\n      <td>NaN</td>\n      <td>NaN</td>\n      <td>NaN</td>\n      <td>NaN</td>\n    </tr>\n    <tr>\n      <th>2021-04-09 20:00:00+00:00</th>\n      <td>2021-04-09 20:00:00+00:00</td>\n      <td>58370.59</td>\n      <td>58600.00</td>\n      <td>57873.31</td>\n      <td>58142.54</td>\n      <td>5048.282625</td>\n      <td>58246.6100</td>\n      <td>58135.04336407</td>\n      <td>57819.19582931</td>\n      <td>53.56182689</td>\n      <td>...</td>\n      <td>True</td>\n      <td>True</td>\n      <td>False</td>\n      <td>True</td>\n      <td>False</td>\n      <td>False</td>\n      <td>NaN</td>\n      <td>NaN</td>\n      <td>NaN</td>\n      <td>NaN</td>\n    </tr>\n  </tbody>\n</table>\n<p>5 rows × 35 columns</p>\n</div>"
     },
     "metadata": {},
     "execution_count": 26
    }
   ],
   "source": [
    "# Report results\n",
    "print(f\"Generated {df['buy'].sum()} buy signals\")\n",
    "data = df.set_index('date', drop=False)\n",
    "data.tail()"
   ]
  },
  {
   "cell_type": "code",
   "execution_count": 27,
   "metadata": {},
   "outputs": [
    {
     "output_type": "execute_result",
     "data": {
      "text/plain": [
       "pair      sell_reason\n",
       "BTC/USDT  sell_signal    241\n",
       "          force_sell       1\n",
       "Name: sell_reason, dtype: int64"
      ]
     },
     "metadata": {},
     "execution_count": 27
    }
   ],
   "source": [
    "trades = load_backtest_data(backtest_dir)\n",
    "\n",
    "# Show value-counts per pair\n",
    "trades.groupby(\"pair\")[\"sell_reason\"].value_counts()"
   ]
  },
  {
   "cell_type": "code",
   "execution_count": 28,
   "metadata": {},
   "outputs": [
    {
     "output_type": "execute_result",
     "data": {
      "text/plain": [
       "         pair  stake_amount      amount                 open_date  \\\n",
       "0    BTC/USDT          0.05  0.00000432 2017-12-05 00:00:00+00:00   \n",
       "1    BTC/USDT          0.05  0.00000315 2017-12-09 00:00:00+00:00   \n",
       "2    BTC/USDT          0.05  0.00000324 2017-12-10 16:00:00+00:00   \n",
       "3    BTC/USDT          0.05  0.00000311 2017-12-14 12:00:00+00:00   \n",
       "4    BTC/USDT          0.05  0.00000350 2017-12-26 04:00:00+00:00   \n",
       "..        ...           ...         ...                       ...   \n",
       "237  BTC/USDT          0.05  0.00000101 2021-03-07 04:00:00+00:00   \n",
       "238  BTC/USDT          0.05  0.00000086 2021-03-17 20:00:00+00:00   \n",
       "239  BTC/USDT          0.05  0.00000091 2021-03-27 00:00:00+00:00   \n",
       "240  BTC/USDT          0.05  0.00000085 2021-04-05 20:00:00+00:00   \n",
       "241  BTC/USDT          0.05  0.00000086 2021-04-09 00:00:00+00:00   \n",
       "\n",
       "                   close_date  open_rate  close_rate  fee_open  fee_close  \\\n",
       "0   2017-12-08 12:00:00+00:00   11571.03    14849.99     0.001      0.001   \n",
       "1   2017-12-10 04:00:00+00:00   15880.01    12609.62     0.001      0.001   \n",
       "2   2017-12-14 08:00:00+00:00   15410.25    15756.70     0.001      0.001   \n",
       "3   2017-12-19 12:00:00+00:00   16098.95    17214.20     0.001      0.001   \n",
       "4   2017-12-28 08:00:00+00:00   14300.00    13984.38     0.001      0.001   \n",
       "..                        ...        ...         ...       ...        ...   \n",
       "237 2021-03-15 08:00:00+00:00   49551.43    57789.75     0.001      0.001   \n",
       "238 2021-03-21 08:00:00+00:00   57867.42    56972.68     0.001      0.001   \n",
       "239 2021-04-04 00:00:00+00:00   55025.59    57051.95     0.001      0.001   \n",
       "240 2021-04-06 20:00:00+00:00   59005.21    58225.01     0.001      0.001   \n",
       "241 2021-04-09 20:00:00+00:00   58077.52    58370.59     0.001      0.001   \n",
       "\n",
       "     trade_duration  ...  sell_reason  initial_stop_loss_abs  \\\n",
       "0              5040  ...  sell_signal               5785.515   \n",
       "1              1680  ...  sell_signal               7940.005   \n",
       "2              5280  ...  sell_signal               7705.125   \n",
       "3              7200  ...  sell_signal               8049.475   \n",
       "4              3120  ...  sell_signal               7150.000   \n",
       "..              ...  ...          ...                    ...   \n",
       "237           11760  ...  sell_signal              24775.715   \n",
       "238            5040  ...  sell_signal              28933.710   \n",
       "239           11520  ...  sell_signal              27512.795   \n",
       "240            1440  ...  sell_signal              29502.605   \n",
       "241            1200  ...   force_sell              29038.760   \n",
       "\n",
       "    initial_stop_loss_ratio  stop_loss_abs  stop_loss_ratio  min_rate  \\\n",
       "0                      -0.5       5785.515             -0.5  11571.03   \n",
       "1                      -0.5       7940.005             -0.5  13882.40   \n",
       "2                      -0.5       7705.125             -0.5  15410.25   \n",
       "3                      -0.5       8049.475             -0.5  16098.95   \n",
       "4                      -0.5       7150.000             -0.5  14300.00   \n",
       "..                      ...            ...              ...       ...   \n",
       "237                    -0.5      24775.715             -0.5  49551.43   \n",
       "238                    -0.5      28933.710             -0.5  57325.45   \n",
       "239                    -0.5      27512.795             -0.5  55025.59   \n",
       "240                    -0.5      29502.605             -0.5  58282.12   \n",
       "241                    -0.5      29038.760             -0.5  58077.52   \n",
       "\n",
       "     max_rate  is_open  open_timestamp  close_timestamp  \n",
       "0    17204.99    False  1.51243200e+12   1.51273440e+12  \n",
       "1    16269.30    False  1.51277760e+12   1.51287840e+12  \n",
       "2    17470.00    False  1.51292160e+12   1.51323840e+12  \n",
       "3    19798.68    False  1.51325280e+12   1.51368480e+12  \n",
       "4    16498.05    False  1.51426080e+12   1.51444800e+12  \n",
       "..        ...      ...             ...              ...  \n",
       "237  61844.00    False  1.61508960e+12   1.61579520e+12  \n",
       "238  60129.97    False  1.61601120e+12   1.61631360e+12  \n",
       "239  60200.00    False  1.61680320e+12   1.61749440e+12  \n",
       "240  59495.24    False  1.61765280e+12   1.61773920e+12  \n",
       "241  58894.90     True  1.61792640e+12   1.61799840e+12  \n",
       "\n",
       "[242 rows x 22 columns]"
      ],
      "text/html": "<div>\n<style scoped>\n    .dataframe tbody tr th:only-of-type {\n        vertical-align: middle;\n    }\n\n    .dataframe tbody tr th {\n        vertical-align: top;\n    }\n\n    .dataframe thead th {\n        text-align: right;\n    }\n</style>\n<table border=\"1\" class=\"dataframe\">\n  <thead>\n    <tr style=\"text-align: right;\">\n      <th></th>\n      <th>pair</th>\n      <th>stake_amount</th>\n      <th>amount</th>\n      <th>open_date</th>\n      <th>close_date</th>\n      <th>open_rate</th>\n      <th>close_rate</th>\n      <th>fee_open</th>\n      <th>fee_close</th>\n      <th>trade_duration</th>\n      <th>...</th>\n      <th>sell_reason</th>\n      <th>initial_stop_loss_abs</th>\n      <th>initial_stop_loss_ratio</th>\n      <th>stop_loss_abs</th>\n      <th>stop_loss_ratio</th>\n      <th>min_rate</th>\n      <th>max_rate</th>\n      <th>is_open</th>\n      <th>open_timestamp</th>\n      <th>close_timestamp</th>\n    </tr>\n  </thead>\n  <tbody>\n    <tr>\n      <th>0</th>\n      <td>BTC/USDT</td>\n      <td>0.05</td>\n      <td>0.00000432</td>\n      <td>2017-12-05 00:00:00+00:00</td>\n      <td>2017-12-08 12:00:00+00:00</td>\n      <td>11571.03</td>\n      <td>14849.99</td>\n      <td>0.001</td>\n      <td>0.001</td>\n      <td>5040</td>\n      <td>...</td>\n      <td>sell_signal</td>\n      <td>5785.515</td>\n      <td>-0.5</td>\n      <td>5785.515</td>\n      <td>-0.5</td>\n      <td>11571.03</td>\n      <td>17204.99</td>\n      <td>False</td>\n      <td>1.51243200e+12</td>\n      <td>1.51273440e+12</td>\n    </tr>\n    <tr>\n      <th>1</th>\n      <td>BTC/USDT</td>\n      <td>0.05</td>\n      <td>0.00000315</td>\n      <td>2017-12-09 00:00:00+00:00</td>\n      <td>2017-12-10 04:00:00+00:00</td>\n      <td>15880.01</td>\n      <td>12609.62</td>\n      <td>0.001</td>\n      <td>0.001</td>\n      <td>1680</td>\n      <td>...</td>\n      <td>sell_signal</td>\n      <td>7940.005</td>\n      <td>-0.5</td>\n      <td>7940.005</td>\n      <td>-0.5</td>\n      <td>13882.40</td>\n      <td>16269.30</td>\n      <td>False</td>\n      <td>1.51277760e+12</td>\n      <td>1.51287840e+12</td>\n    </tr>\n    <tr>\n      <th>2</th>\n      <td>BTC/USDT</td>\n      <td>0.05</td>\n      <td>0.00000324</td>\n      <td>2017-12-10 16:00:00+00:00</td>\n      <td>2017-12-14 08:00:00+00:00</td>\n      <td>15410.25</td>\n      <td>15756.70</td>\n      <td>0.001</td>\n      <td>0.001</td>\n      <td>5280</td>\n      <td>...</td>\n      <td>sell_signal</td>\n      <td>7705.125</td>\n      <td>-0.5</td>\n      <td>7705.125</td>\n      <td>-0.5</td>\n      <td>15410.25</td>\n      <td>17470.00</td>\n      <td>False</td>\n      <td>1.51292160e+12</td>\n      <td>1.51323840e+12</td>\n    </tr>\n    <tr>\n      <th>3</th>\n      <td>BTC/USDT</td>\n      <td>0.05</td>\n      <td>0.00000311</td>\n      <td>2017-12-14 12:00:00+00:00</td>\n      <td>2017-12-19 12:00:00+00:00</td>\n      <td>16098.95</td>\n      <td>17214.20</td>\n      <td>0.001</td>\n      <td>0.001</td>\n      <td>7200</td>\n      <td>...</td>\n      <td>sell_signal</td>\n      <td>8049.475</td>\n      <td>-0.5</td>\n      <td>8049.475</td>\n      <td>-0.5</td>\n      <td>16098.95</td>\n      <td>19798.68</td>\n      <td>False</td>\n      <td>1.51325280e+12</td>\n      <td>1.51368480e+12</td>\n    </tr>\n    <tr>\n      <th>4</th>\n      <td>BTC/USDT</td>\n      <td>0.05</td>\n      <td>0.00000350</td>\n      <td>2017-12-26 04:00:00+00:00</td>\n      <td>2017-12-28 08:00:00+00:00</td>\n      <td>14300.00</td>\n      <td>13984.38</td>\n      <td>0.001</td>\n      <td>0.001</td>\n      <td>3120</td>\n      <td>...</td>\n      <td>sell_signal</td>\n      <td>7150.000</td>\n      <td>-0.5</td>\n      <td>7150.000</td>\n      <td>-0.5</td>\n      <td>14300.00</td>\n      <td>16498.05</td>\n      <td>False</td>\n      <td>1.51426080e+12</td>\n      <td>1.51444800e+12</td>\n    </tr>\n    <tr>\n      <th>...</th>\n      <td>...</td>\n      <td>...</td>\n      <td>...</td>\n      <td>...</td>\n      <td>...</td>\n      <td>...</td>\n      <td>...</td>\n      <td>...</td>\n      <td>...</td>\n      <td>...</td>\n      <td>...</td>\n      <td>...</td>\n      <td>...</td>\n      <td>...</td>\n      <td>...</td>\n      <td>...</td>\n      <td>...</td>\n      <td>...</td>\n      <td>...</td>\n      <td>...</td>\n      <td>...</td>\n    </tr>\n    <tr>\n      <th>237</th>\n      <td>BTC/USDT</td>\n      <td>0.05</td>\n      <td>0.00000101</td>\n      <td>2021-03-07 04:00:00+00:00</td>\n      <td>2021-03-15 08:00:00+00:00</td>\n      <td>49551.43</td>\n      <td>57789.75</td>\n      <td>0.001</td>\n      <td>0.001</td>\n      <td>11760</td>\n      <td>...</td>\n      <td>sell_signal</td>\n      <td>24775.715</td>\n      <td>-0.5</td>\n      <td>24775.715</td>\n      <td>-0.5</td>\n      <td>49551.43</td>\n      <td>61844.00</td>\n      <td>False</td>\n      <td>1.61508960e+12</td>\n      <td>1.61579520e+12</td>\n    </tr>\n    <tr>\n      <th>238</th>\n      <td>BTC/USDT</td>\n      <td>0.05</td>\n      <td>0.00000086</td>\n      <td>2021-03-17 20:00:00+00:00</td>\n      <td>2021-03-21 08:00:00+00:00</td>\n      <td>57867.42</td>\n      <td>56972.68</td>\n      <td>0.001</td>\n      <td>0.001</td>\n      <td>5040</td>\n      <td>...</td>\n      <td>sell_signal</td>\n      <td>28933.710</td>\n      <td>-0.5</td>\n      <td>28933.710</td>\n      <td>-0.5</td>\n      <td>57325.45</td>\n      <td>60129.97</td>\n      <td>False</td>\n      <td>1.61601120e+12</td>\n      <td>1.61631360e+12</td>\n    </tr>\n    <tr>\n      <th>239</th>\n      <td>BTC/USDT</td>\n      <td>0.05</td>\n      <td>0.00000091</td>\n      <td>2021-03-27 00:00:00+00:00</td>\n      <td>2021-04-04 00:00:00+00:00</td>\n      <td>55025.59</td>\n      <td>57051.95</td>\n      <td>0.001</td>\n      <td>0.001</td>\n      <td>11520</td>\n      <td>...</td>\n      <td>sell_signal</td>\n      <td>27512.795</td>\n      <td>-0.5</td>\n      <td>27512.795</td>\n      <td>-0.5</td>\n      <td>55025.59</td>\n      <td>60200.00</td>\n      <td>False</td>\n      <td>1.61680320e+12</td>\n      <td>1.61749440e+12</td>\n    </tr>\n    <tr>\n      <th>240</th>\n      <td>BTC/USDT</td>\n      <td>0.05</td>\n      <td>0.00000085</td>\n      <td>2021-04-05 20:00:00+00:00</td>\n      <td>2021-04-06 20:00:00+00:00</td>\n      <td>59005.21</td>\n      <td>58225.01</td>\n      <td>0.001</td>\n      <td>0.001</td>\n      <td>1440</td>\n      <td>...</td>\n      <td>sell_signal</td>\n      <td>29502.605</td>\n      <td>-0.5</td>\n      <td>29502.605</td>\n      <td>-0.5</td>\n      <td>58282.12</td>\n      <td>59495.24</td>\n      <td>False</td>\n      <td>1.61765280e+12</td>\n      <td>1.61773920e+12</td>\n    </tr>\n    <tr>\n      <th>241</th>\n      <td>BTC/USDT</td>\n      <td>0.05</td>\n      <td>0.00000086</td>\n      <td>2021-04-09 00:00:00+00:00</td>\n      <td>2021-04-09 20:00:00+00:00</td>\n      <td>58077.52</td>\n      <td>58370.59</td>\n      <td>0.001</td>\n      <td>0.001</td>\n      <td>1200</td>\n      <td>...</td>\n      <td>force_sell</td>\n      <td>29038.760</td>\n      <td>-0.5</td>\n      <td>29038.760</td>\n      <td>-0.5</td>\n      <td>58077.52</td>\n      <td>58894.90</td>\n      <td>True</td>\n      <td>1.61792640e+12</td>\n      <td>1.61799840e+12</td>\n    </tr>\n  </tbody>\n</table>\n<p>242 rows × 22 columns</p>\n</div>"
     },
     "metadata": {},
     "execution_count": 28
    }
   ],
   "source": [
    "from freqtrade.data.btanalysis import load_trades_from_db\n",
    "\n",
    "# Fetch trades from database\n",
    "#trades = load_trades_from_db(\"sqlite:///tradesv3.sqlite\")\n",
    "\n",
    "# Display results\n",
    "#trades.groupby(\"pair\")[\"sell_reason\"].value_counts()\n",
    "trades"
   ]
  },
  {
   "cell_type": "code",
   "execution_count": 29,
   "metadata": {},
   "outputs": [
    {
     "output_type": "execute_result",
     "data": {
      "text/plain": [
       "<AxesSubplot:xlabel='date'>"
      ]
     },
     "metadata": {},
     "execution_count": 29
    },
    {
     "output_type": "display_data",
     "data": {
      "text/plain": "<Figure size 432x288 with 1 Axes>",
      "image/svg+xml": "<?xml version=\"1.0\" encoding=\"utf-8\" standalone=\"no\"?>\r\n<!DOCTYPE svg PUBLIC \"-//W3C//DTD SVG 1.1//EN\"\r\n  \"http://www.w3.org/Graphics/SVG/1.1/DTD/svg11.dtd\">\r\n<!-- Created with matplotlib (https://matplotlib.org/) -->\r\n<svg height=\"273.394062pt\" version=\"1.1\" viewBox=\"0 0 372.103125 273.394062\" width=\"372.103125pt\" xmlns=\"http://www.w3.org/2000/svg\" xmlns:xlink=\"http://www.w3.org/1999/xlink\">\r\n <metadata>\r\n  <rdf:RDF xmlns:cc=\"http://creativecommons.org/ns#\" xmlns:dc=\"http://purl.org/dc/elements/1.1/\" xmlns:rdf=\"http://www.w3.org/1999/02/22-rdf-syntax-ns#\">\r\n   <cc:Work>\r\n    <dc:type rdf:resource=\"http://purl.org/dc/dcmitype/StillImage\"/>\r\n    <dc:date>2021-04-18T14:20:33.998231</dc:date>\r\n    <dc:format>image/svg+xml</dc:format>\r\n    <dc:creator>\r\n     <cc:Agent>\r\n      <dc:title>Matplotlib v3.3.2, https://matplotlib.org/</dc:title>\r\n     </cc:Agent>\r\n    </dc:creator>\r\n   </cc:Work>\r\n  </rdf:RDF>\r\n </metadata>\r\n <defs>\r\n  <style type=\"text/css\">*{stroke-linecap:butt;stroke-linejoin:round;}</style>\r\n </defs>\r\n <g id=\"figure_1\">\r\n  <g id=\"patch_1\">\r\n   <path d=\"M 0 273.394062 \r\nL 372.103125 273.394062 \r\nL 372.103125 0 \r\nL 0 0 \r\nz\r\n\" style=\"fill:none;\"/>\r\n  </g>\r\n  <g id=\"axes_1\">\r\n   <g id=\"patch_2\">\r\n    <path d=\"M 30.103125 224.64 \r\nL 364.903125 224.64 \r\nL 364.903125 7.2 \r\nL 30.103125 7.2 \r\nz\r\n\" style=\"fill:#ffffff;\"/>\r\n   </g>\r\n   <g id=\"matplotlib.axis_1\">\r\n    <g id=\"xtick_1\">\r\n     <g id=\"line2d_1\">\r\n      <defs>\r\n       <path d=\"M 0 0 \r\nL 0 3.5 \r\n\" id=\"m88300a1d5d\" style=\"stroke:#000000;stroke-width:0.8;\"/>\r\n      </defs>\r\n      <g>\r\n       <use style=\"stroke:#000000;stroke-width:0.8;\" x=\"30.103125\" xlink:href=\"#m88300a1d5d\" y=\"224.64\"/>\r\n      </g>\r\n     </g>\r\n    </g>\r\n    <g id=\"xtick_2\">\r\n     <g id=\"line2d_2\">\r\n      <g>\r\n       <use style=\"stroke:#000000;stroke-width:0.8;\" x=\"37.501515\" xlink:href=\"#m88300a1d5d\" y=\"224.64\"/>\r\n      </g>\r\n     </g>\r\n     <g id=\"text_1\">\r\n      <!-- Jan -->\r\n      <g transform=\"translate(29.793703 239.238437)scale(0.1 -0.1)\">\r\n       <defs>\r\n        <path d=\"M 9.8125 72.90625 \r\nL 19.671875 72.90625 \r\nL 19.671875 5.078125 \r\nQ 19.671875 -8.109375 14.671875 -14.0625 \r\nQ 9.671875 -20.015625 -1.421875 -20.015625 \r\nL -5.171875 -20.015625 \r\nL -5.171875 -11.71875 \r\nL -2.09375 -11.71875 \r\nQ 4.4375 -11.71875 7.125 -8.046875 \r\nQ 9.8125 -4.390625 9.8125 5.078125 \r\nz\r\n\" id=\"DejaVuSans-74\"/>\r\n        <path d=\"M 34.28125 27.484375 \r\nQ 23.390625 27.484375 19.1875 25 \r\nQ 14.984375 22.515625 14.984375 16.5 \r\nQ 14.984375 11.71875 18.140625 8.90625 \r\nQ 21.296875 6.109375 26.703125 6.109375 \r\nQ 34.1875 6.109375 38.703125 11.40625 \r\nQ 43.21875 16.703125 43.21875 25.484375 \r\nL 43.21875 27.484375 \r\nz\r\nM 52.203125 31.203125 \r\nL 52.203125 0 \r\nL 43.21875 0 \r\nL 43.21875 8.296875 \r\nQ 40.140625 3.328125 35.546875 0.953125 \r\nQ 30.953125 -1.421875 24.3125 -1.421875 \r\nQ 15.921875 -1.421875 10.953125 3.296875 \r\nQ 6 8.015625 6 15.921875 \r\nQ 6 25.140625 12.171875 29.828125 \r\nQ 18.359375 34.515625 30.609375 34.515625 \r\nL 43.21875 34.515625 \r\nL 43.21875 35.40625 \r\nQ 43.21875 41.609375 39.140625 45 \r\nQ 35.0625 48.390625 27.6875 48.390625 \r\nQ 23 48.390625 18.546875 47.265625 \r\nQ 14.109375 46.140625 10.015625 43.890625 \r\nL 10.015625 52.203125 \r\nQ 14.9375 54.109375 19.578125 55.046875 \r\nQ 24.21875 56 28.609375 56 \r\nQ 40.484375 56 46.34375 49.84375 \r\nQ 52.203125 43.703125 52.203125 31.203125 \r\nz\r\n\" id=\"DejaVuSans-97\"/>\r\n        <path d=\"M 54.890625 33.015625 \r\nL 54.890625 0 \r\nL 45.90625 0 \r\nL 45.90625 32.71875 \r\nQ 45.90625 40.484375 42.875 44.328125 \r\nQ 39.84375 48.1875 33.796875 48.1875 \r\nQ 26.515625 48.1875 22.3125 43.546875 \r\nQ 18.109375 38.921875 18.109375 30.90625 \r\nL 18.109375 0 \r\nL 9.078125 0 \r\nL 9.078125 54.6875 \r\nL 18.109375 54.6875 \r\nL 18.109375 46.1875 \r\nQ 21.34375 51.125 25.703125 53.5625 \r\nQ 30.078125 56 35.796875 56 \r\nQ 45.21875 56 50.046875 50.171875 \r\nQ 54.890625 44.34375 54.890625 33.015625 \r\nz\r\n\" id=\"DejaVuSans-110\"/>\r\n       </defs>\r\n       <use xlink:href=\"#DejaVuSans-74\"/>\r\n       <use x=\"29.492188\" xlink:href=\"#DejaVuSans-97\"/>\r\n       <use x=\"90.771484\" xlink:href=\"#DejaVuSans-110\"/>\r\n      </g>\r\n      <!-- 2018 -->\r\n      <g transform=\"translate(24.776515 250.43625)scale(0.1 -0.1)\">\r\n       <defs>\r\n        <path d=\"M 19.1875 8.296875 \r\nL 53.609375 8.296875 \r\nL 53.609375 0 \r\nL 7.328125 0 \r\nL 7.328125 8.296875 \r\nQ 12.9375 14.109375 22.625 23.890625 \r\nQ 32.328125 33.6875 34.8125 36.53125 \r\nQ 39.546875 41.84375 41.421875 45.53125 \r\nQ 43.3125 49.21875 43.3125 52.78125 \r\nQ 43.3125 58.59375 39.234375 62.25 \r\nQ 35.15625 65.921875 28.609375 65.921875 \r\nQ 23.96875 65.921875 18.8125 64.3125 \r\nQ 13.671875 62.703125 7.8125 59.421875 \r\nL 7.8125 69.390625 \r\nQ 13.765625 71.78125 18.9375 73 \r\nQ 24.125 74.21875 28.421875 74.21875 \r\nQ 39.75 74.21875 46.484375 68.546875 \r\nQ 53.21875 62.890625 53.21875 53.421875 \r\nQ 53.21875 48.921875 51.53125 44.890625 \r\nQ 49.859375 40.875 45.40625 35.40625 \r\nQ 44.1875 33.984375 37.640625 27.21875 \r\nQ 31.109375 20.453125 19.1875 8.296875 \r\nz\r\n\" id=\"DejaVuSans-50\"/>\r\n        <path d=\"M 31.78125 66.40625 \r\nQ 24.171875 66.40625 20.328125 58.90625 \r\nQ 16.5 51.421875 16.5 36.375 \r\nQ 16.5 21.390625 20.328125 13.890625 \r\nQ 24.171875 6.390625 31.78125 6.390625 \r\nQ 39.453125 6.390625 43.28125 13.890625 \r\nQ 47.125 21.390625 47.125 36.375 \r\nQ 47.125 51.421875 43.28125 58.90625 \r\nQ 39.453125 66.40625 31.78125 66.40625 \r\nz\r\nM 31.78125 74.21875 \r\nQ 44.046875 74.21875 50.515625 64.515625 \r\nQ 56.984375 54.828125 56.984375 36.375 \r\nQ 56.984375 17.96875 50.515625 8.265625 \r\nQ 44.046875 -1.421875 31.78125 -1.421875 \r\nQ 19.53125 -1.421875 13.0625 8.265625 \r\nQ 6.59375 17.96875 6.59375 36.375 \r\nQ 6.59375 54.828125 13.0625 64.515625 \r\nQ 19.53125 74.21875 31.78125 74.21875 \r\nz\r\n\" id=\"DejaVuSans-48\"/>\r\n        <path d=\"M 12.40625 8.296875 \r\nL 28.515625 8.296875 \r\nL 28.515625 63.921875 \r\nL 10.984375 60.40625 \r\nL 10.984375 69.390625 \r\nL 28.421875 72.90625 \r\nL 38.28125 72.90625 \r\nL 38.28125 8.296875 \r\nL 54.390625 8.296875 \r\nL 54.390625 0 \r\nL 12.40625 0 \r\nz\r\n\" id=\"DejaVuSans-49\"/>\r\n        <path d=\"M 31.78125 34.625 \r\nQ 24.75 34.625 20.71875 30.859375 \r\nQ 16.703125 27.09375 16.703125 20.515625 \r\nQ 16.703125 13.921875 20.71875 10.15625 \r\nQ 24.75 6.390625 31.78125 6.390625 \r\nQ 38.8125 6.390625 42.859375 10.171875 \r\nQ 46.921875 13.96875 46.921875 20.515625 \r\nQ 46.921875 27.09375 42.890625 30.859375 \r\nQ 38.875 34.625 31.78125 34.625 \r\nz\r\nM 21.921875 38.8125 \r\nQ 15.578125 40.375 12.03125 44.71875 \r\nQ 8.5 49.078125 8.5 55.328125 \r\nQ 8.5 64.0625 14.71875 69.140625 \r\nQ 20.953125 74.21875 31.78125 74.21875 \r\nQ 42.671875 74.21875 48.875 69.140625 \r\nQ 55.078125 64.0625 55.078125 55.328125 \r\nQ 55.078125 49.078125 51.53125 44.71875 \r\nQ 48 40.375 41.703125 38.8125 \r\nQ 48.828125 37.15625 52.796875 32.3125 \r\nQ 56.78125 27.484375 56.78125 20.515625 \r\nQ 56.78125 9.90625 50.3125 4.234375 \r\nQ 43.84375 -1.421875 31.78125 -1.421875 \r\nQ 19.734375 -1.421875 13.25 4.234375 \r\nQ 6.78125 9.90625 6.78125 20.515625 \r\nQ 6.78125 27.484375 10.78125 32.3125 \r\nQ 14.796875 37.15625 21.921875 38.8125 \r\nz\r\nM 18.3125 54.390625 \r\nQ 18.3125 48.734375 21.84375 45.5625 \r\nQ 25.390625 42.390625 31.78125 42.390625 \r\nQ 38.140625 42.390625 41.71875 45.5625 \r\nQ 45.3125 48.734375 45.3125 54.390625 \r\nQ 45.3125 60.0625 41.71875 63.234375 \r\nQ 38.140625 66.40625 31.78125 66.40625 \r\nQ 25.390625 66.40625 21.84375 63.234375 \r\nQ 18.3125 60.0625 18.3125 54.390625 \r\nz\r\n\" id=\"DejaVuSans-56\"/>\r\n       </defs>\r\n       <use xlink:href=\"#DejaVuSans-50\"/>\r\n       <use x=\"63.623047\" xlink:href=\"#DejaVuSans-48\"/>\r\n       <use x=\"127.246094\" xlink:href=\"#DejaVuSans-49\"/>\r\n       <use x=\"190.869141\" xlink:href=\"#DejaVuSans-56\"/>\r\n      </g>\r\n     </g>\r\n    </g>\r\n    <g id=\"xtick_3\">\r\n     <g id=\"line2d_3\">\r\n      <g>\r\n       <use style=\"stroke:#000000;stroke-width:0.8;\" x=\"137.516793\" xlink:href=\"#m88300a1d5d\" y=\"224.64\"/>\r\n      </g>\r\n     </g>\r\n     <g id=\"text_2\">\r\n      <!-- Jan -->\r\n      <g transform=\"translate(129.80898 239.238437)scale(0.1 -0.1)\">\r\n       <use xlink:href=\"#DejaVuSans-74\"/>\r\n       <use x=\"29.492188\" xlink:href=\"#DejaVuSans-97\"/>\r\n       <use x=\"90.771484\" xlink:href=\"#DejaVuSans-110\"/>\r\n      </g>\r\n      <!-- 2019 -->\r\n      <g transform=\"translate(124.791793 250.43625)scale(0.1 -0.1)\">\r\n       <defs>\r\n        <path d=\"M 10.984375 1.515625 \r\nL 10.984375 10.5 \r\nQ 14.703125 8.734375 18.5 7.8125 \r\nQ 22.3125 6.890625 25.984375 6.890625 \r\nQ 35.75 6.890625 40.890625 13.453125 \r\nQ 46.046875 20.015625 46.78125 33.40625 \r\nQ 43.953125 29.203125 39.59375 26.953125 \r\nQ 35.25 24.703125 29.984375 24.703125 \r\nQ 19.046875 24.703125 12.671875 31.3125 \r\nQ 6.296875 37.9375 6.296875 49.421875 \r\nQ 6.296875 60.640625 12.9375 67.421875 \r\nQ 19.578125 74.21875 30.609375 74.21875 \r\nQ 43.265625 74.21875 49.921875 64.515625 \r\nQ 56.59375 54.828125 56.59375 36.375 \r\nQ 56.59375 19.140625 48.40625 8.859375 \r\nQ 40.234375 -1.421875 26.421875 -1.421875 \r\nQ 22.703125 -1.421875 18.890625 -0.6875 \r\nQ 15.09375 0.046875 10.984375 1.515625 \r\nz\r\nM 30.609375 32.421875 \r\nQ 37.25 32.421875 41.125 36.953125 \r\nQ 45.015625 41.5 45.015625 49.421875 \r\nQ 45.015625 57.28125 41.125 61.84375 \r\nQ 37.25 66.40625 30.609375 66.40625 \r\nQ 23.96875 66.40625 20.09375 61.84375 \r\nQ 16.21875 57.28125 16.21875 49.421875 \r\nQ 16.21875 41.5 20.09375 36.953125 \r\nQ 23.96875 32.421875 30.609375 32.421875 \r\nz\r\n\" id=\"DejaVuSans-57\"/>\r\n       </defs>\r\n       <use xlink:href=\"#DejaVuSans-50\"/>\r\n       <use x=\"63.623047\" xlink:href=\"#DejaVuSans-48\"/>\r\n       <use x=\"127.246094\" xlink:href=\"#DejaVuSans-49\"/>\r\n       <use x=\"190.869141\" xlink:href=\"#DejaVuSans-57\"/>\r\n      </g>\r\n     </g>\r\n    </g>\r\n    <g id=\"xtick_4\">\r\n     <g id=\"line2d_4\">\r\n      <g>\r\n       <use style=\"stroke:#000000;stroke-width:0.8;\" x=\"237.532071\" xlink:href=\"#m88300a1d5d\" y=\"224.64\"/>\r\n      </g>\r\n     </g>\r\n     <g id=\"text_3\">\r\n      <!-- Jan -->\r\n      <g transform=\"translate(229.824258 239.238437)scale(0.1 -0.1)\">\r\n       <use xlink:href=\"#DejaVuSans-74\"/>\r\n       <use x=\"29.492188\" xlink:href=\"#DejaVuSans-97\"/>\r\n       <use x=\"90.771484\" xlink:href=\"#DejaVuSans-110\"/>\r\n      </g>\r\n      <!-- 2020 -->\r\n      <g transform=\"translate(224.807071 250.43625)scale(0.1 -0.1)\">\r\n       <use xlink:href=\"#DejaVuSans-50\"/>\r\n       <use x=\"63.623047\" xlink:href=\"#DejaVuSans-48\"/>\r\n       <use x=\"127.246094\" xlink:href=\"#DejaVuSans-50\"/>\r\n       <use x=\"190.869141\" xlink:href=\"#DejaVuSans-48\"/>\r\n      </g>\r\n     </g>\r\n    </g>\r\n    <g id=\"xtick_5\">\r\n     <g id=\"line2d_5\">\r\n      <g>\r\n       <use style=\"stroke:#000000;stroke-width:0.8;\" x=\"337.821363\" xlink:href=\"#m88300a1d5d\" y=\"224.64\"/>\r\n      </g>\r\n     </g>\r\n     <g id=\"text_4\">\r\n      <!-- Jan -->\r\n      <g transform=\"translate(330.11355 239.238437)scale(0.1 -0.1)\">\r\n       <use xlink:href=\"#DejaVuSans-74\"/>\r\n       <use x=\"29.492188\" xlink:href=\"#DejaVuSans-97\"/>\r\n       <use x=\"90.771484\" xlink:href=\"#DejaVuSans-110\"/>\r\n      </g>\r\n      <!-- 2021 -->\r\n      <g transform=\"translate(325.096363 250.43625)scale(0.1 -0.1)\">\r\n       <use xlink:href=\"#DejaVuSans-50\"/>\r\n       <use x=\"63.623047\" xlink:href=\"#DejaVuSans-48\"/>\r\n       <use x=\"127.246094\" xlink:href=\"#DejaVuSans-50\"/>\r\n       <use x=\"190.869141\" xlink:href=\"#DejaVuSans-49\"/>\r\n      </g>\r\n     </g>\r\n    </g>\r\n    <g id=\"xtick_6\">\r\n     <g id=\"line2d_6\">\r\n      <g>\r\n       <use style=\"stroke:#000000;stroke-width:0.8;\" x=\"364.903125\" xlink:href=\"#m88300a1d5d\" y=\"224.64\"/>\r\n      </g>\r\n     </g>\r\n    </g>\r\n    <g id=\"xtick_7\">\r\n     <g id=\"line2d_7\">\r\n      <defs>\r\n       <path d=\"M 0 0 \r\nL 0 2 \r\n\" id=\"mfcfb6d0e70\" style=\"stroke:#000000;stroke-width:0.6;\"/>\r\n      </defs>\r\n      <g>\r\n       <use style=\"stroke:#000000;stroke-width:0.6;\" x=\"45.995964\" xlink:href=\"#mfcfb6d0e70\" y=\"224.64\"/>\r\n      </g>\r\n     </g>\r\n    </g>\r\n    <g id=\"xtick_8\">\r\n     <g id=\"line2d_8\">\r\n      <g>\r\n       <use style=\"stroke:#000000;stroke-width:0.6;\" x=\"53.668368\" xlink:href=\"#mfcfb6d0e70\" y=\"224.64\"/>\r\n      </g>\r\n     </g>\r\n    </g>\r\n    <g id=\"xtick_9\">\r\n     <g id=\"line2d_9\">\r\n      <g>\r\n       <use style=\"stroke:#000000;stroke-width:0.6;\" x=\"62.162817\" xlink:href=\"#mfcfb6d0e70\" y=\"224.64\"/>\r\n      </g>\r\n     </g>\r\n    </g>\r\n    <g id=\"xtick_10\">\r\n     <g id=\"line2d_10\">\r\n      <g>\r\n       <use style=\"stroke:#000000;stroke-width:0.6;\" x=\"70.38325\" xlink:href=\"#mfcfb6d0e70\" y=\"224.64\"/>\r\n      </g>\r\n     </g>\r\n    </g>\r\n    <g id=\"xtick_11\">\r\n     <g id=\"line2d_11\">\r\n      <g>\r\n       <use style=\"stroke:#000000;stroke-width:0.6;\" x=\"78.877699\" xlink:href=\"#mfcfb6d0e70\" y=\"224.64\"/>\r\n      </g>\r\n     </g>\r\n    </g>\r\n    <g id=\"xtick_12\">\r\n     <g id=\"line2d_12\">\r\n      <g>\r\n       <use style=\"stroke:#000000;stroke-width:0.6;\" x=\"87.098133\" xlink:href=\"#mfcfb6d0e70\" y=\"224.64\"/>\r\n      </g>\r\n     </g>\r\n     <g id=\"text_5\">\r\n      <!-- Jul -->\r\n      <g transform=\"translate(81.06532 237.638437)scale(0.1 -0.1)\">\r\n       <defs>\r\n        <path d=\"M 8.5 21.578125 \r\nL 8.5 54.6875 \r\nL 17.484375 54.6875 \r\nL 17.484375 21.921875 \r\nQ 17.484375 14.15625 20.5 10.265625 \r\nQ 23.53125 6.390625 29.59375 6.390625 \r\nQ 36.859375 6.390625 41.078125 11.03125 \r\nQ 45.3125 15.671875 45.3125 23.6875 \r\nL 45.3125 54.6875 \r\nL 54.296875 54.6875 \r\nL 54.296875 0 \r\nL 45.3125 0 \r\nL 45.3125 8.40625 \r\nQ 42.046875 3.421875 37.71875 1 \r\nQ 33.40625 -1.421875 27.6875 -1.421875 \r\nQ 18.265625 -1.421875 13.375 4.4375 \r\nQ 8.5 10.296875 8.5 21.578125 \r\nz\r\nM 31.109375 56 \r\nz\r\n\" id=\"DejaVuSans-117\"/>\r\n        <path d=\"M 9.421875 75.984375 \r\nL 18.40625 75.984375 \r\nL 18.40625 0 \r\nL 9.421875 0 \r\nz\r\n\" id=\"DejaVuSans-108\"/>\r\n       </defs>\r\n       <use xlink:href=\"#DejaVuSans-74\"/>\r\n       <use x=\"29.492188\" xlink:href=\"#DejaVuSans-117\"/>\r\n       <use x=\"92.871094\" xlink:href=\"#DejaVuSans-108\"/>\r\n      </g>\r\n     </g>\r\n    </g>\r\n    <g id=\"xtick_13\">\r\n     <g id=\"line2d_13\">\r\n      <g>\r\n       <use style=\"stroke:#000000;stroke-width:0.6;\" x=\"95.592581\" xlink:href=\"#mfcfb6d0e70\" y=\"224.64\"/>\r\n      </g>\r\n     </g>\r\n    </g>\r\n    <g id=\"xtick_14\">\r\n     <g id=\"line2d_14\">\r\n      <g>\r\n       <use style=\"stroke:#000000;stroke-width:0.6;\" x=\"104.087029\" xlink:href=\"#mfcfb6d0e70\" y=\"224.64\"/>\r\n      </g>\r\n     </g>\r\n    </g>\r\n    <g id=\"xtick_15\">\r\n     <g id=\"line2d_15\">\r\n      <g>\r\n       <use style=\"stroke:#000000;stroke-width:0.6;\" x=\"112.307463\" xlink:href=\"#mfcfb6d0e70\" y=\"224.64\"/>\r\n      </g>\r\n     </g>\r\n    </g>\r\n    <g id=\"xtick_16\">\r\n     <g id=\"line2d_16\">\r\n      <g>\r\n       <use style=\"stroke:#000000;stroke-width:0.6;\" x=\"120.801911\" xlink:href=\"#mfcfb6d0e70\" y=\"224.64\"/>\r\n      </g>\r\n     </g>\r\n    </g>\r\n    <g id=\"xtick_17\">\r\n     <g id=\"line2d_17\">\r\n      <g>\r\n       <use style=\"stroke:#000000;stroke-width:0.6;\" x=\"129.022345\" xlink:href=\"#mfcfb6d0e70\" y=\"224.64\"/>\r\n      </g>\r\n     </g>\r\n    </g>\r\n    <g id=\"xtick_18\">\r\n     <g id=\"line2d_18\">\r\n      <g>\r\n       <use style=\"stroke:#000000;stroke-width:0.6;\" x=\"146.011241\" xlink:href=\"#mfcfb6d0e70\" y=\"224.64\"/>\r\n      </g>\r\n     </g>\r\n    </g>\r\n    <g id=\"xtick_19\">\r\n     <g id=\"line2d_19\">\r\n      <g>\r\n       <use style=\"stroke:#000000;stroke-width:0.6;\" x=\"153.683646\" xlink:href=\"#mfcfb6d0e70\" y=\"224.64\"/>\r\n      </g>\r\n     </g>\r\n    </g>\r\n    <g id=\"xtick_20\">\r\n     <g id=\"line2d_20\">\r\n      <g>\r\n       <use style=\"stroke:#000000;stroke-width:0.6;\" x=\"162.178094\" xlink:href=\"#mfcfb6d0e70\" y=\"224.64\"/>\r\n      </g>\r\n     </g>\r\n    </g>\r\n    <g id=\"xtick_21\">\r\n     <g id=\"line2d_21\">\r\n      <g>\r\n       <use style=\"stroke:#000000;stroke-width:0.6;\" x=\"170.398528\" xlink:href=\"#mfcfb6d0e70\" y=\"224.64\"/>\r\n      </g>\r\n     </g>\r\n    </g>\r\n    <g id=\"xtick_22\">\r\n     <g id=\"line2d_22\">\r\n      <g>\r\n       <use style=\"stroke:#000000;stroke-width:0.6;\" x=\"178.892976\" xlink:href=\"#mfcfb6d0e70\" y=\"224.64\"/>\r\n      </g>\r\n     </g>\r\n    </g>\r\n    <g id=\"xtick_23\">\r\n     <g id=\"line2d_23\">\r\n      <g>\r\n       <use style=\"stroke:#000000;stroke-width:0.6;\" x=\"187.11341\" xlink:href=\"#mfcfb6d0e70\" y=\"224.64\"/>\r\n      </g>\r\n     </g>\r\n     <g id=\"text_6\">\r\n      <!-- Jul -->\r\n      <g transform=\"translate(181.080598 237.638437)scale(0.1 -0.1)\">\r\n       <use xlink:href=\"#DejaVuSans-74\"/>\r\n       <use x=\"29.492188\" xlink:href=\"#DejaVuSans-117\"/>\r\n       <use x=\"92.871094\" xlink:href=\"#DejaVuSans-108\"/>\r\n      </g>\r\n     </g>\r\n    </g>\r\n    <g id=\"xtick_24\">\r\n     <g id=\"line2d_24\">\r\n      <g>\r\n       <use style=\"stroke:#000000;stroke-width:0.6;\" x=\"195.607858\" xlink:href=\"#mfcfb6d0e70\" y=\"224.64\"/>\r\n      </g>\r\n     </g>\r\n    </g>\r\n    <g id=\"xtick_25\">\r\n     <g id=\"line2d_25\">\r\n      <g>\r\n       <use style=\"stroke:#000000;stroke-width:0.6;\" x=\"204.102307\" xlink:href=\"#mfcfb6d0e70\" y=\"224.64\"/>\r\n      </g>\r\n     </g>\r\n    </g>\r\n    <g id=\"xtick_26\">\r\n     <g id=\"line2d_26\">\r\n      <g>\r\n       <use style=\"stroke:#000000;stroke-width:0.6;\" x=\"212.32274\" xlink:href=\"#mfcfb6d0e70\" y=\"224.64\"/>\r\n      </g>\r\n     </g>\r\n    </g>\r\n    <g id=\"xtick_27\">\r\n     <g id=\"line2d_27\">\r\n      <g>\r\n       <use style=\"stroke:#000000;stroke-width:0.6;\" x=\"220.817189\" xlink:href=\"#mfcfb6d0e70\" y=\"224.64\"/>\r\n      </g>\r\n     </g>\r\n    </g>\r\n    <g id=\"xtick_28\">\r\n     <g id=\"line2d_28\">\r\n      <g>\r\n       <use style=\"stroke:#000000;stroke-width:0.6;\" x=\"229.037622\" xlink:href=\"#mfcfb6d0e70\" y=\"224.64\"/>\r\n      </g>\r\n     </g>\r\n    </g>\r\n    <g id=\"xtick_29\">\r\n     <g id=\"line2d_29\">\r\n      <g>\r\n       <use style=\"stroke:#000000;stroke-width:0.6;\" x=\"246.026519\" xlink:href=\"#mfcfb6d0e70\" y=\"224.64\"/>\r\n      </g>\r\n     </g>\r\n    </g>\r\n    <g id=\"xtick_30\">\r\n     <g id=\"line2d_30\">\r\n      <g>\r\n       <use style=\"stroke:#000000;stroke-width:0.6;\" x=\"253.972938\" xlink:href=\"#mfcfb6d0e70\" y=\"224.64\"/>\r\n      </g>\r\n     </g>\r\n    </g>\r\n    <g id=\"xtick_31\">\r\n     <g id=\"line2d_31\">\r\n      <g>\r\n       <use style=\"stroke:#000000;stroke-width:0.6;\" x=\"262.467386\" xlink:href=\"#mfcfb6d0e70\" y=\"224.64\"/>\r\n      </g>\r\n     </g>\r\n    </g>\r\n    <g id=\"xtick_32\">\r\n     <g id=\"line2d_32\">\r\n      <g>\r\n       <use style=\"stroke:#000000;stroke-width:0.6;\" x=\"270.68782\" xlink:href=\"#mfcfb6d0e70\" y=\"224.64\"/>\r\n      </g>\r\n     </g>\r\n    </g>\r\n    <g id=\"xtick_33\">\r\n     <g id=\"line2d_33\">\r\n      <g>\r\n       <use style=\"stroke:#000000;stroke-width:0.6;\" x=\"279.182268\" xlink:href=\"#mfcfb6d0e70\" y=\"224.64\"/>\r\n      </g>\r\n     </g>\r\n    </g>\r\n    <g id=\"xtick_34\">\r\n     <g id=\"line2d_34\">\r\n      <g>\r\n       <use style=\"stroke:#000000;stroke-width:0.6;\" x=\"287.402702\" xlink:href=\"#mfcfb6d0e70\" y=\"224.64\"/>\r\n      </g>\r\n     </g>\r\n     <g id=\"text_7\">\r\n      <!-- Jul -->\r\n      <g transform=\"translate(281.36989 237.638437)scale(0.1 -0.1)\">\r\n       <use xlink:href=\"#DejaVuSans-74\"/>\r\n       <use x=\"29.492188\" xlink:href=\"#DejaVuSans-117\"/>\r\n       <use x=\"92.871094\" xlink:href=\"#DejaVuSans-108\"/>\r\n      </g>\r\n     </g>\r\n    </g>\r\n    <g id=\"xtick_35\">\r\n     <g id=\"line2d_35\">\r\n      <g>\r\n       <use style=\"stroke:#000000;stroke-width:0.6;\" x=\"295.89715\" xlink:href=\"#mfcfb6d0e70\" y=\"224.64\"/>\r\n      </g>\r\n     </g>\r\n    </g>\r\n    <g id=\"xtick_36\">\r\n     <g id=\"line2d_36\">\r\n      <g>\r\n       <use style=\"stroke:#000000;stroke-width:0.6;\" x=\"304.391599\" xlink:href=\"#mfcfb6d0e70\" y=\"224.64\"/>\r\n      </g>\r\n     </g>\r\n    </g>\r\n    <g id=\"xtick_37\">\r\n     <g id=\"line2d_37\">\r\n      <g>\r\n       <use style=\"stroke:#000000;stroke-width:0.6;\" x=\"312.612032\" xlink:href=\"#mfcfb6d0e70\" y=\"224.64\"/>\r\n      </g>\r\n     </g>\r\n    </g>\r\n    <g id=\"xtick_38\">\r\n     <g id=\"line2d_38\">\r\n      <g>\r\n       <use style=\"stroke:#000000;stroke-width:0.6;\" x=\"321.106481\" xlink:href=\"#mfcfb6d0e70\" y=\"224.64\"/>\r\n      </g>\r\n     </g>\r\n    </g>\r\n    <g id=\"xtick_39\">\r\n     <g id=\"line2d_39\">\r\n      <g>\r\n       <use style=\"stroke:#000000;stroke-width:0.6;\" x=\"329.326914\" xlink:href=\"#mfcfb6d0e70\" y=\"224.64\"/>\r\n      </g>\r\n     </g>\r\n    </g>\r\n    <g id=\"xtick_40\">\r\n     <g id=\"line2d_40\">\r\n      <g>\r\n       <use style=\"stroke:#000000;stroke-width:0.6;\" x=\"346.315811\" xlink:href=\"#mfcfb6d0e70\" y=\"224.64\"/>\r\n      </g>\r\n     </g>\r\n    </g>\r\n    <g id=\"xtick_41\">\r\n     <g id=\"line2d_41\">\r\n      <g>\r\n       <use style=\"stroke:#000000;stroke-width:0.6;\" x=\"353.988216\" xlink:href=\"#mfcfb6d0e70\" y=\"224.64\"/>\r\n      </g>\r\n     </g>\r\n    </g>\r\n    <g id=\"xtick_42\">\r\n     <g id=\"line2d_42\">\r\n      <g>\r\n       <use style=\"stroke:#000000;stroke-width:0.6;\" x=\"362.482664\" xlink:href=\"#mfcfb6d0e70\" y=\"224.64\"/>\r\n      </g>\r\n     </g>\r\n    </g>\r\n    <g id=\"text_8\">\r\n     <!-- date -->\r\n     <g transform=\"translate(186.228125 264.114375)scale(0.1 -0.1)\">\r\n      <defs>\r\n       <path d=\"M 45.40625 46.390625 \r\nL 45.40625 75.984375 \r\nL 54.390625 75.984375 \r\nL 54.390625 0 \r\nL 45.40625 0 \r\nL 45.40625 8.203125 \r\nQ 42.578125 3.328125 38.25 0.953125 \r\nQ 33.9375 -1.421875 27.875 -1.421875 \r\nQ 17.96875 -1.421875 11.734375 6.484375 \r\nQ 5.515625 14.40625 5.515625 27.296875 \r\nQ 5.515625 40.1875 11.734375 48.09375 \r\nQ 17.96875 56 27.875 56 \r\nQ 33.9375 56 38.25 53.625 \r\nQ 42.578125 51.265625 45.40625 46.390625 \r\nz\r\nM 14.796875 27.296875 \r\nQ 14.796875 17.390625 18.875 11.75 \r\nQ 22.953125 6.109375 30.078125 6.109375 \r\nQ 37.203125 6.109375 41.296875 11.75 \r\nQ 45.40625 17.390625 45.40625 27.296875 \r\nQ 45.40625 37.203125 41.296875 42.84375 \r\nQ 37.203125 48.484375 30.078125 48.484375 \r\nQ 22.953125 48.484375 18.875 42.84375 \r\nQ 14.796875 37.203125 14.796875 27.296875 \r\nz\r\n\" id=\"DejaVuSans-100\"/>\r\n       <path d=\"M 18.3125 70.21875 \r\nL 18.3125 54.6875 \r\nL 36.8125 54.6875 \r\nL 36.8125 47.703125 \r\nL 18.3125 47.703125 \r\nL 18.3125 18.015625 \r\nQ 18.3125 11.328125 20.140625 9.421875 \r\nQ 21.96875 7.515625 27.59375 7.515625 \r\nL 36.8125 7.515625 \r\nL 36.8125 0 \r\nL 27.59375 0 \r\nQ 17.1875 0 13.234375 3.875 \r\nQ 9.28125 7.765625 9.28125 18.015625 \r\nL 9.28125 47.703125 \r\nL 2.6875 47.703125 \r\nL 2.6875 54.6875 \r\nL 9.28125 54.6875 \r\nL 9.28125 70.21875 \r\nz\r\n\" id=\"DejaVuSans-116\"/>\r\n       <path d=\"M 56.203125 29.59375 \r\nL 56.203125 25.203125 \r\nL 14.890625 25.203125 \r\nQ 15.484375 15.921875 20.484375 11.0625 \r\nQ 25.484375 6.203125 34.421875 6.203125 \r\nQ 39.59375 6.203125 44.453125 7.46875 \r\nQ 49.3125 8.734375 54.109375 11.28125 \r\nL 54.109375 2.78125 \r\nQ 49.265625 0.734375 44.1875 -0.34375 \r\nQ 39.109375 -1.421875 33.890625 -1.421875 \r\nQ 20.796875 -1.421875 13.15625 6.1875 \r\nQ 5.515625 13.8125 5.515625 26.8125 \r\nQ 5.515625 40.234375 12.765625 48.109375 \r\nQ 20.015625 56 32.328125 56 \r\nQ 43.359375 56 49.78125 48.890625 \r\nQ 56.203125 41.796875 56.203125 29.59375 \r\nz\r\nM 47.21875 32.234375 \r\nQ 47.125 39.59375 43.09375 43.984375 \r\nQ 39.0625 48.390625 32.421875 48.390625 \r\nQ 24.90625 48.390625 20.390625 44.140625 \r\nQ 15.875 39.890625 15.1875 32.171875 \r\nz\r\n\" id=\"DejaVuSans-101\"/>\r\n      </defs>\r\n      <use xlink:href=\"#DejaVuSans-100\"/>\r\n      <use x=\"63.476562\" xlink:href=\"#DejaVuSans-97\"/>\r\n      <use x=\"124.755859\" xlink:href=\"#DejaVuSans-116\"/>\r\n      <use x=\"163.964844\" xlink:href=\"#DejaVuSans-101\"/>\r\n     </g>\r\n    </g>\r\n   </g>\r\n   <g id=\"matplotlib.axis_2\">\r\n    <g id=\"ytick_1\">\r\n     <g id=\"line2d_43\">\r\n      <defs>\r\n       <path d=\"M 0 0 \r\nL -3.5 0 \r\n\" id=\"mdce37259b2\" style=\"stroke:#000000;stroke-width:0.8;\"/>\r\n      </defs>\r\n      <g>\r\n       <use style=\"stroke:#000000;stroke-width:0.8;\" x=\"30.103125\" xlink:href=\"#mdce37259b2\" y=\"214.756364\"/>\r\n      </g>\r\n     </g>\r\n     <g id=\"text_9\">\r\n      <!-- 0.0 -->\r\n      <g transform=\"translate(7.2 218.555582)scale(0.1 -0.1)\">\r\n       <defs>\r\n        <path d=\"M 10.6875 12.40625 \r\nL 21 12.40625 \r\nL 21 0 \r\nL 10.6875 0 \r\nz\r\n\" id=\"DejaVuSans-46\"/>\r\n       </defs>\r\n       <use xlink:href=\"#DejaVuSans-48\"/>\r\n       <use x=\"63.623047\" xlink:href=\"#DejaVuSans-46\"/>\r\n       <use x=\"95.410156\" xlink:href=\"#DejaVuSans-48\"/>\r\n      </g>\r\n     </g>\r\n    </g>\r\n    <g id=\"ytick_2\">\r\n     <g id=\"line2d_44\">\r\n      <g>\r\n       <use style=\"stroke:#000000;stroke-width:0.8;\" x=\"30.103125\" xlink:href=\"#mdce37259b2\" y=\"175.221818\"/>\r\n      </g>\r\n     </g>\r\n     <g id=\"text_10\">\r\n      <!-- 0.2 -->\r\n      <g transform=\"translate(7.2 179.021037)scale(0.1 -0.1)\">\r\n       <use xlink:href=\"#DejaVuSans-48\"/>\r\n       <use x=\"63.623047\" xlink:href=\"#DejaVuSans-46\"/>\r\n       <use x=\"95.410156\" xlink:href=\"#DejaVuSans-50\"/>\r\n      </g>\r\n     </g>\r\n    </g>\r\n    <g id=\"ytick_3\">\r\n     <g id=\"line2d_45\">\r\n      <g>\r\n       <use style=\"stroke:#000000;stroke-width:0.8;\" x=\"30.103125\" xlink:href=\"#mdce37259b2\" y=\"135.687273\"/>\r\n      </g>\r\n     </g>\r\n     <g id=\"text_11\">\r\n      <!-- 0.4 -->\r\n      <g transform=\"translate(7.2 139.486491)scale(0.1 -0.1)\">\r\n       <defs>\r\n        <path d=\"M 37.796875 64.3125 \r\nL 12.890625 25.390625 \r\nL 37.796875 25.390625 \r\nz\r\nM 35.203125 72.90625 \r\nL 47.609375 72.90625 \r\nL 47.609375 25.390625 \r\nL 58.015625 25.390625 \r\nL 58.015625 17.1875 \r\nL 47.609375 17.1875 \r\nL 47.609375 0 \r\nL 37.796875 0 \r\nL 37.796875 17.1875 \r\nL 4.890625 17.1875 \r\nL 4.890625 26.703125 \r\nz\r\n\" id=\"DejaVuSans-52\"/>\r\n       </defs>\r\n       <use xlink:href=\"#DejaVuSans-48\"/>\r\n       <use x=\"63.623047\" xlink:href=\"#DejaVuSans-46\"/>\r\n       <use x=\"95.410156\" xlink:href=\"#DejaVuSans-52\"/>\r\n      </g>\r\n     </g>\r\n    </g>\r\n    <g id=\"ytick_4\">\r\n     <g id=\"line2d_46\">\r\n      <g>\r\n       <use style=\"stroke:#000000;stroke-width:0.8;\" x=\"30.103125\" xlink:href=\"#mdce37259b2\" y=\"96.152727\"/>\r\n      </g>\r\n     </g>\r\n     <g id=\"text_12\">\r\n      <!-- 0.6 -->\r\n      <g transform=\"translate(7.2 99.951946)scale(0.1 -0.1)\">\r\n       <defs>\r\n        <path d=\"M 33.015625 40.375 \r\nQ 26.375 40.375 22.484375 35.828125 \r\nQ 18.609375 31.296875 18.609375 23.390625 \r\nQ 18.609375 15.53125 22.484375 10.953125 \r\nQ 26.375 6.390625 33.015625 6.390625 \r\nQ 39.65625 6.390625 43.53125 10.953125 \r\nQ 47.40625 15.53125 47.40625 23.390625 \r\nQ 47.40625 31.296875 43.53125 35.828125 \r\nQ 39.65625 40.375 33.015625 40.375 \r\nz\r\nM 52.59375 71.296875 \r\nL 52.59375 62.3125 \r\nQ 48.875 64.0625 45.09375 64.984375 \r\nQ 41.3125 65.921875 37.59375 65.921875 \r\nQ 27.828125 65.921875 22.671875 59.328125 \r\nQ 17.53125 52.734375 16.796875 39.40625 \r\nQ 19.671875 43.65625 24.015625 45.921875 \r\nQ 28.375 48.1875 33.59375 48.1875 \r\nQ 44.578125 48.1875 50.953125 41.515625 \r\nQ 57.328125 34.859375 57.328125 23.390625 \r\nQ 57.328125 12.15625 50.6875 5.359375 \r\nQ 44.046875 -1.421875 33.015625 -1.421875 \r\nQ 20.359375 -1.421875 13.671875 8.265625 \r\nQ 6.984375 17.96875 6.984375 36.375 \r\nQ 6.984375 53.65625 15.1875 63.9375 \r\nQ 23.390625 74.21875 37.203125 74.21875 \r\nQ 40.921875 74.21875 44.703125 73.484375 \r\nQ 48.484375 72.75 52.59375 71.296875 \r\nz\r\n\" id=\"DejaVuSans-54\"/>\r\n       </defs>\r\n       <use xlink:href=\"#DejaVuSans-48\"/>\r\n       <use x=\"63.623047\" xlink:href=\"#DejaVuSans-46\"/>\r\n       <use x=\"95.410156\" xlink:href=\"#DejaVuSans-54\"/>\r\n      </g>\r\n     </g>\r\n    </g>\r\n    <g id=\"ytick_5\">\r\n     <g id=\"line2d_47\">\r\n      <g>\r\n       <use style=\"stroke:#000000;stroke-width:0.8;\" x=\"30.103125\" xlink:href=\"#mdce37259b2\" y=\"56.618182\"/>\r\n      </g>\r\n     </g>\r\n     <g id=\"text_13\">\r\n      <!-- 0.8 -->\r\n      <g transform=\"translate(7.2 60.417401)scale(0.1 -0.1)\">\r\n       <use xlink:href=\"#DejaVuSans-48\"/>\r\n       <use x=\"63.623047\" xlink:href=\"#DejaVuSans-46\"/>\r\n       <use x=\"95.410156\" xlink:href=\"#DejaVuSans-56\"/>\r\n      </g>\r\n     </g>\r\n    </g>\r\n    <g id=\"ytick_6\">\r\n     <g id=\"line2d_48\">\r\n      <g>\r\n       <use style=\"stroke:#000000;stroke-width:0.8;\" x=\"30.103125\" xlink:href=\"#mdce37259b2\" y=\"17.083636\"/>\r\n      </g>\r\n     </g>\r\n     <g id=\"text_14\">\r\n      <!-- 1.0 -->\r\n      <g transform=\"translate(7.2 20.882855)scale(0.1 -0.1)\">\r\n       <use xlink:href=\"#DejaVuSans-49\"/>\r\n       <use x=\"63.623047\" xlink:href=\"#DejaVuSans-46\"/>\r\n       <use x=\"95.410156\" xlink:href=\"#DejaVuSans-48\"/>\r\n      </g>\r\n     </g>\r\n    </g>\r\n   </g>\r\n   <g id=\"line2d_49\">\r\n    <path clip-path=\"url(#pfca09295bc)\" d=\"M 30.103125 17.083636 \r\nL 31.062176 17.083636 \r\nL 31.153514 214.756364 \r\nL 31.290521 17.083636 \r\nL 31.518866 17.083636 \r\nL 31.610205 214.756364 \r\nL 31.747212 17.083636 \r\nL 34.076335 17.083636 \r\nL 34.213342 214.756364 \r\nL 35.857429 214.756364 \r\nL 35.994436 17.083636 \r\nL 36.496796 17.083636 \r\nL 36.633803 214.756364 \r\nL 37.912537 214.756364 \r\nL 38.049544 17.083636 \r\nL 39.465286 17.083636 \r\nL 39.602293 214.756364 \r\nL 40.881027 214.756364 \r\nL 41.018034 17.083636 \r\nL 41.155042 17.083636 \r\nL 41.292049 214.756364 \r\nL 42.251099 214.756364 \r\nL 42.388107 17.083636 \r\nL 42.479445 17.083636 \r\nL 42.525114 214.756364 \r\nL 42.570783 17.083636 \r\nL 43.21015 17.083636 \r\nL 43.347157 214.756364 \r\nL 44.032193 214.756364 \r\nL 44.169201 17.083636 \r\nL 44.488884 17.083636 \r\nL 44.534553 214.756364 \r\nL 44.580222 17.083636 \r\nL 45.402266 17.083636 \r\nL 45.539273 214.756364 \r\nL 46.726669 214.756364 \r\nL 46.863676 17.083636 \r\nL 46.955014 17.083636 \r\nL 47.092021 214.756364 \r\nL 47.503043 214.756364 \r\nL 47.64005 17.083636 \r\nL 48.781777 17.083636 \r\nL 48.873115 214.756364 \r\nL 49.010123 17.083636 \r\nL 51.521922 17.083636 \r\nL 51.658929 214.756364 \r\nL 52.983332 214.756364 \r\nL 53.12034 17.083636 \r\nL 55.175448 17.083636 \r\nL 55.312455 214.756364 \r\nL 56.591189 214.756364 \r\nL 56.728197 17.083636 \r\nL 56.910873 17.083636 \r\nL 57.04788 214.756364 \r\nL 58.55496 214.756364 \r\nL 58.691967 17.083636 \r\nL 59.742356 17.083636 \r\nL 59.879363 214.756364 \r\nL 59.925032 214.756364 \r\nL 60.062039 17.083636 \r\nL 60.290385 17.083636 \r\nL 60.427392 214.756364 \r\nL 62.4825 214.756364 \r\nL 62.619507 17.083636 \r\nL 63.167536 17.083636 \r\nL 63.304544 214.756364 \r\nL 63.943911 214.756364 \r\nL 64.080918 17.083636 \r\nL 64.49194 17.083636 \r\nL 64.628947 214.756364 \r\nL 65.039969 214.756364 \r\nL 65.176976 17.083636 \r\nL 66.775393 17.083636 \r\nL 66.912401 214.756364 \r\nL 67.049408 17.083636 \r\nL 68.876171 17.083636 \r\nL 69.013178 214.756364 \r\nL 69.287193 214.756364 \r\nL 69.4242 17.083636 \r\nL 70.42892 17.083636 \r\nL 70.565927 214.756364 \r\nL 70.88561 214.756364 \r\nL 71.022618 17.083636 \r\nL 71.89033 17.083636 \r\nL 72.027337 214.756364 \r\nL 72.986388 214.756364 \r\nL 73.077726 17.083636 \r\nL 73.214733 214.756364 \r\nL 74.082446 214.756364 \r\nL 74.219453 17.083636 \r\nL 74.447798 17.083636 \r\nL 74.584806 214.756364 \r\nL 75.452518 214.756364 \r\nL 75.589525 17.083636 \r\nL 76.274561 17.083636 \r\nL 76.411569 214.756364 \r\nL 78.146994 214.756364 \r\nL 78.284001 17.083636 \r\nL 79.882418 17.083636 \r\nL 80.019426 214.756364 \r\nL 80.202102 214.756364 \r\nL 80.339109 17.083636 \r\nL 81.252491 17.083636 \r\nL 81.389498 214.756364 \r\nL 82.622563 214.756364 \r\nL 82.75957 17.083636 \r\nL 82.987916 17.083636 \r\nL 83.124923 214.756364 \r\nL 83.216261 214.756364 \r\nL 83.353268 17.083636 \r\nL 83.535945 17.083636 \r\nL 83.672952 214.756364 \r\nL 83.718621 214.756364 \r\nL 83.855628 17.083636 \r\nL 84.723341 17.083636 \r\nL 84.860348 214.756364 \r\nL 85.408377 214.756364 \r\nL 85.545384 17.083636 \r\nL 86.002075 17.083636 \r\nL 86.139082 214.756364 \r\nL 86.184751 214.756364 \r\nL 86.321758 17.083636 \r\nL 86.367427 17.083636 \r\nL 86.504435 214.756364 \r\nL 86.778449 214.756364 \r\nL 86.915456 17.083636 \r\nL 88.559543 17.083636 \r\nL 88.605212 214.756364 \r\nL 88.650881 17.083636 \r\nL 89.655601 17.083636 \r\nL 89.792608 214.756364 \r\nL 91.025673 214.756364 \r\nL 91.16268 17.083636 \r\nL 94.222508 17.083636 \r\nL 94.359516 214.756364 \r\nL 94.405185 214.756364 \r\nL 94.542192 17.083636 \r\nL 95.227228 17.083636 \r\nL 95.364235 214.756364 \r\nL 98.926423 214.756364 \r\nL 99.063431 17.083636 \r\nL 99.1091 17.083636 \r\nL 99.246107 214.756364 \r\nL 99.474452 214.756364 \r\nL 99.611459 17.083636 \r\nL 100.57051 17.083636 \r\nL 100.661848 214.756364 \r\nL 100.798855 17.083636 \r\nL 101.07287 17.083636 \r\nL 101.209877 214.756364 \r\nL 101.255546 214.756364 \r\nL 101.392553 17.083636 \r\nL 101.57523 17.083636 \r\nL 101.712237 214.756364 \r\nL 101.849244 214.756364 \r\nL 101.986251 17.083636 \r\nL 103.676007 17.083636 \r\nL 103.813015 214.756364 \r\nL 103.950022 17.083636 \r\nL 105.320094 17.083636 \r\nL 105.457101 214.756364 \r\nL 107.375202 214.756364 \r\nL 107.51221 17.083636 \r\nL 108.653937 17.083636 \r\nL 108.790944 214.756364 \r\nL 109.247635 214.756364 \r\nL 109.384642 17.083636 \r\nL 110.572038 17.083636 \r\nL 110.709045 214.756364 \r\nL 111.394081 214.756364 \r\nL 111.531088 17.083636 \r\nL 111.805103 17.083636 \r\nL 111.94211 214.756364 \r\nL 111.987779 214.756364 \r\nL 112.079117 17.083636 \r\nL 112.124786 214.756364 \r\nL 112.170456 17.083636 \r\nL 112.490139 17.083636 \r\nL 112.535808 214.756364 \r\nL 112.581477 17.083636 \r\nL 112.718484 17.083636 \r\nL 112.855492 214.756364 \r\nL 113.220844 214.756364 \r\nL 113.357852 17.083636 \r\nL 114.088557 17.083636 \r\nL 114.134226 214.756364 \r\nL 114.179895 17.083636 \r\nL 114.864931 17.083636 \r\nL 115.001938 214.756364 \r\nL 116.052327 214.756364 \r\nL 116.189334 17.083636 \r\nL 117.194054 17.083636 \r\nL 117.331061 214.756364 \r\nL 117.924759 214.756364 \r\nL 118.061766 17.083636 \r\nL 118.198774 214.756364 \r\nL 118.701133 214.756364 \r\nL 118.838141 17.083636 \r\nL 118.975148 214.756364 \r\nL 121.030256 214.756364 \r\nL 121.167264 17.083636 \r\nL 121.532616 17.083636 \r\nL 121.669623 214.756364 \r\nL 121.715293 214.756364 \r\nL 121.8523 17.083636 \r\nL 122.948358 17.083636 \r\nL 123.085365 214.756364 \r\nL 123.998746 214.756364 \r\nL 124.135754 17.083636 \r\nL 124.501106 17.083636 \r\nL 124.638113 214.756364 \r\nL 127.652272 214.756364 \r\nL 127.78928 17.083636 \r\nL 127.834949 17.083636 \r\nL 127.971956 214.756364 \r\nL 128.154632 214.756364 \r\nL 128.29164 17.083636 \r\nL 128.885338 17.083636 \r\nL 129.022345 214.756364 \r\nL 129.159352 214.756364 \r\nL 129.296359 17.083636 \r\nL 129.616043 17.083636 \r\nL 129.75305 214.756364 \r\nL 131.351468 214.756364 \r\nL 131.488475 17.083636 \r\nL 131.671151 17.083636 \r\nL 131.808158 214.756364 \r\nL 132.127842 214.756364 \r\nL 132.264849 17.083636 \r\nL 132.356187 17.083636 \r\nL 132.493195 214.756364 \r\nL 133.543583 214.756364 \r\nL 133.680591 17.083636 \r\nL 134.730979 17.083636 \r\nL 134.867987 214.756364 \r\nL 135.004994 214.756364 \r\nL 135.142001 17.083636 \r\nL 135.644361 17.083636 \r\nL 135.781368 214.756364 \r\nL 136.557742 214.756364 \r\nL 136.69475 17.083636 \r\nL 137.379786 17.083636 \r\nL 137.516793 214.756364 \r\nL 137.745138 214.756364 \r\nL 137.882146 17.083636 \r\nL 138.475844 17.083636 \r\nL 138.567182 214.756364 \r\nL 138.704189 17.083636 \r\nL 140.074261 17.083636 \r\nL 140.211269 214.756364 \r\nL 141.215988 214.756364 \r\nL 141.352995 17.083636 \r\nL 141.62701 17.083636 \r\nL 141.764017 214.756364 \r\nL 141.901024 17.083636 \r\nL 141.946693 17.083636 \r\nL 142.083701 214.756364 \r\nL 142.220708 17.083636 \r\nL 142.860075 17.083636 \r\nL 142.997082 214.756364 \r\nL 143.545111 214.756364 \r\nL 143.682118 17.083636 \r\nL 143.773456 17.083636 \r\nL 143.910464 214.756364 \r\nL 144.001802 214.756364 \r\nL 144.138809 17.083636 \r\nL 144.230147 17.083636 \r\nL 144.367154 214.756364 \r\nL 144.504162 17.083636 \r\nL 144.778176 17.083636 \r\nL 144.915183 214.756364 \r\nL 145.60022 214.756364 \r\nL 145.737227 17.083636 \r\nL 145.919903 17.083636 \r\nL 146.05691 214.756364 \r\nL 146.102579 214.756364 \r\nL 146.239587 17.083636 \r\nL 147.426983 17.083636 \r\nL 147.56399 214.756364 \r\nL 148.06635 214.756364 \r\nL 148.203357 17.083636 \r\nL 149.482091 17.083636 \r\nL 149.619098 214.756364 \r\nL 150.167127 214.756364 \r\nL 150.304134 17.083636 \r\nL 152.49625 17.083636 \r\nL 152.633257 214.756364 \r\nL 153.866322 214.756364 \r\nL 154.00333 17.083636 \r\nL 154.048999 17.083636 \r\nL 154.186006 214.756364 \r\nL 154.916711 214.756364 \r\nL 155.053718 17.083636 \r\nL 156.560798 17.083636 \r\nL 156.697805 214.756364 \r\nL 157.519849 214.756364 \r\nL 157.656856 17.083636 \r\nL 159.346612 17.083636 \r\nL 159.483619 214.756364 \r\nL 159.803302 214.756364 \r\nL 159.94031 17.083636 \r\nL 160.077317 214.756364 \r\nL 160.808022 214.756364 \r\nL 160.945029 17.083636 \r\nL 163.228483 17.083636 \r\nL 163.319821 214.756364 \r\nL 163.456828 17.083636 \r\nL 164.963908 17.083636 \r\nL 165.100915 214.756364 \r\nL 165.968628 214.756364 \r\nL 166.105635 17.083636 \r\nL 166.288311 17.083636 \r\nL 166.425318 214.756364 \r\nL 166.470988 214.756364 \r\nL 166.607995 17.083636 \r\nL 167.886729 17.083636 \r\nL 168.023736 214.756364 \r\nL 168.160743 17.083636 \r\nL 168.617434 17.083636 \r\nL 168.754441 214.756364 \r\nL 168.891449 214.756364 \r\nL 169.028456 17.083636 \r\nL 169.165463 214.756364 \r\nL 170.352859 214.756364 \r\nL 170.489866 17.083636 \r\nL 171.403248 17.083636 \r\nL 171.448917 214.756364 \r\nL 171.494586 17.083636 \r\nL 171.859939 17.083636 \r\nL 171.951277 214.756364 \r\nL 172.088284 17.083636 \r\nL 173.595363 17.083636 \r\nL 173.732371 214.756364 \r\nL 173.869378 17.083636 \r\nL 174.189061 17.083636 \r\nL 174.234731 214.756364 \r\nL 174.2804 17.083636 \r\nL 174.828429 17.083636 \r\nL 174.965436 214.756364 \r\nL 175.330788 214.756364 \r\nL 175.467796 17.083636 \r\nL 176.426846 17.083636 \r\nL 176.563853 214.756364 \r\nL 176.74653 214.756364 \r\nL 176.883537 17.083636 \r\nL 178.618962 17.083636 \r\nL 178.755969 214.756364 \r\nL 179.029984 214.756364 \r\nL 179.166991 17.083636 \r\nL 179.578012 17.083636 \r\nL 179.71502 214.756364 \r\nL 180.719739 214.756364 \r\nL 180.856747 17.083636 \r\nL 181.039423 17.083636 \r\nL 181.17643 214.756364 \r\nL 181.541783 214.756364 \r\nL 181.67879 17.083636 \r\nL 181.815797 17.083636 \r\nL 181.861466 214.756364 \r\nL 181.907135 17.083636 \r\nL 186.017352 17.083636 \r\nL 186.154359 214.756364 \r\nL 186.474043 214.756364 \r\nL 186.61105 17.083636 \r\nL 186.976403 17.083636 \r\nL 187.11341 214.756364 \r\nL 187.661439 214.756364 \r\nL 187.798446 17.083636 \r\nL 188.300806 17.083636 \r\nL 188.437813 214.756364 \r\nL 188.529151 214.756364 \r\nL 188.666159 17.083636 \r\nL 188.848835 17.083636 \r\nL 188.894504 214.756364 \r\nL 188.940173 17.083636 \r\nL 189.807886 17.083636 \r\nL 189.944893 214.756364 \r\nL 191.908663 214.756364 \r\nL 192.04567 17.083636 \r\nL 193.05039 17.083636 \r\nL 193.187397 214.756364 \r\nL 194.283455 214.756364 \r\nL 194.374793 17.083636 \r\nL 194.5118 214.756364 \r\nL 195.333844 214.756364 \r\nL 195.470851 17.083636 \r\nL 197.251945 17.083636 \r\nL 197.388952 214.756364 \r\nL 197.52596 17.083636 \r\nL 198.210996 17.083636 \r\nL 198.348003 214.756364 \r\nL 199.900752 214.756364 \r\nL 200.037759 17.083636 \r\nL 200.174766 17.083636 \r\nL 200.311773 214.756364 \r\nL 200.357442 214.756364 \r\nL 200.49445 17.083636 \r\nL 201.133817 17.083636 \r\nL 201.270824 214.756364 \r\nL 201.773184 214.756364 \r\nL 201.910191 17.083636 \r\nL 202.047198 17.083636 \r\nL 202.184205 214.756364 \r\nL 202.321213 214.756364 \r\nL 202.412551 17.083636 \r\nL 202.45822 214.756364 \r\nL 202.503889 17.083636 \r\nL 202.869241 17.083636 \r\nL 203.006249 214.756364 \r\nL 203.143256 214.756364 \r\nL 203.234594 17.083636 \r\nL 203.371601 214.756364 \r\nL 204.330652 214.756364 \r\nL 204.467659 17.083636 \r\nL 205.700724 17.083636 \r\nL 205.837731 214.756364 \r\nL 206.066077 214.756364 \r\nL 206.157415 17.083636 \r\nL 206.294422 214.756364 \r\nL 207.299142 214.756364 \r\nL 207.436149 17.083636 \r\nL 208.3952 17.083636 \r\nL 208.486538 214.756364 \r\nL 208.577876 17.083636 \r\nL 208.669214 214.756364 \r\nL 208.806221 17.083636 \r\nL 208.851891 17.083636 \r\nL 208.988898 214.756364 \r\nL 209.262912 214.756364 \r\nL 209.399919 17.083636 \r\nL 209.673934 17.083636 \r\nL 209.810941 214.756364 \r\nL 212.185733 214.756364 \r\nL 212.32274 17.083636 \r\nL 213.053446 17.083636 \r\nL 213.190453 214.756364 \r\nL 213.32746 214.756364 \r\nL 213.464467 17.083636 \r\nL 213.601474 214.756364 \r\nL 213.647144 214.756364 \r\nL 213.738482 17.083636 \r\nL 213.875489 214.756364 \r\nL 214.103834 214.756364 \r\nL 214.240842 17.083636 \r\nL 215.199892 17.083636 \r\nL 215.336899 214.756364 \r\nL 215.747921 214.756364 \r\nL 215.884928 17.083636 \r\nL 216.021936 214.756364 \r\nL 217.711691 214.756364 \r\nL 217.848699 17.083636 \r\nL 218.351058 17.083636 \r\nL 218.488066 214.756364 \r\nL 219.036095 214.756364 \r\nL 219.173102 17.083636 \r\nL 219.401447 17.083636 \r\nL 219.538454 214.756364 \r\nL 220.040814 214.756364 \r\nL 220.177821 17.083636 \r\nL 220.406167 17.083636 \r\nL 220.543174 214.756364 \r\nL 220.680181 214.756364 \r\nL 220.817189 17.083636 \r\nL 220.954196 214.756364 \r\nL 221.091203 214.756364 \r\nL 221.22821 17.083636 \r\nL 221.593563 17.083636 \r\nL 221.73057 214.756364 \r\nL 221.776239 214.756364 \r\nL 221.913246 17.083636 \r\nL 222.598283 17.083636 \r\nL 222.73529 214.756364 \r\nL 223.465995 214.756364 \r\nL 223.603002 17.083636 \r\nL 223.648671 17.083636 \r\nL 223.785679 214.756364 \r\nL 227.530543 214.756364 \r\nL 227.66755 17.083636 \r\nL 227.850226 17.083636 \r\nL 227.941565 214.756364 \r\nL 228.032903 17.083636 \r\nL 228.078572 214.756364 \r\nL 228.124241 17.083636 \r\nL 229.083291 17.083636 \r\nL 229.220299 214.756364 \r\nL 229.996673 214.756364 \r\nL 230.13368 17.083636 \r\nL 230.179349 17.083636 \r\nL 230.225018 214.756364 \r\nL 230.270687 17.083636 \r\nL 231.458083 17.083636 \r\nL 231.595091 214.756364 \r\nL 232.554141 214.756364 \r\nL 232.691148 17.083636 \r\nL 232.736818 17.083636 \r\nL 232.873825 214.756364 \r\nL 233.878544 214.756364 \r\nL 234.015552 17.083636 \r\nL 235.339955 17.083636 \r\nL 235.476962 214.756364 \r\nL 236.436013 214.756364 \r\nL 236.57302 17.083636 \r\nL 237.166718 17.083636 \r\nL 237.303725 214.756364 \r\nL 238.125769 214.756364 \r\nL 238.262776 17.083636 \r\nL 239.678517 17.083636 \r\nL 239.815524 214.756364 \r\nL 240.135208 214.756364 \r\nL 240.272215 17.083636 \r\nL 242.601338 17.083636 \r\nL 242.738345 214.756364 \r\nL 244.565108 214.756364 \r\nL 244.702116 17.083636 \r\nL 246.757224 17.083636 \r\nL 246.894231 214.756364 \r\nL 247.259584 214.756364 \r\nL 247.396591 17.083636 \r\nL 248.629656 17.083636 \r\nL 248.766663 214.756364 \r\nL 248.903671 214.756364 \r\nL 249.040678 17.083636 \r\nL 250.045398 17.083636 \r\nL 250.182405 214.756364 \r\nL 250.867441 214.756364 \r\nL 251.004448 17.083636 \r\nL 251.232794 17.083636 \r\nL 251.369801 214.756364 \r\nL 252.100506 214.756364 \r\nL 252.237513 17.083636 \r\nL 252.557197 17.083636 \r\nL 252.694204 214.756364 \r\nL 254.38396 214.756364 \r\nL 254.520967 17.083636 \r\nL 254.977658 17.083636 \r\nL 255.068996 214.756364 \r\nL 255.206003 17.083636 \r\nL 255.84537 17.083636 \r\nL 255.982377 214.756364 \r\nL 257.535126 214.756364 \r\nL 257.626464 17.083636 \r\nL 257.763471 214.756364 \r\nL 257.900479 214.756364 \r\nL 258.037486 17.083636 \r\nL 258.128824 17.083636 \r\nL 258.265831 214.756364 \r\nL 258.631184 214.756364 \r\nL 258.722522 17.083636 \r\nL 258.859529 214.756364 \r\nL 258.996537 17.083636 \r\nL 259.955587 17.083636 \r\nL 260.092594 214.756364 \r\nL 260.183933 214.756364 \r\nL 260.32094 17.083636 \r\nL 261.371329 17.083636 \r\nL 261.508336 214.756364 \r\nL 262.010696 214.756364 \r\nL 262.147703 17.083636 \r\nL 262.650063 17.083636 \r\nL 262.695732 214.756364 \r\nL 262.741401 17.083636 \r\nL 265.024855 17.083636 \r\nL 265.161862 214.756364 \r\nL 265.664222 214.756364 \r\nL 265.801229 17.083636 \r\nL 265.938236 214.756364 \r\nL 266.212251 214.756364 \r\nL 266.349258 17.083636 \r\nL 266.440596 17.083636 \r\nL 266.577603 214.756364 \r\nL 266.623272 214.756364 \r\nL 266.76028 17.083636 \r\nL 267.810668 17.083636 \r\nL 267.947676 214.756364 \r\nL 268.358697 214.756364 \r\nL 268.495704 17.083636 \r\nL 270.550813 17.083636 \r\nL 270.68782 214.756364 \r\nL 270.779158 214.756364 \r\nL 270.916166 17.083636 \r\nL 271.601202 17.083636 \r\nL 271.738209 214.756364 \r\nL 271.875216 17.083636 \r\nL 273.199619 17.083636 \r\nL 273.336627 214.756364 \r\nL 274.067332 214.756364 \r\nL 274.204339 17.083636 \r\nL 276.076771 17.083636 \r\nL 276.213778 214.756364 \r\nL 277.903534 214.756364 \r\nL 278.040541 17.083636 \r\nL 279.638959 17.083636 \r\nL 279.775966 214.756364 \r\nL 280.049981 214.756364 \r\nL 280.186988 17.083636 \r\nL 280.59801 17.083636 \r\nL 280.735017 214.756364 \r\nL 281.054701 214.756364 \r\nL 281.191708 17.083636 \r\nL 282.105089 17.083636 \r\nL 282.242096 214.756364 \r\nL 283.201147 214.756364 \r\nL 283.338154 17.083636 \r\nL 283.794845 17.083636 \r\nL 283.840514 214.756364 \r\nL 283.886183 17.083636 \r\nL 284.02319 17.083636 \r\nL 284.160198 214.756364 \r\nL 284.251536 214.756364 \r\nL 284.342874 17.083636 \r\nL 284.479881 214.756364 \r\nL 284.799565 214.756364 \r\nL 284.936572 17.083636 \r\nL 284.982241 214.756364 \r\nL 285.02791 17.083636 \r\nL 285.621608 17.083636 \r\nL 285.758615 214.756364 \r\nL 287.083019 214.756364 \r\nL 287.220026 17.083636 \r\nL 287.859393 17.083636 \r\nL 287.9964 214.756364 \r\nL 288.49876 214.756364 \r\nL 288.590098 17.083636 \r\nL 288.727105 214.756364 \r\nL 288.818444 214.756364 \r\nL 288.955451 17.083636 \r\nL 289.777494 17.083636 \r\nL 289.914501 214.756364 \r\nL 290.645207 214.756364 \r\nL 290.782214 17.083636 \r\nL 291.010559 17.083636 \r\nL 291.147566 214.756364 \r\nL 292.289293 214.756364 \r\nL 292.426301 17.083636 \r\nL 292.563308 214.756364 \r\nL 292.700315 17.083636 \r\nL 296.262503 17.083636 \r\nL 296.39951 214.756364 \r\nL 296.627856 214.756364 \r\nL 296.764863 17.083636 \r\nL 296.810532 17.083636 \r\nL 296.947539 214.756364 \r\nL 297.084546 214.756364 \r\nL 297.221554 17.083636 \r\nL 298.317611 17.083636 \r\nL 298.363281 214.756364 \r\nL 298.40895 17.083636 \r\nL 298.819971 17.083636 \r\nL 298.956978 214.756364 \r\nL 299.413669 214.756364 \r\nL 299.550676 17.083636 \r\nL 300.738072 17.083636 \r\nL 300.87508 214.756364 \r\nL 302.245152 214.756364 \r\nL 302.382159 17.083636 \r\nL 302.564836 17.083636 \r\nL 302.701843 214.756364 \r\nL 303.432548 214.756364 \r\nL 303.569555 17.083636 \r\nL 304.756951 17.083636 \r\nL 304.893958 214.756364 \r\nL 306.766391 214.756364 \r\nL 306.903398 17.083636 \r\nL 309.78055 17.083636 \r\nL 309.917557 214.756364 \r\nL 310.830938 214.756364 \r\nL 310.967946 17.083636 \r\nL 312.429356 17.083636 \r\nL 312.520694 214.756364 \r\nL 312.657701 17.083636 \r\nL 312.840378 17.083636 \r\nL 312.977385 214.756364 \r\nL 313.616752 214.756364 \r\nL 313.753759 17.083636 \r\nL 314.21045 17.083636 \r\nL 314.347457 214.756364 \r\nL 314.667141 214.756364 \r\nL 314.804148 17.083636 \r\nL 316.585242 17.083636 \r\nL 316.630911 214.756364 \r\nL 316.67658 17.083636 \r\nL 316.904926 17.083636 \r\nL 317.041933 214.756364 \r\nL 317.133271 17.083636 \r\nL 317.224609 214.756364 \r\nL 317.361616 17.083636 \r\nL 320.14743 17.083636 \r\nL 320.284437 214.756364 \r\nL 320.467114 214.756364 \r\nL 320.604121 17.083636 \r\nL 321.517502 17.083636 \r\nL 321.65451 214.756364 \r\nL 321.837186 214.756364 \r\nL 321.974193 17.083636 \r\nL 322.978913 17.083636 \r\nL 323.11592 214.756364 \r\nL 323.161589 214.756364 \r\nL 323.298596 17.083636 \r\nL 323.481273 17.083636 \r\nL 323.526942 214.756364 \r\nL 323.572611 17.083636 \r\nL 325.171028 17.083636 \r\nL 325.262367 214.756364 \r\nL 325.399374 17.083636 \r\nL 326.997791 17.083636 \r\nL 327.043461 214.756364 \r\nL 327.08913 17.083636 \r\nL 328.002511 17.083636 \r\nL 328.139518 214.756364 \r\nL 328.687547 214.756364 \r\nL 328.824555 17.083636 \r\nL 329.646598 17.083636 \r\nL 329.692267 214.756364 \r\nL 329.737936 17.083636 \r\nL 330.377303 17.083636 \r\nL 330.51431 214.756364 \r\nL 330.651318 214.756364 \r\nL 330.788325 17.083636 \r\nL 331.382023 17.083636 \r\nL 331.51903 214.756364 \r\nL 332.386743 214.756364 \r\nL 332.52375 17.083636 \r\nL 334.944211 17.083636 \r\nL 335.081218 214.756364 \r\nL 335.263894 214.756364 \r\nL 335.400902 17.083636 \r\nL 335.674916 17.083636 \r\nL 335.811923 214.756364 \r\nL 335.857592 214.756364 \r\nL 335.9946 17.083636 \r\nL 336.725305 17.083636 \r\nL 336.770974 214.756364 \r\nL 336.816643 17.083636 \r\nL 338.734744 17.083636 \r\nL 338.871751 214.756364 \r\nL 338.91742 214.756364 \r\nL 339.008759 17.083636 \r\nL 339.054428 214.756364 \r\nL 339.100097 17.083636 \r\nL 340.515838 17.083636 \r\nL 340.652845 214.756364 \r\nL 340.881191 214.756364 \r\nL 341.018198 17.083636 \r\nL 341.155205 214.756364 \r\nL 341.200874 214.756364 \r\nL 341.337882 17.083636 \r\nL 341.840241 17.083636 \r\nL 341.977249 214.756364 \r\nL 342.068587 214.756364 \r\nL 342.205594 17.083636 \r\nL 342.342601 214.756364 \r\nL 342.753623 214.756364 \r\nL 342.89063 17.083636 \r\nL 343.073306 17.083636 \r\nL 343.210314 214.756364 \r\nL 344.443379 214.756364 \r\nL 344.580386 17.083636 \r\nL 344.717393 17.083636 \r\nL 344.8544 214.756364 \r\nL 345.402429 214.756364 \r\nL 345.539437 17.083636 \r\nL 345.813451 17.083636 \r\nL 345.950458 214.756364 \r\nL 345.996127 214.756364 \r\nL 346.133135 17.083636 \r\nL 346.224473 17.083636 \r\nL 346.36148 214.756364 \r\nL 346.407149 214.756364 \r\nL 346.544156 17.083636 \r\nL 348.142574 17.083636 \r\nL 348.233912 214.756364 \r\nL 348.370919 17.083636 \r\nL 352.207122 17.083636 \r\nL 352.344129 214.756364 \r\nL 352.663812 214.756364 \r\nL 352.80082 17.083636 \r\nL 352.846489 17.083636 \r\nL 352.892158 214.756364 \r\nL 352.937827 17.083636 \r\nL 353.166172 17.083636 \r\nL 353.30318 214.756364 \r\nL 354.079554 214.756364 \r\nL 354.216561 17.083636 \r\nL 355.038604 17.083636 \r\nL 355.175612 214.756364 \r\nL 355.632302 214.756364 \r\nL 355.76931 17.083636 \r\nL 357.915756 17.083636 \r\nL 358.052764 214.756364 \r\nL 358.555123 214.756364 \r\nL 358.692131 17.083636 \r\nL 359.559843 17.083636 \r\nL 359.69685 214.756364 \r\nL 361.066923 214.756364 \r\nL 361.20393 17.083636 \r\nL 363.304707 17.083636 \r\nL 363.441715 214.756364 \r\nL 363.761398 214.756364 \r\nL 363.898405 17.083636 \r\nL 364.081082 17.083636 \r\nL 364.218089 214.756364 \r\nL 364.629111 214.756364 \r\nL 364.766118 17.083636 \r\nL 364.903125 17.083636 \r\nL 364.903125 17.083636 \r\n\" style=\"fill:none;stroke:#1f77b4;stroke-linecap:square;stroke-width:1.5;\"/>\r\n   </g>\r\n   <g id=\"patch_3\">\r\n    <path d=\"M 30.103125 224.64 \r\nL 30.103125 7.2 \r\n\" style=\"fill:none;stroke:#000000;stroke-linecap:square;stroke-linejoin:miter;stroke-width:0.8;\"/>\r\n   </g>\r\n   <g id=\"patch_4\">\r\n    <path d=\"M 364.903125 224.64 \r\nL 364.903125 7.2 \r\n\" style=\"fill:none;stroke:#000000;stroke-linecap:square;stroke-linejoin:miter;stroke-width:0.8;\"/>\r\n   </g>\r\n   <g id=\"patch_5\">\r\n    <path d=\"M 30.103125 224.64 \r\nL 364.903125 224.64 \r\n\" style=\"fill:none;stroke:#000000;stroke-linecap:square;stroke-linejoin:miter;stroke-width:0.8;\"/>\r\n   </g>\r\n   <g id=\"patch_6\">\r\n    <path d=\"M 30.103125 7.2 \r\nL 364.903125 7.2 \r\n\" style=\"fill:none;stroke:#000000;stroke-linecap:square;stroke-linejoin:miter;stroke-width:0.8;\"/>\r\n   </g>\r\n   <g id=\"legend_1\">\r\n    <g id=\"patch_7\">\r\n     <path d=\"M 264.075 124.898125 \r\nL 357.903125 124.898125 \r\nQ 359.903125 124.898125 359.903125 122.898125 \r\nL 359.903125 108.941875 \r\nQ 359.903125 106.941875 357.903125 106.941875 \r\nL 264.075 106.941875 \r\nQ 262.075 106.941875 262.075 108.941875 \r\nL 262.075 122.898125 \r\nQ 262.075 124.898125 264.075 124.898125 \r\nz\r\n\" style=\"fill:#ffffff;opacity:0.8;stroke:#cccccc;stroke-linejoin:miter;\"/>\r\n    </g>\r\n    <g id=\"line2d_50\">\r\n     <path d=\"M 266.075 115.040312 \r\nL 286.075 115.040312 \r\n\" style=\"fill:none;stroke:#1f77b4;stroke-linecap:square;stroke-width:1.5;\"/>\r\n    </g>\r\n    <g id=\"line2d_51\"/>\r\n    <g id=\"text_15\">\r\n     <!-- open_trades -->\r\n     <g transform=\"translate(294.075 118.540312)scale(0.1 -0.1)\">\r\n      <defs>\r\n       <path d=\"M 30.609375 48.390625 \r\nQ 23.390625 48.390625 19.1875 42.75 \r\nQ 14.984375 37.109375 14.984375 27.296875 \r\nQ 14.984375 17.484375 19.15625 11.84375 \r\nQ 23.34375 6.203125 30.609375 6.203125 \r\nQ 37.796875 6.203125 41.984375 11.859375 \r\nQ 46.1875 17.53125 46.1875 27.296875 \r\nQ 46.1875 37.015625 41.984375 42.703125 \r\nQ 37.796875 48.390625 30.609375 48.390625 \r\nz\r\nM 30.609375 56 \r\nQ 42.328125 56 49.015625 48.375 \r\nQ 55.71875 40.765625 55.71875 27.296875 \r\nQ 55.71875 13.875 49.015625 6.21875 \r\nQ 42.328125 -1.421875 30.609375 -1.421875 \r\nQ 18.84375 -1.421875 12.171875 6.21875 \r\nQ 5.515625 13.875 5.515625 27.296875 \r\nQ 5.515625 40.765625 12.171875 48.375 \r\nQ 18.84375 56 30.609375 56 \r\nz\r\n\" id=\"DejaVuSans-111\"/>\r\n       <path d=\"M 18.109375 8.203125 \r\nL 18.109375 -20.796875 \r\nL 9.078125 -20.796875 \r\nL 9.078125 54.6875 \r\nL 18.109375 54.6875 \r\nL 18.109375 46.390625 \r\nQ 20.953125 51.265625 25.265625 53.625 \r\nQ 29.59375 56 35.59375 56 \r\nQ 45.5625 56 51.78125 48.09375 \r\nQ 58.015625 40.1875 58.015625 27.296875 \r\nQ 58.015625 14.40625 51.78125 6.484375 \r\nQ 45.5625 -1.421875 35.59375 -1.421875 \r\nQ 29.59375 -1.421875 25.265625 0.953125 \r\nQ 20.953125 3.328125 18.109375 8.203125 \r\nz\r\nM 48.6875 27.296875 \r\nQ 48.6875 37.203125 44.609375 42.84375 \r\nQ 40.53125 48.484375 33.40625 48.484375 \r\nQ 26.265625 48.484375 22.1875 42.84375 \r\nQ 18.109375 37.203125 18.109375 27.296875 \r\nQ 18.109375 17.390625 22.1875 11.75 \r\nQ 26.265625 6.109375 33.40625 6.109375 \r\nQ 40.53125 6.109375 44.609375 11.75 \r\nQ 48.6875 17.390625 48.6875 27.296875 \r\nz\r\n\" id=\"DejaVuSans-112\"/>\r\n       <path d=\"M 50.984375 -16.609375 \r\nL 50.984375 -23.578125 \r\nL -0.984375 -23.578125 \r\nL -0.984375 -16.609375 \r\nz\r\n\" id=\"DejaVuSans-95\"/>\r\n       <path d=\"M 41.109375 46.296875 \r\nQ 39.59375 47.171875 37.8125 47.578125 \r\nQ 36.03125 48 33.890625 48 \r\nQ 26.265625 48 22.1875 43.046875 \r\nQ 18.109375 38.09375 18.109375 28.8125 \r\nL 18.109375 0 \r\nL 9.078125 0 \r\nL 9.078125 54.6875 \r\nL 18.109375 54.6875 \r\nL 18.109375 46.1875 \r\nQ 20.953125 51.171875 25.484375 53.578125 \r\nQ 30.03125 56 36.53125 56 \r\nQ 37.453125 56 38.578125 55.875 \r\nQ 39.703125 55.765625 41.0625 55.515625 \r\nz\r\n\" id=\"DejaVuSans-114\"/>\r\n       <path d=\"M 44.28125 53.078125 \r\nL 44.28125 44.578125 \r\nQ 40.484375 46.53125 36.375 47.5 \r\nQ 32.28125 48.484375 27.875 48.484375 \r\nQ 21.1875 48.484375 17.84375 46.4375 \r\nQ 14.5 44.390625 14.5 40.28125 \r\nQ 14.5 37.15625 16.890625 35.375 \r\nQ 19.28125 33.59375 26.515625 31.984375 \r\nL 29.59375 31.296875 \r\nQ 39.15625 29.25 43.1875 25.515625 \r\nQ 47.21875 21.78125 47.21875 15.09375 \r\nQ 47.21875 7.46875 41.1875 3.015625 \r\nQ 35.15625 -1.421875 24.609375 -1.421875 \r\nQ 20.21875 -1.421875 15.453125 -0.5625 \r\nQ 10.6875 0.296875 5.421875 2 \r\nL 5.421875 11.28125 \r\nQ 10.40625 8.6875 15.234375 7.390625 \r\nQ 20.0625 6.109375 24.8125 6.109375 \r\nQ 31.15625 6.109375 34.5625 8.28125 \r\nQ 37.984375 10.453125 37.984375 14.40625 \r\nQ 37.984375 18.0625 35.515625 20.015625 \r\nQ 33.0625 21.96875 24.703125 23.78125 \r\nL 21.578125 24.515625 \r\nQ 13.234375 26.265625 9.515625 29.90625 \r\nQ 5.8125 33.546875 5.8125 39.890625 \r\nQ 5.8125 47.609375 11.28125 51.796875 \r\nQ 16.75 56 26.8125 56 \r\nQ 31.78125 56 36.171875 55.265625 \r\nQ 40.578125 54.546875 44.28125 53.078125 \r\nz\r\n\" id=\"DejaVuSans-115\"/>\r\n      </defs>\r\n      <use xlink:href=\"#DejaVuSans-111\"/>\r\n      <use x=\"61.181641\" xlink:href=\"#DejaVuSans-112\"/>\r\n      <use x=\"124.658203\" xlink:href=\"#DejaVuSans-101\"/>\r\n      <use x=\"186.181641\" xlink:href=\"#DejaVuSans-110\"/>\r\n      <use x=\"249.560547\" xlink:href=\"#DejaVuSans-95\"/>\r\n      <use x=\"299.560547\" xlink:href=\"#DejaVuSans-116\"/>\r\n      <use x=\"338.769531\" xlink:href=\"#DejaVuSans-114\"/>\r\n      <use x=\"379.882812\" xlink:href=\"#DejaVuSans-97\"/>\r\n      <use x=\"441.162109\" xlink:href=\"#DejaVuSans-100\"/>\r\n      <use x=\"504.638672\" xlink:href=\"#DejaVuSans-101\"/>\r\n      <use x=\"566.162109\" xlink:href=\"#DejaVuSans-115\"/>\r\n     </g>\r\n    </g>\r\n   </g>\r\n  </g>\r\n </g>\r\n <defs>\r\n  <clipPath id=\"pfca09295bc\">\r\n   <rect height=\"217.44\" width=\"334.8\" x=\"30.103125\" y=\"7.2\"/>\r\n  </clipPath>\r\n </defs>\r\n</svg>\r\n",
      "image/png": "[encoded data removed]"
     },
     "metadata": {
      "needs_background": "light"
     }
    }
   ],
   "source": [
    "from freqtrade.data.btanalysis import analyze_trade_parallelism\n",
    "\n",
    "# Analyze the above\n",
    "parallel_trades = analyze_trade_parallelism(trades, '4h')\n",
    "\n",
    "parallel_trades.plot()"
   ]
  },
  {
   "cell_type": "code",
   "execution_count": 30,
   "metadata": {},
   "outputs": [],
   "source": [
    "from freqtrade.plot.plotting import  generate_candlestick_graph\n",
    "# Limit graph period to keep plotly quick and reactive\n",
    "\n",
    "# Filter trades to one pair\n",
    "trades_red = trades.loc[trades['pair'] == pair]\n",
    "data.set_index('date', drop=False)\n",
    "data_red = data['2017-01-01':'2021-06-10']\n",
    "# Generate candlestick graph\n",
    "graph = generate_candlestick_graph(pair=pair,\n",
    "                                   data=data_red,\n",
    "                                   trades=trades_red,\n",
    "                                   indicators1=['ema_fast', 'ema_slow', 'trail2','greenLine'],\n",
    "                                   indicators2=['rsi']\n",
    "                                  )\n",
    "\n",
    "graph.show(renderer=\"browser\")\n"
   ]
  },
  {
   "cell_type": "code",
   "execution_count": 31,
   "metadata": {},
   "outputs": [
    {
     "output_type": "execute_result",
     "data": {
      "text/plain": [
       "         pair  stake_amount      amount                 open_date  \\\n",
       "0    BTC/USDT          0.05  0.00000432 2017-12-05 00:00:00+00:00   \n",
       "1    BTC/USDT          0.05  0.00000315 2017-12-09 00:00:00+00:00   \n",
       "2    BTC/USDT          0.05  0.00000324 2017-12-10 16:00:00+00:00   \n",
       "3    BTC/USDT          0.05  0.00000311 2017-12-14 12:00:00+00:00   \n",
       "4    BTC/USDT          0.05  0.00000350 2017-12-26 04:00:00+00:00   \n",
       "..        ...           ...         ...                       ...   \n",
       "237  BTC/USDT          0.05  0.00000101 2021-03-07 04:00:00+00:00   \n",
       "238  BTC/USDT          0.05  0.00000086 2021-03-17 20:00:00+00:00   \n",
       "239  BTC/USDT          0.05  0.00000091 2021-03-27 00:00:00+00:00   \n",
       "240  BTC/USDT          0.05  0.00000085 2021-04-05 20:00:00+00:00   \n",
       "241  BTC/USDT          0.05  0.00000086 2021-04-09 00:00:00+00:00   \n",
       "\n",
       "                   close_date  open_rate  close_rate  fee_open  fee_close  \\\n",
       "0   2017-12-08 12:00:00+00:00   11571.03    14849.99     0.001      0.001   \n",
       "1   2017-12-10 04:00:00+00:00   15880.01    12609.62     0.001      0.001   \n",
       "2   2017-12-14 08:00:00+00:00   15410.25    15756.70     0.001      0.001   \n",
       "3   2017-12-19 12:00:00+00:00   16098.95    17214.20     0.001      0.001   \n",
       "4   2017-12-28 08:00:00+00:00   14300.00    13984.38     0.001      0.001   \n",
       "..                        ...        ...         ...       ...        ...   \n",
       "237 2021-03-15 08:00:00+00:00   49551.43    57789.75     0.001      0.001   \n",
       "238 2021-03-21 08:00:00+00:00   57867.42    56972.68     0.001      0.001   \n",
       "239 2021-04-04 00:00:00+00:00   55025.59    57051.95     0.001      0.001   \n",
       "240 2021-04-06 20:00:00+00:00   59005.21    58225.01     0.001      0.001   \n",
       "241 2021-04-09 20:00:00+00:00   58077.52    58370.59     0.001      0.001   \n",
       "\n",
       "     trade_duration  ...  sell_reason  initial_stop_loss_abs  \\\n",
       "0              5040  ...  sell_signal               5785.515   \n",
       "1              1680  ...  sell_signal               7940.005   \n",
       "2              5280  ...  sell_signal               7705.125   \n",
       "3              7200  ...  sell_signal               8049.475   \n",
       "4              3120  ...  sell_signal               7150.000   \n",
       "..              ...  ...          ...                    ...   \n",
       "237           11760  ...  sell_signal              24775.715   \n",
       "238            5040  ...  sell_signal              28933.710   \n",
       "239           11520  ...  sell_signal              27512.795   \n",
       "240            1440  ...  sell_signal              29502.605   \n",
       "241            1200  ...   force_sell              29038.760   \n",
       "\n",
       "    initial_stop_loss_ratio  stop_loss_abs  stop_loss_ratio  min_rate  \\\n",
       "0                      -0.5       5785.515             -0.5  11571.03   \n",
       "1                      -0.5       7940.005             -0.5  13882.40   \n",
       "2                      -0.5       7705.125             -0.5  15410.25   \n",
       "3                      -0.5       8049.475             -0.5  16098.95   \n",
       "4                      -0.5       7150.000             -0.5  14300.00   \n",
       "..                      ...            ...              ...       ...   \n",
       "237                    -0.5      24775.715             -0.5  49551.43   \n",
       "238                    -0.5      28933.710             -0.5  57325.45   \n",
       "239                    -0.5      27512.795             -0.5  55025.59   \n",
       "240                    -0.5      29502.605             -0.5  58282.12   \n",
       "241                    -0.5      29038.760             -0.5  58077.52   \n",
       "\n",
       "     max_rate  is_open  open_timestamp  close_timestamp  \n",
       "0    17204.99    False  1.51243200e+12   1.51273440e+12  \n",
       "1    16269.30    False  1.51277760e+12   1.51287840e+12  \n",
       "2    17470.00    False  1.51292160e+12   1.51323840e+12  \n",
       "3    19798.68    False  1.51325280e+12   1.51368480e+12  \n",
       "4    16498.05    False  1.51426080e+12   1.51444800e+12  \n",
       "..        ...      ...             ...              ...  \n",
       "237  61844.00    False  1.61508960e+12   1.61579520e+12  \n",
       "238  60129.97    False  1.61601120e+12   1.61631360e+12  \n",
       "239  60200.00    False  1.61680320e+12   1.61749440e+12  \n",
       "240  59495.24    False  1.61765280e+12   1.61773920e+12  \n",
       "241  58894.90     True  1.61792640e+12   1.61799840e+12  \n",
       "\n",
       "[242 rows x 22 columns]"
      ],
      "text/html": "<div>\n<style scoped>\n    .dataframe tbody tr th:only-of-type {\n        vertical-align: middle;\n    }\n\n    .dataframe tbody tr th {\n        vertical-align: top;\n    }\n\n    .dataframe thead th {\n        text-align: right;\n    }\n</style>\n<table border=\"1\" class=\"dataframe\">\n  <thead>\n    <tr style=\"text-align: right;\">\n      <th></th>\n      <th>pair</th>\n      <th>stake_amount</th>\n      <th>amount</th>\n      <th>open_date</th>\n      <th>close_date</th>\n      <th>open_rate</th>\n      <th>close_rate</th>\n      <th>fee_open</th>\n      <th>fee_close</th>\n      <th>trade_duration</th>\n      <th>...</th>\n      <th>sell_reason</th>\n      <th>initial_stop_loss_abs</th>\n      <th>initial_stop_loss_ratio</th>\n      <th>stop_loss_abs</th>\n      <th>stop_loss_ratio</th>\n      <th>min_rate</th>\n      <th>max_rate</th>\n      <th>is_open</th>\n      <th>open_timestamp</th>\n      <th>close_timestamp</th>\n    </tr>\n  </thead>\n  <tbody>\n    <tr>\n      <th>0</th>\n      <td>BTC/USDT</td>\n      <td>0.05</td>\n      <td>0.00000432</td>\n      <td>2017-12-05 00:00:00+00:00</td>\n      <td>2017-12-08 12:00:00+00:00</td>\n      <td>11571.03</td>\n      <td>14849.99</td>\n      <td>0.001</td>\n      <td>0.001</td>\n      <td>5040</td>\n      <td>...</td>\n      <td>sell_signal</td>\n      <td>5785.515</td>\n      <td>-0.5</td>\n      <td>5785.515</td>\n      <td>-0.5</td>\n      <td>11571.03</td>\n      <td>17204.99</td>\n      <td>False</td>\n      <td>1.51243200e+12</td>\n      <td>1.51273440e+12</td>\n    </tr>\n    <tr>\n      <th>1</th>\n      <td>BTC/USDT</td>\n      <td>0.05</td>\n      <td>0.00000315</td>\n      <td>2017-12-09 00:00:00+00:00</td>\n      <td>2017-12-10 04:00:00+00:00</td>\n      <td>15880.01</td>\n      <td>12609.62</td>\n      <td>0.001</td>\n      <td>0.001</td>\n      <td>1680</td>\n      <td>...</td>\n      <td>sell_signal</td>\n      <td>7940.005</td>\n      <td>-0.5</td>\n      <td>7940.005</td>\n      <td>-0.5</td>\n      <td>13882.40</td>\n      <td>16269.30</td>\n      <td>False</td>\n      <td>1.51277760e+12</td>\n      <td>1.51287840e+12</td>\n    </tr>\n    <tr>\n      <th>2</th>\n      <td>BTC/USDT</td>\n      <td>0.05</td>\n      <td>0.00000324</td>\n      <td>2017-12-10 16:00:00+00:00</td>\n      <td>2017-12-14 08:00:00+00:00</td>\n      <td>15410.25</td>\n      <td>15756.70</td>\n      <td>0.001</td>\n      <td>0.001</td>\n      <td>5280</td>\n      <td>...</td>\n      <td>sell_signal</td>\n      <td>7705.125</td>\n      <td>-0.5</td>\n      <td>7705.125</td>\n      <td>-0.5</td>\n      <td>15410.25</td>\n      <td>17470.00</td>\n      <td>False</td>\n      <td>1.51292160e+12</td>\n      <td>1.51323840e+12</td>\n    </tr>\n    <tr>\n      <th>3</th>\n      <td>BTC/USDT</td>\n      <td>0.05</td>\n      <td>0.00000311</td>\n      <td>2017-12-14 12:00:00+00:00</td>\n      <td>2017-12-19 12:00:00+00:00</td>\n      <td>16098.95</td>\n      <td>17214.20</td>\n      <td>0.001</td>\n      <td>0.001</td>\n      <td>7200</td>\n      <td>...</td>\n      <td>sell_signal</td>\n      <td>8049.475</td>\n      <td>-0.5</td>\n      <td>8049.475</td>\n      <td>-0.5</td>\n      <td>16098.95</td>\n      <td>19798.68</td>\n      <td>False</td>\n      <td>1.51325280e+12</td>\n      <td>1.51368480e+12</td>\n    </tr>\n    <tr>\n      <th>4</th>\n      <td>BTC/USDT</td>\n      <td>0.05</td>\n      <td>0.00000350</td>\n      <td>2017-12-26 04:00:00+00:00</td>\n      <td>2017-12-28 08:00:00+00:00</td>\n      <td>14300.00</td>\n      <td>13984.38</td>\n      <td>0.001</td>\n      <td>0.001</td>\n      <td>3120</td>\n      <td>...</td>\n      <td>sell_signal</td>\n      <td>7150.000</td>\n      <td>-0.5</td>\n      <td>7150.000</td>\n      <td>-0.5</td>\n      <td>14300.00</td>\n      <td>16498.05</td>\n      <td>False</td>\n      <td>1.51426080e+12</td>\n      <td>1.51444800e+12</td>\n    </tr>\n    <tr>\n      <th>...</th>\n      <td>...</td>\n      <td>...</td>\n      <td>...</td>\n      <td>...</td>\n      <td>...</td>\n      <td>...</td>\n      <td>...</td>\n      <td>...</td>\n      <td>...</td>\n      <td>...</td>\n      <td>...</td>\n      <td>...</td>\n      <td>...</td>\n      <td>...</td>\n      <td>...</td>\n      <td>...</td>\n      <td>...</td>\n      <td>...</td>\n      <td>...</td>\n      <td>...</td>\n      <td>...</td>\n    </tr>\n    <tr>\n      <th>237</th>\n      <td>BTC/USDT</td>\n      <td>0.05</td>\n      <td>0.00000101</td>\n      <td>2021-03-07 04:00:00+00:00</td>\n      <td>2021-03-15 08:00:00+00:00</td>\n      <td>49551.43</td>\n      <td>57789.75</td>\n      <td>0.001</td>\n      <td>0.001</td>\n      <td>11760</td>\n      <td>...</td>\n      <td>sell_signal</td>\n      <td>24775.715</td>\n      <td>-0.5</td>\n      <td>24775.715</td>\n      <td>-0.5</td>\n      <td>49551.43</td>\n      <td>61844.00</td>\n      <td>False</td>\n      <td>1.61508960e+12</td>\n      <td>1.61579520e+12</td>\n    </tr>\n    <tr>\n      <th>238</th>\n      <td>BTC/USDT</td>\n      <td>0.05</td>\n      <td>0.00000086</td>\n      <td>2021-03-17 20:00:00+00:00</td>\n      <td>2021-03-21 08:00:00+00:00</td>\n      <td>57867.42</td>\n      <td>56972.68</td>\n      <td>0.001</td>\n      <td>0.001</td>\n      <td>5040</td>\n      <td>...</td>\n      <td>sell_signal</td>\n      <td>28933.710</td>\n      <td>-0.5</td>\n      <td>28933.710</td>\n      <td>-0.5</td>\n      <td>57325.45</td>\n      <td>60129.97</td>\n      <td>False</td>\n      <td>1.61601120e+12</td>\n      <td>1.61631360e+12</td>\n    </tr>\n    <tr>\n      <th>239</th>\n      <td>BTC/USDT</td>\n      <td>0.05</td>\n      <td>0.00000091</td>\n      <td>2021-03-27 00:00:00+00:00</td>\n      <td>2021-04-04 00:00:00+00:00</td>\n      <td>55025.59</td>\n      <td>57051.95</td>\n      <td>0.001</td>\n      <td>0.001</td>\n      <td>11520</td>\n      <td>...</td>\n      <td>sell_signal</td>\n      <td>27512.795</td>\n      <td>-0.5</td>\n      <td>27512.795</td>\n      <td>-0.5</td>\n      <td>55025.59</td>\n      <td>60200.00</td>\n      <td>False</td>\n      <td>1.61680320e+12</td>\n      <td>1.61749440e+12</td>\n    </tr>\n    <tr>\n      <th>240</th>\n      <td>BTC/USDT</td>\n      <td>0.05</td>\n      <td>0.00000085</td>\n      <td>2021-04-05 20:00:00+00:00</td>\n      <td>2021-04-06 20:00:00+00:00</td>\n      <td>59005.21</td>\n      <td>58225.01</td>\n      <td>0.001</td>\n      <td>0.001</td>\n      <td>1440</td>\n      <td>...</td>\n      <td>sell_signal</td>\n      <td>29502.605</td>\n      <td>-0.5</td>\n      <td>29502.605</td>\n      <td>-0.5</td>\n      <td>58282.12</td>\n      <td>59495.24</td>\n      <td>False</td>\n      <td>1.61765280e+12</td>\n      <td>1.61773920e+12</td>\n    </tr>\n    <tr>\n      <th>241</th>\n      <td>BTC/USDT</td>\n      <td>0.05</td>\n      <td>0.00000086</td>\n      <td>2021-04-09 00:00:00+00:00</td>\n      <td>2021-04-09 20:00:00+00:00</td>\n      <td>58077.52</td>\n      <td>58370.59</td>\n      <td>0.001</td>\n      <td>0.001</td>\n      <td>1200</td>\n      <td>...</td>\n      <td>force_sell</td>\n      <td>29038.760</td>\n      <td>-0.5</td>\n      <td>29038.760</td>\n      <td>-0.5</td>\n      <td>58077.52</td>\n      <td>58894.90</td>\n      <td>True</td>\n      <td>1.61792640e+12</td>\n      <td>1.61799840e+12</td>\n    </tr>\n  </tbody>\n</table>\n<p>242 rows × 22 columns</p>\n</div>"
     },
     "metadata": {},
     "execution_count": 31
    }
   ],
   "source": [
    " trades.loc[trades['pair'] == pair]"
   ]
  },
  {
   "cell_type": "code",
   "execution_count": 32,
   "metadata": {},
   "outputs": [
    {
     "output_type": "execute_result",
     "data": {
      "text/plain": [
       "         pair  stake_amount      amount                 open_date  \\\n",
       "0    BTC/USDT          0.05  0.00000432 2017-12-05 00:00:00+00:00   \n",
       "1    BTC/USDT          0.05  0.00000315 2017-12-09 00:00:00+00:00   \n",
       "2    BTC/USDT          0.05  0.00000324 2017-12-10 16:00:00+00:00   \n",
       "3    BTC/USDT          0.05  0.00000311 2017-12-14 12:00:00+00:00   \n",
       "4    BTC/USDT          0.05  0.00000350 2017-12-26 04:00:00+00:00   \n",
       "..        ...           ...         ...                       ...   \n",
       "237  BTC/USDT          0.05  0.00000101 2021-03-07 04:00:00+00:00   \n",
       "238  BTC/USDT          0.05  0.00000086 2021-03-17 20:00:00+00:00   \n",
       "239  BTC/USDT          0.05  0.00000091 2021-03-27 00:00:00+00:00   \n",
       "240  BTC/USDT          0.05  0.00000085 2021-04-05 20:00:00+00:00   \n",
       "241  BTC/USDT          0.05  0.00000086 2021-04-09 00:00:00+00:00   \n",
       "\n",
       "                   close_date  open_rate  close_rate  fee_open  fee_close  \\\n",
       "0   2017-12-08 12:00:00+00:00   11571.03    14849.99     0.001      0.001   \n",
       "1   2017-12-10 04:00:00+00:00   15880.01    12609.62     0.001      0.001   \n",
       "2   2017-12-14 08:00:00+00:00   15410.25    15756.70     0.001      0.001   \n",
       "3   2017-12-19 12:00:00+00:00   16098.95    17214.20     0.001      0.001   \n",
       "4   2017-12-28 08:00:00+00:00   14300.00    13984.38     0.001      0.001   \n",
       "..                        ...        ...         ...       ...        ...   \n",
       "237 2021-03-15 08:00:00+00:00   49551.43    57789.75     0.001      0.001   \n",
       "238 2021-03-21 08:00:00+00:00   57867.42    56972.68     0.001      0.001   \n",
       "239 2021-04-04 00:00:00+00:00   55025.59    57051.95     0.001      0.001   \n",
       "240 2021-04-06 20:00:00+00:00   59005.21    58225.01     0.001      0.001   \n",
       "241 2021-04-09 20:00:00+00:00   58077.52    58370.59     0.001      0.001   \n",
       "\n",
       "     trade_duration  ...  sell_reason  initial_stop_loss_abs  \\\n",
       "0              5040  ...  sell_signal               5785.515   \n",
       "1              1680  ...  sell_signal               7940.005   \n",
       "2              5280  ...  sell_signal               7705.125   \n",
       "3              7200  ...  sell_signal               8049.475   \n",
       "4              3120  ...  sell_signal               7150.000   \n",
       "..              ...  ...          ...                    ...   \n",
       "237           11760  ...  sell_signal              24775.715   \n",
       "238            5040  ...  sell_signal              28933.710   \n",
       "239           11520  ...  sell_signal              27512.795   \n",
       "240            1440  ...  sell_signal              29502.605   \n",
       "241            1200  ...   force_sell              29038.760   \n",
       "\n",
       "    initial_stop_loss_ratio  stop_loss_abs  stop_loss_ratio  min_rate  \\\n",
       "0                      -0.5       5785.515             -0.5  11571.03   \n",
       "1                      -0.5       7940.005             -0.5  13882.40   \n",
       "2                      -0.5       7705.125             -0.5  15410.25   \n",
       "3                      -0.5       8049.475             -0.5  16098.95   \n",
       "4                      -0.5       7150.000             -0.5  14300.00   \n",
       "..                      ...            ...              ...       ...   \n",
       "237                    -0.5      24775.715             -0.5  49551.43   \n",
       "238                    -0.5      28933.710             -0.5  57325.45   \n",
       "239                    -0.5      27512.795             -0.5  55025.59   \n",
       "240                    -0.5      29502.605             -0.5  58282.12   \n",
       "241                    -0.5      29038.760             -0.5  58077.52   \n",
       "\n",
       "     max_rate  is_open  open_timestamp  close_timestamp  \n",
       "0    17204.99    False  1.51243200e+12   1.51273440e+12  \n",
       "1    16269.30    False  1.51277760e+12   1.51287840e+12  \n",
       "2    17470.00    False  1.51292160e+12   1.51323840e+12  \n",
       "3    19798.68    False  1.51325280e+12   1.51368480e+12  \n",
       "4    16498.05    False  1.51426080e+12   1.51444800e+12  \n",
       "..        ...      ...             ...              ...  \n",
       "237  61844.00    False  1.61508960e+12   1.61579520e+12  \n",
       "238  60129.97    False  1.61601120e+12   1.61631360e+12  \n",
       "239  60200.00    False  1.61680320e+12   1.61749440e+12  \n",
       "240  59495.24    False  1.61765280e+12   1.61773920e+12  \n",
       "241  58894.90     True  1.61792640e+12   1.61799840e+12  \n",
       "\n",
       "[242 rows x 22 columns]"
      ],
      "text/html": "<div>\n<style scoped>\n    .dataframe tbody tr th:only-of-type {\n        vertical-align: middle;\n    }\n\n    .dataframe tbody tr th {\n        vertical-align: top;\n    }\n\n    .dataframe thead th {\n        text-align: right;\n    }\n</style>\n<table border=\"1\" class=\"dataframe\">\n  <thead>\n    <tr style=\"text-align: right;\">\n      <th></th>\n      <th>pair</th>\n      <th>stake_amount</th>\n      <th>amount</th>\n      <th>open_date</th>\n      <th>close_date</th>\n      <th>open_rate</th>\n      <th>close_rate</th>\n      <th>fee_open</th>\n      <th>fee_close</th>\n      <th>trade_duration</th>\n      <th>...</th>\n      <th>sell_reason</th>\n      <th>initial_stop_loss_abs</th>\n      <th>initial_stop_loss_ratio</th>\n      <th>stop_loss_abs</th>\n      <th>stop_loss_ratio</th>\n      <th>min_rate</th>\n      <th>max_rate</th>\n      <th>is_open</th>\n      <th>open_timestamp</th>\n      <th>close_timestamp</th>\n    </tr>\n  </thead>\n  <tbody>\n    <tr>\n      <th>0</th>\n      <td>BTC/USDT</td>\n      <td>0.05</td>\n      <td>0.00000432</td>\n      <td>2017-12-05 00:00:00+00:00</td>\n      <td>2017-12-08 12:00:00+00:00</td>\n      <td>11571.03</td>\n      <td>14849.99</td>\n      <td>0.001</td>\n      <td>0.001</td>\n      <td>5040</td>\n      <td>...</td>\n      <td>sell_signal</td>\n      <td>5785.515</td>\n      <td>-0.5</td>\n      <td>5785.515</td>\n      <td>-0.5</td>\n      <td>11571.03</td>\n      <td>17204.99</td>\n      <td>False</td>\n      <td>1.51243200e+12</td>\n      <td>1.51273440e+12</td>\n    </tr>\n    <tr>\n      <th>1</th>\n      <td>BTC/USDT</td>\n      <td>0.05</td>\n      <td>0.00000315</td>\n      <td>2017-12-09 00:00:00+00:00</td>\n      <td>2017-12-10 04:00:00+00:00</td>\n      <td>15880.01</td>\n      <td>12609.62</td>\n      <td>0.001</td>\n      <td>0.001</td>\n      <td>1680</td>\n      <td>...</td>\n      <td>sell_signal</td>\n      <td>7940.005</td>\n      <td>-0.5</td>\n      <td>7940.005</td>\n      <td>-0.5</td>\n      <td>13882.40</td>\n      <td>16269.30</td>\n      <td>False</td>\n      <td>1.51277760e+12</td>\n      <td>1.51287840e+12</td>\n    </tr>\n    <tr>\n      <th>2</th>\n      <td>BTC/USDT</td>\n      <td>0.05</td>\n      <td>0.00000324</td>\n      <td>2017-12-10 16:00:00+00:00</td>\n      <td>2017-12-14 08:00:00+00:00</td>\n      <td>15410.25</td>\n      <td>15756.70</td>\n      <td>0.001</td>\n      <td>0.001</td>\n      <td>5280</td>\n      <td>...</td>\n      <td>sell_signal</td>\n      <td>7705.125</td>\n      <td>-0.5</td>\n      <td>7705.125</td>\n      <td>-0.5</td>\n      <td>15410.25</td>\n      <td>17470.00</td>\n      <td>False</td>\n      <td>1.51292160e+12</td>\n      <td>1.51323840e+12</td>\n    </tr>\n    <tr>\n      <th>3</th>\n      <td>BTC/USDT</td>\n      <td>0.05</td>\n      <td>0.00000311</td>\n      <td>2017-12-14 12:00:00+00:00</td>\n      <td>2017-12-19 12:00:00+00:00</td>\n      <td>16098.95</td>\n      <td>17214.20</td>\n      <td>0.001</td>\n      <td>0.001</td>\n      <td>7200</td>\n      <td>...</td>\n      <td>sell_signal</td>\n      <td>8049.475</td>\n      <td>-0.5</td>\n      <td>8049.475</td>\n      <td>-0.5</td>\n      <td>16098.95</td>\n      <td>19798.68</td>\n      <td>False</td>\n      <td>1.51325280e+12</td>\n      <td>1.51368480e+12</td>\n    </tr>\n    <tr>\n      <th>4</th>\n      <td>BTC/USDT</td>\n      <td>0.05</td>\n      <td>0.00000350</td>\n      <td>2017-12-26 04:00:00+00:00</td>\n      <td>2017-12-28 08:00:00+00:00</td>\n      <td>14300.00</td>\n      <td>13984.38</td>\n      <td>0.001</td>\n      <td>0.001</td>\n      <td>3120</td>\n      <td>...</td>\n      <td>sell_signal</td>\n      <td>7150.000</td>\n      <td>-0.5</td>\n      <td>7150.000</td>\n      <td>-0.5</td>\n      <td>14300.00</td>\n      <td>16498.05</td>\n      <td>False</td>\n      <td>1.51426080e+12</td>\n      <td>1.51444800e+12</td>\n    </tr>\n    <tr>\n      <th>...</th>\n      <td>...</td>\n      <td>...</td>\n      <td>...</td>\n      <td>...</td>\n      <td>...</td>\n      <td>...</td>\n      <td>...</td>\n      <td>...</td>\n      <td>...</td>\n      <td>...</td>\n      <td>...</td>\n      <td>...</td>\n      <td>...</td>\n      <td>...</td>\n      <td>...</td>\n      <td>...</td>\n      <td>...</td>\n      <td>...</td>\n      <td>...</td>\n      <td>...</td>\n      <td>...</td>\n    </tr>\n    <tr>\n      <th>237</th>\n      <td>BTC/USDT</td>\n      <td>0.05</td>\n      <td>0.00000101</td>\n      <td>2021-03-07 04:00:00+00:00</td>\n      <td>2021-03-15 08:00:00+00:00</td>\n      <td>49551.43</td>\n      <td>57789.75</td>\n      <td>0.001</td>\n      <td>0.001</td>\n      <td>11760</td>\n      <td>...</td>\n      <td>sell_signal</td>\n      <td>24775.715</td>\n      <td>-0.5</td>\n      <td>24775.715</td>\n      <td>-0.5</td>\n      <td>49551.43</td>\n      <td>61844.00</td>\n      <td>False</td>\n      <td>1.61508960e+12</td>\n      <td>1.61579520e+12</td>\n    </tr>\n    <tr>\n      <th>238</th>\n      <td>BTC/USDT</td>\n      <td>0.05</td>\n      <td>0.00000086</td>\n      <td>2021-03-17 20:00:00+00:00</td>\n      <td>2021-03-21 08:00:00+00:00</td>\n      <td>57867.42</td>\n      <td>56972.68</td>\n      <td>0.001</td>\n      <td>0.001</td>\n      <td>5040</td>\n      <td>...</td>\n      <td>sell_signal</td>\n      <td>28933.710</td>\n      <td>-0.5</td>\n      <td>28933.710</td>\n      <td>-0.5</td>\n      <td>57325.45</td>\n      <td>60129.97</td>\n      <td>False</td>\n      <td>1.61601120e+12</td>\n      <td>1.61631360e+12</td>\n    </tr>\n    <tr>\n      <th>239</th>\n      <td>BTC/USDT</td>\n      <td>0.05</td>\n      <td>0.00000091</td>\n      <td>2021-03-27 00:00:00+00:00</td>\n      <td>2021-04-04 00:00:00+00:00</td>\n      <td>55025.59</td>\n      <td>57051.95</td>\n      <td>0.001</td>\n      <td>0.001</td>\n      <td>11520</td>\n      <td>...</td>\n      <td>sell_signal</td>\n      <td>27512.795</td>\n      <td>-0.5</td>\n      <td>27512.795</td>\n      <td>-0.5</td>\n      <td>55025.59</td>\n      <td>60200.00</td>\n      <td>False</td>\n      <td>1.61680320e+12</td>\n      <td>1.61749440e+12</td>\n    </tr>\n    <tr>\n      <th>240</th>\n      <td>BTC/USDT</td>\n      <td>0.05</td>\n      <td>0.00000085</td>\n      <td>2021-04-05 20:00:00+00:00</td>\n      <td>2021-04-06 20:00:00+00:00</td>\n      <td>59005.21</td>\n      <td>58225.01</td>\n      <td>0.001</td>\n      <td>0.001</td>\n      <td>1440</td>\n      <td>...</td>\n      <td>sell_signal</td>\n      <td>29502.605</td>\n      <td>-0.5</td>\n      <td>29502.605</td>\n      <td>-0.5</td>\n      <td>58282.12</td>\n      <td>59495.24</td>\n      <td>False</td>\n      <td>1.61765280e+12</td>\n      <td>1.61773920e+12</td>\n    </tr>\n    <tr>\n      <th>241</th>\n      <td>BTC/USDT</td>\n      <td>0.05</td>\n      <td>0.00000086</td>\n      <td>2021-04-09 00:00:00+00:00</td>\n      <td>2021-04-09 20:00:00+00:00</td>\n      <td>58077.52</td>\n      <td>58370.59</td>\n      <td>0.001</td>\n      <td>0.001</td>\n      <td>1200</td>\n      <td>...</td>\n      <td>force_sell</td>\n      <td>29038.760</td>\n      <td>-0.5</td>\n      <td>29038.760</td>\n      <td>-0.5</td>\n      <td>58077.52</td>\n      <td>58894.90</td>\n      <td>True</td>\n      <td>1.61792640e+12</td>\n      <td>1.61799840e+12</td>\n    </tr>\n  </tbody>\n</table>\n<p>242 rows × 22 columns</p>\n</div>"
     },
     "metadata": {},
     "execution_count": 32
    }
   ],
   "source": [
    "trades"
   ]
  },
  {
   "cell_type": "code",
   "execution_count": null,
   "metadata": {},
   "outputs": [],
   "source": []
  }
 ]
}