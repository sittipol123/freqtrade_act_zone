{
 "metadata": {
  "language_info": {
   "codemirror_mode": {
    "name": "ipython",
    "version": 3
   },
   "file_extension": ".py",
   "mimetype": "text/x-python",
   "name": "python",
   "nbconvert_exporter": "python",
   "pygments_lexer": "ipython3",
   "version": "3.8.5"
  },
  "orig_nbformat": 2,
  "kernelspec": {
   "name": "python3",
   "display_name": "Python 3",
   "language": "python"
  }
 },
 "nbformat": 4,
 "nbformat_minor": 2,
 "cells": [
  {
   "cell_type": "code",
   "execution_count": null,
   "metadata": {},
   "outputs": [],
   "source": [
    "from pathlib import Path\n",
    "from freqtrade.configuration import Configuration\n",
    "\n",
    "import pandas as pd\n",
    "import numpy as np\n",
    "import statistics\n",
    "import math\n",
    "# Customize these according to your needs.s\n",
    "\n",
    "# Initialize empty configuration object\n",
    "path='\\\\freqtrade\\\\user_data\\\\config\\\\'\n",
    "\n",
    "config = Configuration.from_files([path + \"config_binance_zone.json\"])\n",
    "\n",
    "# Optionally, use existing configuration file\n",
    "# config = Configuration.from_files([\"config.json\"])\n",
    "\n",
    "# Define some constants\n",
    "config[\"timeframe\"] = \"4h\"\n",
    "# Name of the strategy class\n",
    "config[\"strategy\"] = \"YoyoActionStrategy\"\n",
    "# Location of the data\n",
    "data_location = Path(config['user_data_dir'], 'data', 'binance')\n",
    "# Pair to analyze - Only use osne pair here\n",
    "pair = \"BTC_USDT\"\n",
    "\n",
    "# if backtest_dir points to a directory, it'll automatically load the last backtest file.\n",
    "backtest_dir = config[\"user_data_dir\"] / \"backtest_results/backtest-result-2021-05-26_11-32-09.json\""
   ]
  },
  {
   "cell_type": "code",
   "execution_count": null,
   "metadata": {},
   "outputs": [],
   "source": [
    "from freqtrade.data.history import load_pair_history\n",
    "\n",
    "candles = load_pair_history(datadir=data_location,\n",
    "                            timeframe=config[\"timeframe\"],\n",
    "                            pair=pair)\n",
    "\n",
    "# Confirm success\n",
    "print(\"Loaded \" + str(len(candles)) + f\" rows of data for {pair} from {data_location}\")\n",
    "candles.head()"
   ]
  },
  {
   "cell_type": "code",
   "execution_count": null,
   "metadata": {},
   "outputs": [],
   "source": [
    "# Load strategy using values set above\n",
    "from freqtrade.resolvers import StrategyResolver\n",
    "strategy = StrategyResolver.load_strategy(config)\n",
    "\n",
    "# Generate buy/sell signals using strategy \n",
    "df = strategy.analyze_ticker(candles, {'pair': pair})\n",
    "df.tail()"
   ]
  },
  {
   "cell_type": "code",
   "execution_count": null,
   "metadata": {},
   "outputs": [],
   "source": [
    "print(f\"Generated {df['buy'].sum()} buy signals\")\n",
    "data = df.set_index('date', drop=False)\n",
    "data.tail()"
   ]
  },
  {
   "cell_type": "code",
   "execution_count": null,
   "metadata": {},
   "outputs": [],
   "source": [
    "from freqtrade.data.btanalysis import load_backtest_data, load_backtest_stats\n"
   ]
  },
  {
   "cell_type": "code",
   "execution_count": null,
   "metadata": {},
   "outputs": [],
   "source": [
    "backtest_dir"
   ]
  },
  {
   "cell_type": "code",
   "execution_count": null,
   "metadata": {},
   "outputs": [],
   "source": [
    "stats = load_backtest_stats(backtest_dir)\n",
    "\n",
    "strategy = config[\"strategy\"]\n",
    "# All statistics are available per strategy, so if `--strategy-list` was used during backtest, this will be reflected here as well.\n",
    "# Example usages:\n",
    "print(stats['strategy'][strategy]['results_per_pair'])\n",
    "# Get pairlist used for this backtest\n",
    "print(stats['strategy'][strategy]['pairlist'])\n",
    "# Get market change (average change of all pairs from start to end of the backtest period)\n",
    "print(stats['strategy'][strategy]['market_change'])\n",
    "# Maximum drawdown ()\n",
    "print(stats['strategy'][strategy]['max_drawdown'])\n",
    "# Maximum drawdown start and end\n",
    "print(stats['strategy'][strategy]['drawdown_start'])\n",
    "print(stats['strategy'][strategy]['drawdown_end'])\n",
    "\n",
    "# Get strategy comparison (only relevant if multiple strategies were compared)\n",
    "print(stats['strategy_comparison'])"
   ]
  },
  {
   "cell_type": "code",
   "execution_count": null,
   "metadata": {
    "tags": []
   },
   "outputs": [],
   "source": [
    "strategy_comparison = stats['strategy_comparison']\n",
    "stats['strategy']['YoyoActionStrategy'].keys()"
   ]
  },
  {
   "cell_type": "code",
   "execution_count": null,
   "metadata": {},
   "outputs": [],
   "source": [
    "stats['strategy']['YoyoActionStrategy']['trades']"
   ]
  },
  {
   "cell_type": "code",
   "execution_count": null,
   "metadata": {},
   "outputs": [],
   "source": [
    "# Load data using values set above\n",
    "from freqtrade.data.history import load_pair_history\n",
    "\n",
    "candles = load_pair_history(datadir=data_location,\n",
    "                            timeframe=config[\"timeframe\"],\n",
    "                            pair=pair)\n",
    "\n",
    "# Confirm success\n",
    "print(\"Loaded \" + str(len(candles)) + f\" rows of data for {pair} from {data_location}\")\n",
    "candles.head()"
   ]
  },
  {
   "cell_type": "code",
   "execution_count": null,
   "metadata": {},
   "outputs": [],
   "source": [
    "# Load strategy using values set above\n",
    "from freqtrade.resolvers import StrategyResolver\n",
    "strategy = StrategyResolver.load_strategy(config)\n",
    "\n",
    "# Generate buy/sell signals using strategy\n",
    "df = strategy.analyze_ticker(candles, {'pair': pair})\n",
    "df.tail()"
   ]
  },
  {
   "cell_type": "code",
   "execution_count": null,
   "metadata": {},
   "outputs": [],
   "source": [
    "# Report results\n",
    "print(f\"Generated {df['buy'].sum()} buy signals\")\n",
    "data = df.set_index('date', drop=False)\n",
    "data.tail()"
   ]
  },
  {
   "cell_type": "code",
   "execution_count": null,
   "metadata": {},
   "outputs": [],
   "source": [
    "trades = load_backtest_data(backtest_dir)\n",
    "\n",
    "# Show value-counts per pair\n",
    "trades.groupby(\"pair\")[\"sell_reason\"].value_counts()"
   ]
  },
  {
   "cell_type": "code",
   "execution_count": null,
   "metadata": {},
   "outputs": [],
   "source": [
    "trades"
   ]
  },
  {
   "cell_type": "code",
   "execution_count": null,
   "metadata": {},
   "outputs": [],
   "source": [
    "from freqtrade.data.btanalysis import analyze_trade_parallelism\n",
    "\n",
    "# Analyze the above\n",
    "parallel_trades = analyze_trade_parallelism(trades, '4h')\n",
    "\n",
    "parallel_trades.plot()"
   ]
  },
  {
   "cell_type": "code",
   "execution_count": null,
   "metadata": {},
   "outputs": [],
   "source": [
    "from freqtrade.plot.plotting import  generate_candlestick_graph\n",
    "# Limit graph period to keep plotly quick and reactive\n",
    "\n",
    "# Filter trades to one pair\n",
    "trades_red = trades.loc[trades['pair'] == pair]\n",
    "data.set_index('date', drop=False)\n",
    "data_red = data['2017-01-01':'2021-06-10']\n",
    "# Generate candlestick graph\n",
    "graph = generate_candlestick_graph(pair=pair,\n",
    "                                   data=data_red,\n",
    "                                   trades=trades_red,\n",
    "                                   indicators1=['ema_fast', 'ema_slow', 'trail2','greenLine'],\n",
    "                                   indicators2=['rsi']\n",
    "                                  )\n",
    "\n",
    "graph.show(renderer=\"browser\")\n"
   ]
  },
  {
   "cell_type": "code",
   "execution_count": null,
   "metadata": {},
   "outputs": [],
   "source": [
    " trades.loc[trades['pair'] == pair]"
   ]
  },
  {
   "cell_type": "code",
   "execution_count": null,
   "metadata": {},
   "outputs": [],
   "source": [
    "trades.columns\n"
   ]
  },
  {
   "cell_type": "code",
   "execution_count": null,
   "metadata": {},
   "outputs": [],
   "source": [
    "trades.loc[trades['pair'] == pair,['pair','stake_amount','profit_ratio','profit_abs','stop_loss_abs','stop_loss_ratio','min_rate','max_rate']]"
   ]
  },
  {
   "cell_type": "code",
   "execution_count": null,
   "metadata": {},
   "outputs": [],
   "source": [
    "trades['maximum_lost'] = trades.groupby(\"pair\")['profit_ratio'].agg('min')\n",
    "# trades.groupby(\"pair\")[\"sell_reason\"].value_counts()\n",
    "trades.loc[:,['pair','stake_amount','profit_ratio','profit_abs','stop_loss_abs','stop_loss_ratio','min_rate','max_rate','maximum_lost']]"
   ]
  },
  {
   "cell_type": "code",
   "execution_count": null,
   "metadata": {},
   "outputs": [],
   "source": [
    "\n",
    "summaryTrade = trades.groupby(\"pair\").agg(\n",
    "    maximum_lost = pd.NamedAgg(column='profit_ratio' , aggfunc=min),\n",
    "    #trades_count = pd.NamedAgg(column='profit_ratio', aggfunc=count),\n",
    "    trades_count = pd.NamedAgg(column='profit_ratio', aggfunc=lambda x:x.count())\n",
    "    \n",
    ")\n",
    "summaryTrade['win_count'] = trades.loc[(trades['profit_ratio'] > 0 )].groupby(\"pair\")['profit_ratio'].count()\n",
    "summaryTrade['loss_count'] = trades.loc[(trades['profit_ratio'] < 0 )].groupby(\"pair\")['profit_ratio'].count()\n",
    "summaryTrade['win_ration'] = trades.loc[(trades['profit_ratio'] > 0 )].groupby(\"pair\")['profit_ratio'].count()/summaryTrade['trades_count']\n",
    "summaryTrade['loss_ration'] = trades.loc[(trades['profit_ratio'] < 0 )].groupby(\"pair\")['profit_ratio'].count()/summaryTrade['trades_count']\n",
    "\n",
    "summaryTrade['win_avg'] = trades.loc[(trades['profit_ratio'] > 0 )].groupby(\"pair\")['profit_ratio'].mean()\n",
    "summaryTrade['loss_avg'] = trades.loc[(trades['profit_ratio'] < 0 )].groupby(\"pair\")['profit_ratio'].mean()\n",
    "summaryTrade['riskreward'] = abs(summaryTrade['win_avg']/summaryTrade['loss_avg']) \n",
    "\n",
    "summaryTrade['std_win'] =  trades.loc[(trades['profit_ratio'] > 0 )].groupby(\"pair\")['profit_ratio'].apply(lambda x: statistics.stdev(x))\n",
    "summaryTrade['std_loss'] = trades.loc[(trades['profit_ratio'] < 0 )].groupby(\"pair\")['profit_ratio'].apply(lambda x: statistics.stdev(x))\n",
    "summaryTrade['std_all'] =  trades.groupby(\"pair\")['profit_ratio'].apply(lambda x: statistics.stdev(x))\n",
    "summaryTrade['std_riskreward'] = summaryTrade['std_win']/summaryTrade['std_loss']\n",
    "\n",
    "summaryTrade"
   ]
  },
  {
   "cell_type": "code",
   "execution_count": null,
   "metadata": {},
   "outputs": [],
   "source": [
    "statistics.stdev(trades.loc[(trades['profit_ratio'] < 0 ),'profit_ratio'])"
   ]
  },
  {
   "cell_type": "code",
   "execution_count": null,
   "metadata": {},
   "outputs": [],
   "source": []
  }
 ]
}